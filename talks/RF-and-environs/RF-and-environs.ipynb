{
 "cells": [
  {
   "cell_type": "markdown",
   "metadata": {},
   "source": [
    "# Случайный лес и окресности"
   ]
  },
  {
   "cell_type": "code",
   "execution_count": 1,
   "metadata": {
    "ExecuteTime": {
     "end_time": "2018-09-29T10:27:12.792334Z",
     "start_time": "2018-09-29T10:27:01.812633Z"
    }
   },
   "outputs": [
    {
     "name": "stderr",
     "output_type": "stream",
     "text": [
      "C:\\opt\\python36\\python-3.6.3.amd64\\lib\\site-packages\\sklearn\\cross_validation.py:41: DeprecationWarning: This module was deprecated in version 0.18 in favor of the model_selection module into which all the refactored classes and functions are moved. Also note that the interface of the new CV iterators are different from that of this module. This module will be removed in 0.20.\n",
      "  \"This module will be removed in 0.20.\", DeprecationWarning)\n"
     ]
    }
   ],
   "source": [
    "import sys\n",
    "import os\n",
    "import numpy as np\n",
    "import pandas as pd\n",
    "import scipy.stats as stats\n",
    "import matplotlib.pyplot as plt\n",
    "%matplotlib inline\n",
    "\n",
    "import seaborn as sns\n",
    "sns.set_context('notebook'); sns.set_style('darkgrid');\n",
    "\n",
    "#from sklearn.preprocessing import StandardScaler\n",
    "#from sklearn.neighbors import KNeighborsClassifier\n",
    "#from sklearn.neighbors import KNeighborsRegressor\n",
    "#from sklearn.svm import SVC\n",
    "#from sklearn.linear_model import Perceptron\n",
    "#from sklearn.linear_model import Ridge\n",
    "from sklearn.tree import DecisionTreeClassifier\n",
    "from sklearn.tree import DecisionTreeRegressor\n",
    "from sklearn.ensemble import RandomForestRegressor\n",
    "from sklearn.ensemble import RandomForestClassifier\n",
    "from sklearn.ensemble import GradientBoostingClassifier\n",
    "from sklearn.ensemble import GradientBoostingRegressor\n",
    "from sklearn.model_selection import KFold\n",
    "from sklearn.model_selection import cross_val_score\n",
    "from sklearn.model_selection import cross_val_predict\n",
    "#from sklearn.model_selection import GridSearchCV\n",
    "from sklearn.metrics import accuracy_score\n",
    "from sklearn.metrics import precision_score\n",
    "from sklearn.metrics import recall_score\n",
    "from sklearn.metrics import f1_score\n",
    "from sklearn.metrics import roc_auc_score\n",
    "from sklearn.metrics import precision_recall_curve\n",
    "from sklearn.metrics import r2_score\n",
    "from sklearn.metrics import make_scorer\n",
    "from sklearn.metrics import log_loss\n",
    "from sklearn.cross_validation import train_test_split\n",
    "from sklearn.decomposition import PCA\n",
    "#from sklearn.pipeline import Pipeline\n",
    "#from sklearn.externals import joblib\n",
    "from sklearn import datasets\n",
    "#from sklearn.feature_extraction.text import TfidfVectorizer\n",
    "#from sklearn.feature_extraction import DictVectorizer\n",
    "#import scipy.sparse "
   ]
  },
  {
   "cell_type": "markdown",
   "metadata": {},
   "source": [
    "## Test data\n",
    "\n",
    "Нужно зайти на https://www.kaggle.com/c/bioresponse, и сохранить обучающую выборку как Data/gbm-data.csv\n",
    "\n",
    "В первой колонке файла с данными записано, была или нет реакция. Все остальные колонки (d1 - d1776) содержат различные характеристики молекулы"
   ]
  },
  {
   "cell_type": "code",
   "execution_count": 2,
   "metadata": {
    "ExecuteTime": {
     "end_time": "2018-09-29T10:29:25.373698Z",
     "start_time": "2018-09-29T10:29:23.901573Z"
    }
   },
   "outputs": [
    {
     "name": "stdout",
     "output_type": "stream",
     "text": [
      "(3751, 1777)\n"
     ]
    }
   ],
   "source": [
    "directory = 'Data'\n",
    "gbm_data = pd.read_table(os.path.join(directory, 'gbm-data.csv'), sep=\",\")\n",
    "print( gbm_data.shape )"
   ]
  },
  {
   "cell_type": "code",
   "execution_count": 3,
   "metadata": {
    "ExecuteTime": {
     "end_time": "2018-09-29T10:29:30.643415Z",
     "start_time": "2018-09-29T10:29:27.348663Z"
    }
   },
   "outputs": [
    {
     "data": {
      "text/html": [
       "<div>\n",
       "<style scoped>\n",
       "    .dataframe tbody tr th:only-of-type {\n",
       "        vertical-align: middle;\n",
       "    }\n",
       "\n",
       "    .dataframe tbody tr th {\n",
       "        vertical-align: top;\n",
       "    }\n",
       "\n",
       "    .dataframe thead th {\n",
       "        text-align: right;\n",
       "    }\n",
       "</style>\n",
       "<table border=\"1\" class=\"dataframe\">\n",
       "  <thead>\n",
       "    <tr style=\"text-align: right;\">\n",
       "      <th></th>\n",
       "      <th>count</th>\n",
       "      <th>mean</th>\n",
       "      <th>std</th>\n",
       "      <th>min</th>\n",
       "      <th>25%</th>\n",
       "      <th>50%</th>\n",
       "      <th>75%</th>\n",
       "      <th>max</th>\n",
       "    </tr>\n",
       "  </thead>\n",
       "  <tbody>\n",
       "    <tr>\n",
       "      <th>Activity</th>\n",
       "      <td>3751.0</td>\n",
       "      <td>0.542255</td>\n",
       "      <td>0.498278</td>\n",
       "      <td>0.000000</td>\n",
       "      <td>0.000000</td>\n",
       "      <td>1.000000</td>\n",
       "      <td>1.000000</td>\n",
       "      <td>1.000000</td>\n",
       "    </tr>\n",
       "    <tr>\n",
       "      <th>D1</th>\n",
       "      <td>3751.0</td>\n",
       "      <td>0.076948</td>\n",
       "      <td>0.079989</td>\n",
       "      <td>0.000000</td>\n",
       "      <td>0.033300</td>\n",
       "      <td>0.066700</td>\n",
       "      <td>0.100000</td>\n",
       "      <td>1.000000</td>\n",
       "    </tr>\n",
       "    <tr>\n",
       "      <th>D2</th>\n",
       "      <td>3751.0</td>\n",
       "      <td>0.592436</td>\n",
       "      <td>0.105860</td>\n",
       "      <td>0.282128</td>\n",
       "      <td>0.517811</td>\n",
       "      <td>0.585989</td>\n",
       "      <td>0.668395</td>\n",
       "      <td>0.964381</td>\n",
       "    </tr>\n",
       "    <tr>\n",
       "      <th>D3</th>\n",
       "      <td>3751.0</td>\n",
       "      <td>0.068142</td>\n",
       "      <td>0.078414</td>\n",
       "      <td>0.000000</td>\n",
       "      <td>0.000000</td>\n",
       "      <td>0.050000</td>\n",
       "      <td>0.100000</td>\n",
       "      <td>0.950000</td>\n",
       "    </tr>\n",
       "    <tr>\n",
       "      <th>D4</th>\n",
       "      <td>3751.0</td>\n",
       "      <td>0.038990</td>\n",
       "      <td>0.115885</td>\n",
       "      <td>0.000000</td>\n",
       "      <td>0.000000</td>\n",
       "      <td>0.000000</td>\n",
       "      <td>0.000000</td>\n",
       "      <td>1.000000</td>\n",
       "    </tr>\n",
       "    <tr>\n",
       "      <th>D5</th>\n",
       "      <td>3751.0</td>\n",
       "      <td>0.212112</td>\n",
       "      <td>0.102592</td>\n",
       "      <td>0.002630</td>\n",
       "      <td>0.138118</td>\n",
       "      <td>0.190926</td>\n",
       "      <td>0.261726</td>\n",
       "      <td>1.000000</td>\n",
       "    </tr>\n",
       "    <tr>\n",
       "      <th>D6</th>\n",
       "      <td>3751.0</td>\n",
       "      <td>0.686653</td>\n",
       "      <td>0.078702</td>\n",
       "      <td>0.137873</td>\n",
       "      <td>0.625627</td>\n",
       "      <td>0.674037</td>\n",
       "      <td>0.740663</td>\n",
       "      <td>0.994735</td>\n",
       "    </tr>\n",
       "    <tr>\n",
       "      <th>D7</th>\n",
       "      <td>3751.0</td>\n",
       "      <td>0.274713</td>\n",
       "      <td>0.090017</td>\n",
       "      <td>0.006130</td>\n",
       "      <td>0.207374</td>\n",
       "      <td>0.277845</td>\n",
       "      <td>0.335816</td>\n",
       "      <td>0.790831</td>\n",
       "    </tr>\n",
       "    <tr>\n",
       "      <th>D8</th>\n",
       "      <td>3751.0</td>\n",
       "      <td>0.455133</td>\n",
       "      <td>0.162731</td>\n",
       "      <td>0.000000</td>\n",
       "      <td>0.378062</td>\n",
       "      <td>0.499942</td>\n",
       "      <td>0.569962</td>\n",
       "      <td>0.989870</td>\n",
       "    </tr>\n",
       "    <tr>\n",
       "      <th>D9</th>\n",
       "      <td>3751.0</td>\n",
       "      <td>0.749517</td>\n",
       "      <td>0.071702</td>\n",
       "      <td>0.275590</td>\n",
       "      <td>0.707339</td>\n",
       "      <td>0.738961</td>\n",
       "      <td>0.788177</td>\n",
       "      <td>1.000000</td>\n",
       "    </tr>\n",
       "    <tr>\n",
       "      <th>D10</th>\n",
       "      <td>3751.0</td>\n",
       "      <td>0.270411</td>\n",
       "      <td>0.096128</td>\n",
       "      <td>0.003040</td>\n",
       "      <td>0.194357</td>\n",
       "      <td>0.284316</td>\n",
       "      <td>0.344626</td>\n",
       "      <td>1.000000</td>\n",
       "    </tr>\n",
       "    <tr>\n",
       "      <th>D11</th>\n",
       "      <td>3751.0</td>\n",
       "      <td>0.171688</td>\n",
       "      <td>0.177193</td>\n",
       "      <td>0.000000</td>\n",
       "      <td>0.040900</td>\n",
       "      <td>0.127742</td>\n",
       "      <td>0.236559</td>\n",
       "      <td>1.000000</td>\n",
       "    </tr>\n",
       "    <tr>\n",
       "      <th>D12</th>\n",
       "      <td>3751.0</td>\n",
       "      <td>0.079529</td>\n",
       "      <td>0.086347</td>\n",
       "      <td>0.000000</td>\n",
       "      <td>0.000000</td>\n",
       "      <td>0.062500</td>\n",
       "      <td>0.125000</td>\n",
       "      <td>1.000000</td>\n",
       "    </tr>\n",
       "    <tr>\n",
       "      <th>D13</th>\n",
       "      <td>3751.0</td>\n",
       "      <td>0.017066</td>\n",
       "      <td>0.058205</td>\n",
       "      <td>0.000000</td>\n",
       "      <td>0.000000</td>\n",
       "      <td>0.000000</td>\n",
       "      <td>0.000000</td>\n",
       "      <td>1.000000</td>\n",
       "    </tr>\n",
       "    <tr>\n",
       "      <th>D14</th>\n",
       "      <td>3751.0</td>\n",
       "      <td>0.126521</td>\n",
       "      <td>0.066008</td>\n",
       "      <td>0.000000</td>\n",
       "      <td>0.086700</td>\n",
       "      <td>0.111940</td>\n",
       "      <td>0.146727</td>\n",
       "      <td>1.000000</td>\n",
       "    </tr>\n",
       "    <tr>\n",
       "      <th>D15</th>\n",
       "      <td>3751.0</td>\n",
       "      <td>0.516515</td>\n",
       "      <td>0.088258</td>\n",
       "      <td>0.002970</td>\n",
       "      <td>0.490939</td>\n",
       "      <td>0.538590</td>\n",
       "      <td>0.574141</td>\n",
       "      <td>0.725665</td>\n",
       "    </tr>\n",
       "    <tr>\n",
       "      <th>D16</th>\n",
       "      <td>3751.0</td>\n",
       "      <td>0.278736</td>\n",
       "      <td>0.116261</td>\n",
       "      <td>0.000000</td>\n",
       "      <td>0.214897</td>\n",
       "      <td>0.286008</td>\n",
       "      <td>0.316348</td>\n",
       "      <td>0.980615</td>\n",
       "    </tr>\n",
       "    <tr>\n",
       "      <th>D17</th>\n",
       "      <td>3751.0</td>\n",
       "      <td>0.580890</td>\n",
       "      <td>0.107543</td>\n",
       "      <td>0.155826</td>\n",
       "      <td>0.517569</td>\n",
       "      <td>0.583759</td>\n",
       "      <td>0.655975</td>\n",
       "      <td>1.000000</td>\n",
       "    </tr>\n",
       "    <tr>\n",
       "      <th>D18</th>\n",
       "      <td>3751.0</td>\n",
       "      <td>0.196150</td>\n",
       "      <td>0.087323</td>\n",
       "      <td>0.000000</td>\n",
       "      <td>0.167060</td>\n",
       "      <td>0.192559</td>\n",
       "      <td>0.233165</td>\n",
       "      <td>1.000000</td>\n",
       "    </tr>\n",
       "    <tr>\n",
       "      <th>D19</th>\n",
       "      <td>3751.0</td>\n",
       "      <td>0.140164</td>\n",
       "      <td>0.084340</td>\n",
       "      <td>0.001700</td>\n",
       "      <td>0.089100</td>\n",
       "      <td>0.122522</td>\n",
       "      <td>0.164934</td>\n",
       "      <td>0.964094</td>\n",
       "    </tr>\n",
       "    <tr>\n",
       "      <th>D20</th>\n",
       "      <td>3751.0</td>\n",
       "      <td>0.082016</td>\n",
       "      <td>0.078940</td>\n",
       "      <td>0.000000</td>\n",
       "      <td>0.037800</td>\n",
       "      <td>0.057300</td>\n",
       "      <td>0.096350</td>\n",
       "      <td>0.895526</td>\n",
       "    </tr>\n",
       "    <tr>\n",
       "      <th>D21</th>\n",
       "      <td>3751.0</td>\n",
       "      <td>0.012049</td>\n",
       "      <td>0.015626</td>\n",
       "      <td>0.000000</td>\n",
       "      <td>0.005400</td>\n",
       "      <td>0.008110</td>\n",
       "      <td>0.013500</td>\n",
       "      <td>0.483241</td>\n",
       "    </tr>\n",
       "    <tr>\n",
       "      <th>D22</th>\n",
       "      <td>3751.0</td>\n",
       "      <td>0.045368</td>\n",
       "      <td>0.060156</td>\n",
       "      <td>0.000000</td>\n",
       "      <td>0.000000</td>\n",
       "      <td>0.034500</td>\n",
       "      <td>0.069000</td>\n",
       "      <td>0.896552</td>\n",
       "    </tr>\n",
       "    <tr>\n",
       "      <th>D23</th>\n",
       "      <td>3751.0</td>\n",
       "      <td>0.966409</td>\n",
       "      <td>0.180198</td>\n",
       "      <td>0.000000</td>\n",
       "      <td>1.000000</td>\n",
       "      <td>1.000000</td>\n",
       "      <td>1.000000</td>\n",
       "      <td>1.000000</td>\n",
       "    </tr>\n",
       "    <tr>\n",
       "      <th>D24</th>\n",
       "      <td>3751.0</td>\n",
       "      <td>0.051853</td>\n",
       "      <td>0.137879</td>\n",
       "      <td>0.000000</td>\n",
       "      <td>0.000000</td>\n",
       "      <td>0.000000</td>\n",
       "      <td>0.000000</td>\n",
       "      <td>1.000000</td>\n",
       "    </tr>\n",
       "    <tr>\n",
       "      <th>D25</th>\n",
       "      <td>3751.0</td>\n",
       "      <td>0.493408</td>\n",
       "      <td>0.075702</td>\n",
       "      <td>0.000000</td>\n",
       "      <td>0.445908</td>\n",
       "      <td>0.488761</td>\n",
       "      <td>0.537693</td>\n",
       "      <td>0.966400</td>\n",
       "    </tr>\n",
       "    <tr>\n",
       "      <th>D26</th>\n",
       "      <td>3751.0</td>\n",
       "      <td>0.742171</td>\n",
       "      <td>0.112946</td>\n",
       "      <td>0.071600</td>\n",
       "      <td>0.674692</td>\n",
       "      <td>0.759480</td>\n",
       "      <td>0.823669</td>\n",
       "      <td>1.000000</td>\n",
       "    </tr>\n",
       "    <tr>\n",
       "      <th>D27</th>\n",
       "      <td>3751.0</td>\n",
       "      <td>0.520661</td>\n",
       "      <td>0.499640</td>\n",
       "      <td>0.000000</td>\n",
       "      <td>0.000000</td>\n",
       "      <td>1.000000</td>\n",
       "      <td>1.000000</td>\n",
       "      <td>1.000000</td>\n",
       "    </tr>\n",
       "    <tr>\n",
       "      <th>D28</th>\n",
       "      <td>3751.0</td>\n",
       "      <td>0.890696</td>\n",
       "      <td>0.312062</td>\n",
       "      <td>0.000000</td>\n",
       "      <td>1.000000</td>\n",
       "      <td>1.000000</td>\n",
       "      <td>1.000000</td>\n",
       "      <td>1.000000</td>\n",
       "    </tr>\n",
       "    <tr>\n",
       "      <th>D29</th>\n",
       "      <td>3751.0</td>\n",
       "      <td>0.069937</td>\n",
       "      <td>0.145437</td>\n",
       "      <td>0.000000</td>\n",
       "      <td>0.000000</td>\n",
       "      <td>0.000000</td>\n",
       "      <td>0.166667</td>\n",
       "      <td>1.000000</td>\n",
       "    </tr>\n",
       "    <tr>\n",
       "      <th>...</th>\n",
       "      <td>...</td>\n",
       "      <td>...</td>\n",
       "      <td>...</td>\n",
       "      <td>...</td>\n",
       "      <td>...</td>\n",
       "      <td>...</td>\n",
       "      <td>...</td>\n",
       "      <td>...</td>\n",
       "    </tr>\n",
       "    <tr>\n",
       "      <th>D1747</th>\n",
       "      <td>3751.0</td>\n",
       "      <td>0.017062</td>\n",
       "      <td>0.129520</td>\n",
       "      <td>0.000000</td>\n",
       "      <td>0.000000</td>\n",
       "      <td>0.000000</td>\n",
       "      <td>0.000000</td>\n",
       "      <td>1.000000</td>\n",
       "    </tr>\n",
       "    <tr>\n",
       "      <th>D1748</th>\n",
       "      <td>3751.0</td>\n",
       "      <td>0.010664</td>\n",
       "      <td>0.102727</td>\n",
       "      <td>0.000000</td>\n",
       "      <td>0.000000</td>\n",
       "      <td>0.000000</td>\n",
       "      <td>0.000000</td>\n",
       "      <td>1.000000</td>\n",
       "    </tr>\n",
       "    <tr>\n",
       "      <th>D1749</th>\n",
       "      <td>3751.0</td>\n",
       "      <td>0.035457</td>\n",
       "      <td>0.184957</td>\n",
       "      <td>0.000000</td>\n",
       "      <td>0.000000</td>\n",
       "      <td>0.000000</td>\n",
       "      <td>0.000000</td>\n",
       "      <td>1.000000</td>\n",
       "    </tr>\n",
       "    <tr>\n",
       "      <th>D1750</th>\n",
       "      <td>3751.0</td>\n",
       "      <td>0.013330</td>\n",
       "      <td>0.114698</td>\n",
       "      <td>0.000000</td>\n",
       "      <td>0.000000</td>\n",
       "      <td>0.000000</td>\n",
       "      <td>0.000000</td>\n",
       "      <td>1.000000</td>\n",
       "    </tr>\n",
       "    <tr>\n",
       "      <th>D1751</th>\n",
       "      <td>3751.0</td>\n",
       "      <td>0.018395</td>\n",
       "      <td>0.134393</td>\n",
       "      <td>0.000000</td>\n",
       "      <td>0.000000</td>\n",
       "      <td>0.000000</td>\n",
       "      <td>0.000000</td>\n",
       "      <td>1.000000</td>\n",
       "    </tr>\n",
       "    <tr>\n",
       "      <th>D1752</th>\n",
       "      <td>3751.0</td>\n",
       "      <td>0.027459</td>\n",
       "      <td>0.163439</td>\n",
       "      <td>0.000000</td>\n",
       "      <td>0.000000</td>\n",
       "      <td>0.000000</td>\n",
       "      <td>0.000000</td>\n",
       "      <td>1.000000</td>\n",
       "    </tr>\n",
       "    <tr>\n",
       "      <th>D1753</th>\n",
       "      <td>3751.0</td>\n",
       "      <td>0.014929</td>\n",
       "      <td>0.121286</td>\n",
       "      <td>0.000000</td>\n",
       "      <td>0.000000</td>\n",
       "      <td>0.000000</td>\n",
       "      <td>0.000000</td>\n",
       "      <td>1.000000</td>\n",
       "    </tr>\n",
       "    <tr>\n",
       "      <th>D1754</th>\n",
       "      <td>3751.0</td>\n",
       "      <td>0.014396</td>\n",
       "      <td>0.119133</td>\n",
       "      <td>0.000000</td>\n",
       "      <td>0.000000</td>\n",
       "      <td>0.000000</td>\n",
       "      <td>0.000000</td>\n",
       "      <td>1.000000</td>\n",
       "    </tr>\n",
       "    <tr>\n",
       "      <th>D1755</th>\n",
       "      <td>3751.0</td>\n",
       "      <td>0.024793</td>\n",
       "      <td>0.155516</td>\n",
       "      <td>0.000000</td>\n",
       "      <td>0.000000</td>\n",
       "      <td>0.000000</td>\n",
       "      <td>0.000000</td>\n",
       "      <td>1.000000</td>\n",
       "    </tr>\n",
       "    <tr>\n",
       "      <th>D1756</th>\n",
       "      <td>3751.0</td>\n",
       "      <td>0.011197</td>\n",
       "      <td>0.105236</td>\n",
       "      <td>0.000000</td>\n",
       "      <td>0.000000</td>\n",
       "      <td>0.000000</td>\n",
       "      <td>0.000000</td>\n",
       "      <td>1.000000</td>\n",
       "    </tr>\n",
       "    <tr>\n",
       "      <th>D1757</th>\n",
       "      <td>3751.0</td>\n",
       "      <td>0.028792</td>\n",
       "      <td>0.167245</td>\n",
       "      <td>0.000000</td>\n",
       "      <td>0.000000</td>\n",
       "      <td>0.000000</td>\n",
       "      <td>0.000000</td>\n",
       "      <td>1.000000</td>\n",
       "    </tr>\n",
       "    <tr>\n",
       "      <th>D1758</th>\n",
       "      <td>3751.0</td>\n",
       "      <td>0.012530</td>\n",
       "      <td>0.111249</td>\n",
       "      <td>0.000000</td>\n",
       "      <td>0.000000</td>\n",
       "      <td>0.000000</td>\n",
       "      <td>0.000000</td>\n",
       "      <td>1.000000</td>\n",
       "    </tr>\n",
       "    <tr>\n",
       "      <th>D1759</th>\n",
       "      <td>3751.0</td>\n",
       "      <td>0.021061</td>\n",
       "      <td>0.143607</td>\n",
       "      <td>0.000000</td>\n",
       "      <td>0.000000</td>\n",
       "      <td>0.000000</td>\n",
       "      <td>0.000000</td>\n",
       "      <td>1.000000</td>\n",
       "    </tr>\n",
       "    <tr>\n",
       "      <th>D1760</th>\n",
       "      <td>3751.0</td>\n",
       "      <td>0.012797</td>\n",
       "      <td>0.112411</td>\n",
       "      <td>0.000000</td>\n",
       "      <td>0.000000</td>\n",
       "      <td>0.000000</td>\n",
       "      <td>0.000000</td>\n",
       "      <td>1.000000</td>\n",
       "    </tr>\n",
       "    <tr>\n",
       "      <th>D1761</th>\n",
       "      <td>3751.0</td>\n",
       "      <td>0.028526</td>\n",
       "      <td>0.166491</td>\n",
       "      <td>0.000000</td>\n",
       "      <td>0.000000</td>\n",
       "      <td>0.000000</td>\n",
       "      <td>0.000000</td>\n",
       "      <td>1.000000</td>\n",
       "    </tr>\n",
       "    <tr>\n",
       "      <th>D1762</th>\n",
       "      <td>3751.0</td>\n",
       "      <td>0.016796</td>\n",
       "      <td>0.128522</td>\n",
       "      <td>0.000000</td>\n",
       "      <td>0.000000</td>\n",
       "      <td>0.000000</td>\n",
       "      <td>0.000000</td>\n",
       "      <td>1.000000</td>\n",
       "    </tr>\n",
       "    <tr>\n",
       "      <th>D1763</th>\n",
       "      <td>3751.0</td>\n",
       "      <td>0.014396</td>\n",
       "      <td>0.119133</td>\n",
       "      <td>0.000000</td>\n",
       "      <td>0.000000</td>\n",
       "      <td>0.000000</td>\n",
       "      <td>0.000000</td>\n",
       "      <td>1.000000</td>\n",
       "    </tr>\n",
       "    <tr>\n",
       "      <th>D1764</th>\n",
       "      <td>3751.0</td>\n",
       "      <td>0.029859</td>\n",
       "      <td>0.170220</td>\n",
       "      <td>0.000000</td>\n",
       "      <td>0.000000</td>\n",
       "      <td>0.000000</td>\n",
       "      <td>0.000000</td>\n",
       "      <td>1.000000</td>\n",
       "    </tr>\n",
       "    <tr>\n",
       "      <th>D1765</th>\n",
       "      <td>3751.0</td>\n",
       "      <td>0.019995</td>\n",
       "      <td>0.140000</td>\n",
       "      <td>0.000000</td>\n",
       "      <td>0.000000</td>\n",
       "      <td>0.000000</td>\n",
       "      <td>0.000000</td>\n",
       "      <td>1.000000</td>\n",
       "    </tr>\n",
       "    <tr>\n",
       "      <th>D1766</th>\n",
       "      <td>3751.0</td>\n",
       "      <td>0.018128</td>\n",
       "      <td>0.133434</td>\n",
       "      <td>0.000000</td>\n",
       "      <td>0.000000</td>\n",
       "      <td>0.000000</td>\n",
       "      <td>0.000000</td>\n",
       "      <td>1.000000</td>\n",
       "    </tr>\n",
       "    <tr>\n",
       "      <th>D1767</th>\n",
       "      <td>3751.0</td>\n",
       "      <td>0.026926</td>\n",
       "      <td>0.161889</td>\n",
       "      <td>0.000000</td>\n",
       "      <td>0.000000</td>\n",
       "      <td>0.000000</td>\n",
       "      <td>0.000000</td>\n",
       "      <td>1.000000</td>\n",
       "    </tr>\n",
       "    <tr>\n",
       "      <th>D1768</th>\n",
       "      <td>3751.0</td>\n",
       "      <td>0.014663</td>\n",
       "      <td>0.120215</td>\n",
       "      <td>0.000000</td>\n",
       "      <td>0.000000</td>\n",
       "      <td>0.000000</td>\n",
       "      <td>0.000000</td>\n",
       "      <td>1.000000</td>\n",
       "    </tr>\n",
       "    <tr>\n",
       "      <th>D1769</th>\n",
       "      <td>3751.0</td>\n",
       "      <td>0.013863</td>\n",
       "      <td>0.116938</td>\n",
       "      <td>0.000000</td>\n",
       "      <td>0.000000</td>\n",
       "      <td>0.000000</td>\n",
       "      <td>0.000000</td>\n",
       "      <td>1.000000</td>\n",
       "    </tr>\n",
       "    <tr>\n",
       "      <th>D1770</th>\n",
       "      <td>3751.0</td>\n",
       "      <td>0.021861</td>\n",
       "      <td>0.146249</td>\n",
       "      <td>0.000000</td>\n",
       "      <td>0.000000</td>\n",
       "      <td>0.000000</td>\n",
       "      <td>0.000000</td>\n",
       "      <td>1.000000</td>\n",
       "    </tr>\n",
       "    <tr>\n",
       "      <th>D1771</th>\n",
       "      <td>3751.0</td>\n",
       "      <td>0.015196</td>\n",
       "      <td>0.122348</td>\n",
       "      <td>0.000000</td>\n",
       "      <td>0.000000</td>\n",
       "      <td>0.000000</td>\n",
       "      <td>0.000000</td>\n",
       "      <td>1.000000</td>\n",
       "    </tr>\n",
       "    <tr>\n",
       "      <th>D1772</th>\n",
       "      <td>3751.0</td>\n",
       "      <td>0.016796</td>\n",
       "      <td>0.128522</td>\n",
       "      <td>0.000000</td>\n",
       "      <td>0.000000</td>\n",
       "      <td>0.000000</td>\n",
       "      <td>0.000000</td>\n",
       "      <td>1.000000</td>\n",
       "    </tr>\n",
       "    <tr>\n",
       "      <th>D1773</th>\n",
       "      <td>3751.0</td>\n",
       "      <td>0.012263</td>\n",
       "      <td>0.110074</td>\n",
       "      <td>0.000000</td>\n",
       "      <td>0.000000</td>\n",
       "      <td>0.000000</td>\n",
       "      <td>0.000000</td>\n",
       "      <td>1.000000</td>\n",
       "    </tr>\n",
       "    <tr>\n",
       "      <th>D1774</th>\n",
       "      <td>3751.0</td>\n",
       "      <td>0.011730</td>\n",
       "      <td>0.107683</td>\n",
       "      <td>0.000000</td>\n",
       "      <td>0.000000</td>\n",
       "      <td>0.000000</td>\n",
       "      <td>0.000000</td>\n",
       "      <td>1.000000</td>\n",
       "    </tr>\n",
       "    <tr>\n",
       "      <th>D1775</th>\n",
       "      <td>3751.0</td>\n",
       "      <td>0.020261</td>\n",
       "      <td>0.140911</td>\n",
       "      <td>0.000000</td>\n",
       "      <td>0.000000</td>\n",
       "      <td>0.000000</td>\n",
       "      <td>0.000000</td>\n",
       "      <td>1.000000</td>\n",
       "    </tr>\n",
       "    <tr>\n",
       "      <th>D1776</th>\n",
       "      <td>3751.0</td>\n",
       "      <td>0.011197</td>\n",
       "      <td>0.105236</td>\n",
       "      <td>0.000000</td>\n",
       "      <td>0.000000</td>\n",
       "      <td>0.000000</td>\n",
       "      <td>0.000000</td>\n",
       "      <td>1.000000</td>\n",
       "    </tr>\n",
       "  </tbody>\n",
       "</table>\n",
       "<p>1777 rows × 8 columns</p>\n",
       "</div>"
      ],
      "text/plain": [
       "           count      mean       std       min       25%       50%       75%  \\\n",
       "Activity  3751.0  0.542255  0.498278  0.000000  0.000000  1.000000  1.000000   \n",
       "D1        3751.0  0.076948  0.079989  0.000000  0.033300  0.066700  0.100000   \n",
       "D2        3751.0  0.592436  0.105860  0.282128  0.517811  0.585989  0.668395   \n",
       "D3        3751.0  0.068142  0.078414  0.000000  0.000000  0.050000  0.100000   \n",
       "D4        3751.0  0.038990  0.115885  0.000000  0.000000  0.000000  0.000000   \n",
       "D5        3751.0  0.212112  0.102592  0.002630  0.138118  0.190926  0.261726   \n",
       "D6        3751.0  0.686653  0.078702  0.137873  0.625627  0.674037  0.740663   \n",
       "D7        3751.0  0.274713  0.090017  0.006130  0.207374  0.277845  0.335816   \n",
       "D8        3751.0  0.455133  0.162731  0.000000  0.378062  0.499942  0.569962   \n",
       "D9        3751.0  0.749517  0.071702  0.275590  0.707339  0.738961  0.788177   \n",
       "D10       3751.0  0.270411  0.096128  0.003040  0.194357  0.284316  0.344626   \n",
       "D11       3751.0  0.171688  0.177193  0.000000  0.040900  0.127742  0.236559   \n",
       "D12       3751.0  0.079529  0.086347  0.000000  0.000000  0.062500  0.125000   \n",
       "D13       3751.0  0.017066  0.058205  0.000000  0.000000  0.000000  0.000000   \n",
       "D14       3751.0  0.126521  0.066008  0.000000  0.086700  0.111940  0.146727   \n",
       "D15       3751.0  0.516515  0.088258  0.002970  0.490939  0.538590  0.574141   \n",
       "D16       3751.0  0.278736  0.116261  0.000000  0.214897  0.286008  0.316348   \n",
       "D17       3751.0  0.580890  0.107543  0.155826  0.517569  0.583759  0.655975   \n",
       "D18       3751.0  0.196150  0.087323  0.000000  0.167060  0.192559  0.233165   \n",
       "D19       3751.0  0.140164  0.084340  0.001700  0.089100  0.122522  0.164934   \n",
       "D20       3751.0  0.082016  0.078940  0.000000  0.037800  0.057300  0.096350   \n",
       "D21       3751.0  0.012049  0.015626  0.000000  0.005400  0.008110  0.013500   \n",
       "D22       3751.0  0.045368  0.060156  0.000000  0.000000  0.034500  0.069000   \n",
       "D23       3751.0  0.966409  0.180198  0.000000  1.000000  1.000000  1.000000   \n",
       "D24       3751.0  0.051853  0.137879  0.000000  0.000000  0.000000  0.000000   \n",
       "D25       3751.0  0.493408  0.075702  0.000000  0.445908  0.488761  0.537693   \n",
       "D26       3751.0  0.742171  0.112946  0.071600  0.674692  0.759480  0.823669   \n",
       "D27       3751.0  0.520661  0.499640  0.000000  0.000000  1.000000  1.000000   \n",
       "D28       3751.0  0.890696  0.312062  0.000000  1.000000  1.000000  1.000000   \n",
       "D29       3751.0  0.069937  0.145437  0.000000  0.000000  0.000000  0.166667   \n",
       "...          ...       ...       ...       ...       ...       ...       ...   \n",
       "D1747     3751.0  0.017062  0.129520  0.000000  0.000000  0.000000  0.000000   \n",
       "D1748     3751.0  0.010664  0.102727  0.000000  0.000000  0.000000  0.000000   \n",
       "D1749     3751.0  0.035457  0.184957  0.000000  0.000000  0.000000  0.000000   \n",
       "D1750     3751.0  0.013330  0.114698  0.000000  0.000000  0.000000  0.000000   \n",
       "D1751     3751.0  0.018395  0.134393  0.000000  0.000000  0.000000  0.000000   \n",
       "D1752     3751.0  0.027459  0.163439  0.000000  0.000000  0.000000  0.000000   \n",
       "D1753     3751.0  0.014929  0.121286  0.000000  0.000000  0.000000  0.000000   \n",
       "D1754     3751.0  0.014396  0.119133  0.000000  0.000000  0.000000  0.000000   \n",
       "D1755     3751.0  0.024793  0.155516  0.000000  0.000000  0.000000  0.000000   \n",
       "D1756     3751.0  0.011197  0.105236  0.000000  0.000000  0.000000  0.000000   \n",
       "D1757     3751.0  0.028792  0.167245  0.000000  0.000000  0.000000  0.000000   \n",
       "D1758     3751.0  0.012530  0.111249  0.000000  0.000000  0.000000  0.000000   \n",
       "D1759     3751.0  0.021061  0.143607  0.000000  0.000000  0.000000  0.000000   \n",
       "D1760     3751.0  0.012797  0.112411  0.000000  0.000000  0.000000  0.000000   \n",
       "D1761     3751.0  0.028526  0.166491  0.000000  0.000000  0.000000  0.000000   \n",
       "D1762     3751.0  0.016796  0.128522  0.000000  0.000000  0.000000  0.000000   \n",
       "D1763     3751.0  0.014396  0.119133  0.000000  0.000000  0.000000  0.000000   \n",
       "D1764     3751.0  0.029859  0.170220  0.000000  0.000000  0.000000  0.000000   \n",
       "D1765     3751.0  0.019995  0.140000  0.000000  0.000000  0.000000  0.000000   \n",
       "D1766     3751.0  0.018128  0.133434  0.000000  0.000000  0.000000  0.000000   \n",
       "D1767     3751.0  0.026926  0.161889  0.000000  0.000000  0.000000  0.000000   \n",
       "D1768     3751.0  0.014663  0.120215  0.000000  0.000000  0.000000  0.000000   \n",
       "D1769     3751.0  0.013863  0.116938  0.000000  0.000000  0.000000  0.000000   \n",
       "D1770     3751.0  0.021861  0.146249  0.000000  0.000000  0.000000  0.000000   \n",
       "D1771     3751.0  0.015196  0.122348  0.000000  0.000000  0.000000  0.000000   \n",
       "D1772     3751.0  0.016796  0.128522  0.000000  0.000000  0.000000  0.000000   \n",
       "D1773     3751.0  0.012263  0.110074  0.000000  0.000000  0.000000  0.000000   \n",
       "D1774     3751.0  0.011730  0.107683  0.000000  0.000000  0.000000  0.000000   \n",
       "D1775     3751.0  0.020261  0.140911  0.000000  0.000000  0.000000  0.000000   \n",
       "D1776     3751.0  0.011197  0.105236  0.000000  0.000000  0.000000  0.000000   \n",
       "\n",
       "               max  \n",
       "Activity  1.000000  \n",
       "D1        1.000000  \n",
       "D2        0.964381  \n",
       "D3        0.950000  \n",
       "D4        1.000000  \n",
       "D5        1.000000  \n",
       "D6        0.994735  \n",
       "D7        0.790831  \n",
       "D8        0.989870  \n",
       "D9        1.000000  \n",
       "D10       1.000000  \n",
       "D11       1.000000  \n",
       "D12       1.000000  \n",
       "D13       1.000000  \n",
       "D14       1.000000  \n",
       "D15       0.725665  \n",
       "D16       0.980615  \n",
       "D17       1.000000  \n",
       "D18       1.000000  \n",
       "D19       0.964094  \n",
       "D20       0.895526  \n",
       "D21       0.483241  \n",
       "D22       0.896552  \n",
       "D23       1.000000  \n",
       "D24       1.000000  \n",
       "D25       0.966400  \n",
       "D26       1.000000  \n",
       "D27       1.000000  \n",
       "D28       1.000000  \n",
       "D29       1.000000  \n",
       "...            ...  \n",
       "D1747     1.000000  \n",
       "D1748     1.000000  \n",
       "D1749     1.000000  \n",
       "D1750     1.000000  \n",
       "D1751     1.000000  \n",
       "D1752     1.000000  \n",
       "D1753     1.000000  \n",
       "D1754     1.000000  \n",
       "D1755     1.000000  \n",
       "D1756     1.000000  \n",
       "D1757     1.000000  \n",
       "D1758     1.000000  \n",
       "D1759     1.000000  \n",
       "D1760     1.000000  \n",
       "D1761     1.000000  \n",
       "D1762     1.000000  \n",
       "D1763     1.000000  \n",
       "D1764     1.000000  \n",
       "D1765     1.000000  \n",
       "D1766     1.000000  \n",
       "D1767     1.000000  \n",
       "D1768     1.000000  \n",
       "D1769     1.000000  \n",
       "D1770     1.000000  \n",
       "D1771     1.000000  \n",
       "D1772     1.000000  \n",
       "D1773     1.000000  \n",
       "D1774     1.000000  \n",
       "D1775     1.000000  \n",
       "D1776     1.000000  \n",
       "\n",
       "[1777 rows x 8 columns]"
      ]
     },
     "execution_count": 3,
     "metadata": {},
     "output_type": "execute_result"
    }
   ],
   "source": [
    "gbm_data.describe().T"
   ]
  },
  {
   "cell_type": "code",
   "execution_count": 5,
   "metadata": {
    "ExecuteTime": {
     "end_time": "2018-09-29T10:29:35.065087Z",
     "start_time": "2018-09-29T10:29:35.054178Z"
    }
   },
   "outputs": [
    {
     "data": {
      "text/plain": [
       "Activity\n",
       "0    1717\n",
       "1    2034\n",
       "dtype: int64"
      ]
     },
     "execution_count": 5,
     "metadata": {},
     "output_type": "execute_result"
    }
   ],
   "source": [
    "gbm_data.groupby(['Activity']).size()"
   ]
  },
  {
   "cell_type": "code",
   "execution_count": 6,
   "metadata": {
    "ExecuteTime": {
     "end_time": "2018-09-29T10:29:35.978123Z",
     "start_time": "2018-09-29T10:29:35.970678Z"
    }
   },
   "outputs": [
    {
     "name": "stdout",
     "output_type": "stream",
     "text": [
      "<class 'numpy.ndarray'>\n",
      "(3751,)\n"
     ]
    }
   ],
   "source": [
    "y = gbm_data.Activity.values\n",
    "print( type(y) )\n",
    "print( y.shape )"
   ]
  },
  {
   "cell_type": "code",
   "execution_count": 7,
   "metadata": {
    "ExecuteTime": {
     "end_time": "2018-09-29T10:29:36.822117Z",
     "start_time": "2018-09-29T10:29:36.696130Z"
    }
   },
   "outputs": [
    {
     "name": "stdout",
     "output_type": "stream",
     "text": [
      "<class 'numpy.ndarray'>\n",
      "(3751, 1776)\n"
     ]
    }
   ],
   "source": [
    "X = gbm_data.drop(columns=['Activity']).values\n",
    "print( type(X) )\n",
    "print( X.shape )"
   ]
  },
  {
   "cell_type": "markdown",
   "metadata": {},
   "source": [
    "## RF: preview"
   ]
  },
  {
   "cell_type": "code",
   "execution_count": 8,
   "metadata": {
    "ExecuteTime": {
     "end_time": "2018-09-29T10:29:38.666856Z",
     "start_time": "2018-09-29T10:29:38.413896Z"
    }
   },
   "outputs": [],
   "source": [
    "X_train, X_test, y_train, y_test = train_test_split(X, y, \\\n",
    "                                      test_size=0.8, \\\n",
    "                                      random_state=241)"
   ]
  },
  {
   "cell_type": "code",
   "execution_count": 9,
   "metadata": {
    "ExecuteTime": {
     "end_time": "2018-09-29T10:29:52.146335Z",
     "start_time": "2018-09-29T10:29:39.486924Z"
    }
   },
   "outputs": [
    {
     "name": "stdout",
     "output_type": "stream",
     "text": [
      "10 15 20 25 30 35 40 45 50 55 60 65 70 75 80 85 90 95 100 105 110 115 120 125 "
     ]
    }
   ],
   "source": [
    "X_train, X_test, y_train, y_test = train_test_split(X, y, \\\n",
    "                                      test_size=0.8, \\\n",
    "                                      random_state=241)\n",
    "\n",
    "ns = list(range(10, 130, 5))\n",
    "scores = []\n",
    "for n in ns:\n",
    "    print( n, end=' ' )\n",
    "    rf = RandomForestClassifier(n_estimators=n, random_state=1)\n",
    "    rf.fit(X_train, y_train)\n",
    "    score = log_loss(y_true=y_test, y_pred=rf.predict_proba(X_test) )\n",
    "    scores.append( score )"
   ]
  },
  {
   "cell_type": "code",
   "execution_count": 10,
   "metadata": {
    "ExecuteTime": {
     "end_time": "2018-09-29T10:29:55.998797Z",
     "start_time": "2018-09-29T10:29:55.574717Z"
    }
   },
   "outputs": [
    {
     "data": {
      "text/plain": [
       "[<matplotlib.lines.Line2D at 0x221c263a710>]"
      ]
     },
     "execution_count": 10,
     "metadata": {},
     "output_type": "execute_result"
    },
    {
     "data": {
      "image/png": "[encoded data removed]",
      "text/plain": [
       "<matplotlib.figure.Figure at 0x221c2764898>"
      ]
     },
     "metadata": {},
     "output_type": "display_data"
    }
   ],
   "source": [
    "plt.figure(figsize=(15, 8))\n",
    "plt.plot(ns, scores, linewidth=3)"
   ]
  },
  {
   "cell_type": "markdown",
   "metadata": {},
   "source": [
    "## Trees\n",
    "\n",
    "see https://github.com/ageron/handson-ml/blob/master/06_decision_trees.ipynb"
   ]
  },
  {
   "cell_type": "code",
   "execution_count": 11,
   "metadata": {
    "ExecuteTime": {
     "end_time": "2018-09-29T10:30:02.355288Z",
     "start_time": "2018-09-29T10:30:02.308168Z"
    },
    "hide_input": true
   },
   "outputs": [
    {
     "data": {
      "text/plain": [
       "DecisionTreeClassifier(class_weight=None, criterion='gini', max_depth=2,\n",
       "            max_features=None, max_leaf_nodes=None,\n",
       "            min_impurity_decrease=0.0, min_impurity_split=None,\n",
       "            min_samples_leaf=1, min_samples_split=2,\n",
       "            min_weight_fraction_leaf=0.0, presort=False, random_state=42,\n",
       "            splitter='best')"
      ]
     },
     "execution_count": 11,
     "metadata": {},
     "output_type": "execute_result"
    }
   ],
   "source": [
    "iris = datasets.load_iris()\n",
    "X = iris.data[:, 2:] # petal length and width\n",
    "y = iris.target\n",
    "\n",
    "tree_clf = DecisionTreeClassifier(max_depth=2, random_state=42)\n",
    "tree_clf.fit(X, y)"
   ]
  },
  {
   "cell_type": "code",
   "execution_count": 13,
   "metadata": {
    "ExecuteTime": {
     "end_time": "2018-09-29T10:33:23.672804Z",
     "start_time": "2018-09-29T10:33:23.660402Z"
    },
    "hide_input": false
   },
   "outputs": [],
   "source": [
    "from sklearn.tree import export_graphviz\n",
    "\n",
    "# Сохраним описание дерева в dot-файл. Это формат библиотеки graphviz\n",
    "dot_file = os.path.join(directory, 'iris_tree.dot')\n",
    "export_graphviz(\n",
    "        tree_clf,\n",
    "        out_file=dot_file,\n",
    "        feature_names=iris.feature_names[2:],\n",
    "        class_names=iris.target_names,\n",
    "        rounded=True,\n",
    "        filled=True\n",
    "    )"
   ]
  },
  {
   "cell_type": "code",
   "execution_count": 14,
   "metadata": {
    "ExecuteTime": {
     "end_time": "2018-09-29T10:34:22.901063Z",
     "start_time": "2018-09-29T10:34:22.896103Z"
    },
    "hide_input": false
   },
   "outputs": [],
   "source": [
    "# Используем консольную утилиту \"dot\", что бы нарисовать картинку\n",
    "# !C:\\opt\\Graphviz2.38\\bin\\dot.exe -Tpng -o Data\\iris_tree.png Data\\iris_tree.dot"
   ]
  },
  {
   "cell_type": "markdown",
   "metadata": {
    "hide_input": false
   },
   "source": [
    "![](Data\\iris_tree.png)"
   ]
  },
  {
   "cell_type": "code",
   "execution_count": 18,
   "metadata": {
    "ExecuteTime": {
     "end_time": "2018-09-05T16:43:45.333503Z",
     "start_time": "2018-09-05T16:43:44.638177Z"
    },
    "hide_input": false
   },
   "outputs": [
    {
     "data": {
      "image/png": "[encoded data removed]",
      "text/plain": [
       "<matplotlib.figure.Figure at 0x1939973c6a0>"
      ]
     },
     "metadata": {},
     "output_type": "display_data"
    }
   ],
   "source": [
    "from matplotlib.colors import ListedColormap\n",
    "\n",
    "def plot_decision_boundary(clf, X, y, axes=[0, 7.5, 0, 3], iris=True, legend=False, plot_training=True):\n",
    "    x1s = np.linspace(axes[0], axes[1], 100)\n",
    "    x2s = np.linspace(axes[2], axes[3], 100)\n",
    "    x1, x2 = np.meshgrid(x1s, x2s)\n",
    "    X_new = np.c_[x1.ravel(), x2.ravel()]\n",
    "    y_pred = clf.predict(X_new).reshape(x1.shape)\n",
    "    custom_cmap = ListedColormap(['#fafab0','#9898ff','#a0faa0'])\n",
    "    plt.contourf(x1, x2, y_pred, alpha=0.3, cmap=custom_cmap)\n",
    "    if not iris:\n",
    "        custom_cmap2 = ListedColormap(['#7d7d58','#4c4c7f','#507d50'])\n",
    "        plt.contour(x1, x2, y_pred, cmap=custom_cmap2, alpha=0.8)\n",
    "    if plot_training:\n",
    "        plt.plot(X[:, 0][y==0], X[:, 1][y==0], \"yo\", label=\"Iris-Setosa\")\n",
    "        plt.plot(X[:, 0][y==1], X[:, 1][y==1], \"bs\", label=\"Iris-Versicolor\")\n",
    "        plt.plot(X[:, 0][y==2], X[:, 1][y==2], \"g^\", label=\"Iris-Virginica\")\n",
    "        plt.axis(axes)\n",
    "    if iris:\n",
    "        plt.xlabel(\"Petal length\", fontsize=14)\n",
    "        plt.ylabel(\"Petal width\", fontsize=14)\n",
    "    else:\n",
    "        plt.xlabel(r\"$x_1$\", fontsize=18)\n",
    "        plt.ylabel(r\"$x_2$\", fontsize=18, rotation=0)\n",
    "    if legend:\n",
    "        plt.legend(loc=\"lower right\", fontsize=14)\n",
    "\n",
    "plt.figure(figsize=(15, 8))\n",
    "plot_decision_boundary(tree_clf, X, y)\n",
    "plt.plot([2.45, 2.45], [0, 3], \"k-\", linewidth=2)\n",
    "plt.plot([2.45, 7.5], [1.75, 1.75], \"k--\", linewidth=2)\n",
    "plt.plot([4.95, 4.95], [0, 1.75], \"k:\", linewidth=2)\n",
    "plt.plot([4.85, 4.85], [1.75, 3], \"k:\", linewidth=2)\n",
    "plt.text(1.40, 1.0, \"Depth=0\", fontsize=15)\n",
    "plt.text(3.2, 1.80, \"Depth=1\", fontsize=13)\n",
    "plt.text(4.05, 0.5, \"(Depth=2)\", fontsize=11)\n",
    "\n",
    "plt.show()"
   ]
  },
  {
   "cell_type": "markdown",
   "metadata": {},
   "source": [
    "###  Regression tree"
   ]
  },
  {
   "cell_type": "code",
   "execution_count": 20,
   "metadata": {
    "ExecuteTime": {
     "end_time": "2018-09-06T06:01:15.477079Z",
     "start_time": "2018-09-06T06:01:15.465110Z"
    }
   },
   "outputs": [],
   "source": [
    "# Quadratic training set + noise# Quadra \n",
    "np.random.seed(42)\n",
    "m = 200\n",
    "X = np.random.rand(m, 1)\n",
    "y = 4 * (X - 0.5) ** 2\n",
    "y = y + np.random.randn(m, 1) / 10"
   ]
  },
  {
   "cell_type": "code",
   "execution_count": 23,
   "metadata": {
    "ExecuteTime": {
     "end_time": "2018-09-06T06:02:12.911791Z",
     "start_time": "2018-09-06T06:02:12.893839Z"
    }
   },
   "outputs": [
    {
     "data": {
      "text/plain": [
       "DecisionTreeRegressor(criterion='mse', max_depth=2, max_features=None,\n",
       "           max_leaf_nodes=None, min_impurity_decrease=0.0,\n",
       "           min_impurity_split=None, min_samples_leaf=1,\n",
       "           min_samples_split=2, min_weight_fraction_leaf=0.0,\n",
       "           presort=False, random_state=42, splitter='best')"
      ]
     },
     "execution_count": 23,
     "metadata": {},
     "output_type": "execute_result"
    }
   ],
   "source": [
    "tree_reg = DecisionTreeRegressor(max_depth=2, random_state=42)\n",
    "tree_reg.fit(X, y)"
   ]
  },
  {
   "cell_type": "code",
   "execution_count": 38,
   "metadata": {
    "ExecuteTime": {
     "end_time": "2018-09-06T06:18:02.631342Z",
     "start_time": "2018-09-06T06:18:01.900236Z"
    }
   },
   "outputs": [
    {
     "data": {
      "image/png": "[encoded data removed]",
      "text/plain": [
       "<matplotlib.figure.Figure at 0x1939b16b630>"
      ]
     },
     "metadata": {},
     "output_type": "display_data"
    }
   ],
   "source": [
    "tree_reg1 = DecisionTreeRegressor(random_state=42, max_depth=2)\n",
    "tree_reg2 = DecisionTreeRegressor(random_state=42, max_depth=3)\n",
    "tree_reg1.fit(X, y)\n",
    "tree_reg2.fit(X, y)\n",
    "\n",
    "def plot_regression_predictions(tree_reg, X, y, axes=[0, 1, -0.2, 1], ylabel=\"$y$\"):\n",
    "    x1 = np.linspace(axes[0], axes[1], 500).reshape(-1, 1)\n",
    "    y_pred = tree_reg.predict(x1)\n",
    "    plt.axis(axes)\n",
    "    plt.xlabel(\"$x_1$\", fontsize=18)\n",
    "    if ylabel:\n",
    "        plt.ylabel(ylabel, fontsize=18, rotation=0)\n",
    "    plt.plot(X, y, \"b.\", markersize=15)\n",
    "    plt.plot(x1, y_pred, \"r.-\", linewidth=3, label=r\"$\\hat{y}$\")\n",
    "\n",
    "plt.figure(figsize=(17, 9))\n",
    "plt.subplot(121)\n",
    "plot_regression_predictions(tree_reg1, X, y)\n",
    "#for split, style in ((0.1973, \"k-\"), (0.0917, \"k--\"), (0.7718, \"k--\")):\n",
    "#    plt.plot([split, split], [-0.2, 1], style, linewidth=3)\n",
    "#plt.text(0.21, 0.65, \"Depth=0\", fontsize=15)\n",
    "#plt.text(0.01, 0.2, \"Depth=1\", fontsize=13)\n",
    "#plt.text(0.65, 0.8, \"Depth=1\", fontsize=13)\n",
    "plt.legend(loc=\"upper center\", fontsize=18)\n",
    "plt.title(\"max_depth=2\", fontsize=14)\n",
    "\n",
    "plt.subplot(122)\n",
    "plot_regression_predictions(tree_reg2, X, y, ylabel=None)\n",
    "#for split, style in ((0.1973, \"k-\"), (0.0917, \"k--\"), (0.7718, \"k--\")):\n",
    "#    plt.plot([split, split], [-0.2, 1], style, linewidth=3)\n",
    "#for split in (0.0458, 0.1298, 0.2873, 0.9040):\n",
    "#    plt.plot([split, split], [-0.2, 1], \"k:\", linewidth=2)\n",
    "#plt.text(0.3, 0.5, \"Depth=2\", fontsize=13)\n",
    "plt.title(\"max_depth=3\", fontsize=14)\n",
    "\n",
    "plt.show()"
   ]
  },
  {
   "cell_type": "markdown",
   "metadata": {},
   "source": [
    "## Gradient Boosting\n",
    "https://github.com/ageron/handson-ml/blob/master/07_ensemble_learning_and_random_forests.ipynb"
   ]
  },
  {
   "cell_type": "code",
   "execution_count": 39,
   "metadata": {
    "ExecuteTime": {
     "end_time": "2018-09-06T09:06:36.621744Z",
     "start_time": "2018-09-06T09:06:36.577863Z"
    }
   },
   "outputs": [],
   "source": [
    "np.random.seed(42)\n",
    "X = np.random.rand(100, 1) - 0.5\n",
    "y = 3*X[:, 0]**2 + 0.05 * np.random.randn(100)"
   ]
  },
  {
   "cell_type": "code",
   "execution_count": 40,
   "metadata": {
    "ExecuteTime": {
     "end_time": "2018-09-06T09:06:50.637686Z",
     "start_time": "2018-09-06T09:06:50.611762Z"
    }
   },
   "outputs": [
    {
     "data": {
      "text/plain": [
       "DecisionTreeRegressor(criterion='mse', max_depth=2, max_features=None,\n",
       "           max_leaf_nodes=None, min_impurity_decrease=0.0,\n",
       "           min_impurity_split=None, min_samples_leaf=1,\n",
       "           min_samples_split=2, min_weight_fraction_leaf=0.0,\n",
       "           presort=False, random_state=42, splitter='best')"
      ]
     },
     "execution_count": 40,
     "metadata": {},
     "output_type": "execute_result"
    }
   ],
   "source": [
    "tree_reg1 = DecisionTreeRegressor(max_depth=2, random_state=42)\n",
    "tree_reg1.fit(X, y)"
   ]
  },
  {
   "cell_type": "code",
   "execution_count": 41,
   "metadata": {
    "ExecuteTime": {
     "end_time": "2018-09-06T09:07:17.123406Z",
     "start_time": "2018-09-06T09:07:17.110443Z"
    }
   },
   "outputs": [
    {
     "data": {
      "text/plain": [
       "DecisionTreeRegressor(criterion='mse', max_depth=2, max_features=None,\n",
       "           max_leaf_nodes=None, min_impurity_decrease=0.0,\n",
       "           min_impurity_split=None, min_samples_leaf=1,\n",
       "           min_samples_split=2, min_weight_fraction_leaf=0.0,\n",
       "           presort=False, random_state=42, splitter='best')"
      ]
     },
     "execution_count": 41,
     "metadata": {},
     "output_type": "execute_result"
    }
   ],
   "source": [
    "y2 = y - tree_reg1.predict(X)\n",
    "tree_reg2 = DecisionTreeRegressor(max_depth=2, random_state=42)\n",
    "tree_reg2.fit(X, y2)"
   ]
  },
  {
   "cell_type": "code",
   "execution_count": 42,
   "metadata": {
    "ExecuteTime": {
     "end_time": "2018-09-06T09:07:32.579509Z",
     "start_time": "2018-09-06T09:07:32.567530Z"
    }
   },
   "outputs": [
    {
     "data": {
      "text/plain": [
       "DecisionTreeRegressor(criterion='mse', max_depth=2, max_features=None,\n",
       "           max_leaf_nodes=None, min_impurity_decrease=0.0,\n",
       "           min_impurity_split=None, min_samples_leaf=1,\n",
       "           min_samples_split=2, min_weight_fraction_leaf=0.0,\n",
       "           presort=False, random_state=42, splitter='best')"
      ]
     },
     "execution_count": 42,
     "metadata": {},
     "output_type": "execute_result"
    }
   ],
   "source": [
    "y3 = y2 - tree_reg2.predict(X)\n",
    "tree_reg3 = DecisionTreeRegressor(max_depth=2, random_state=42)\n",
    "tree_reg3.fit(X, y3)"
   ]
  },
  {
   "cell_type": "code",
   "execution_count": 44,
   "metadata": {
    "ExecuteTime": {
     "end_time": "2018-09-06T09:08:32.625677Z",
     "start_time": "2018-09-06T09:08:32.615705Z"
    }
   },
   "outputs": [],
   "source": [
    "X_new = np.array([[0.8]])\n",
    "\n",
    "y_pred = sum(tree.predict(X_new) for tree in (tree_reg1, tree_reg2, tree_reg3))"
   ]
  },
  {
   "cell_type": "code",
   "execution_count": 49,
   "metadata": {
    "ExecuteTime": {
     "end_time": "2018-09-06T09:38:07.758814Z",
     "start_time": "2018-09-06T09:38:06.109026Z"
    }
   },
   "outputs": [
    {
     "data": {
      "image/png": "[encoded data removed]",
      "text/plain": [
       "<matplotlib.figure.Figure at 0x19399f10128>"
      ]
     },
     "metadata": {},
     "output_type": "display_data"
    }
   ],
   "source": [
    "def plot_predictions(regressors, X, y, axes, label=None, style=\"r-\", data_style=\"b.\", data_label=None):\n",
    "    x1 = np.linspace(axes[0], axes[1], 500)\n",
    "    y_pred = sum(regressor.predict(x1.reshape(-1, 1)) for regressor in regressors)\n",
    "    plt.plot(X[:, 0], y, data_style, label=data_label, markersize=15)\n",
    "    plt.plot(x1, y_pred, style, linewidth=3, label=label)\n",
    "    if label or data_label:\n",
    "        plt.legend(loc=\"upper center\", fontsize=16)\n",
    "    plt.axis(axes)\n",
    "\n",
    "plt.figure(figsize=(15,11))\n",
    "\n",
    "plt.subplot(321)\n",
    "plot_predictions([tree_reg1], X, y, axes=[-0.5, 0.5, -0.1, 0.8], label=\"$h_1(x_1)$\", style=\"g-\", data_label=\"Training set\")\n",
    "plt.ylabel(\"$y$\", fontsize=16, rotation=0)\n",
    "plt.title(\"Residuals and tree predictions\", fontsize=16)\n",
    "\n",
    "plt.subplot(322)\n",
    "plot_predictions([tree_reg1], X, y, axes=[-0.5, 0.5, -0.1, 0.8], label=\"$h(x_1) = h_1(x_1)$\", data_label=\"Training set\")\n",
    "plt.ylabel(\"$y$\", fontsize=16, rotation=0)\n",
    "plt.title(\"Ensemble predictions\", fontsize=16)\n",
    "\n",
    "plt.subplot(323)\n",
    "plot_predictions([tree_reg2], X, y2, axes=[-0.5, 0.5, -0.5, 0.5], label=\"$h_2(x_1)$\", style=\"g-\", data_style=\"r.\", data_label=\"Residuals\")\n",
    "plt.ylabel(\"$y - h_1(x_1)$\", fontsize=16)\n",
    "\n",
    "plt.subplot(324)\n",
    "plot_predictions([tree_reg1, tree_reg2], X, y, axes=[-0.5, 0.5, -0.1, 0.8], label=\"$h(x_1) = h_1(x_1) + h_2(x_1)$\")\n",
    "plt.ylabel(\"$y$\", fontsize=16, rotation=0)\n",
    "\n",
    "plt.subplot(325)\n",
    "plot_predictions([tree_reg3], X, y3, axes=[-0.5, 0.5, -0.5, 0.5], label=\"$h_3(x_1)$\", style=\"g-\", data_style=\"r.\")\n",
    "plt.ylabel(\"$y - h_1(x_1) - h_2(x_1)$\", fontsize=16)\n",
    "plt.xlabel(\"$x_1$\", fontsize=16)\n",
    "\n",
    "plt.subplot(326)\n",
    "plot_predictions([tree_reg1, tree_reg2, tree_reg3], X, y, axes=[-0.5, 0.5, -0.1, 0.8], label=\"$h(x_1) = h_1(x_1) + h_2(x_1) + h_3(x_1)$\")\n",
    "plt.xlabel(\"$x_1$\", fontsize=16)\n",
    "plt.ylabel(\"$y$\", fontsize=16, rotation=0)\n",
    "\n",
    "#save_fig(\"gradient_boosting_plot\")\n",
    "plt.show()"
   ]
  }
 ],
 "metadata": {
  "hide_input": false,
  "kernelspec": {
   "display_name": "Python 3",
   "language": "python",
   "name": "python3"
  },
  "language_info": {
   "codemirror_mode": {
    "name": "ipython",
    "version": 3
   },
   "file_extension": ".py",
   "mimetype": "text/x-python",
   "name": "python",
   "nbconvert_exporter": "python",
   "pygments_lexer": "ipython3",
   "version": "3.6.3"
  },
  "toc": {
   "nav_menu": {},
   "number_sections": true,
   "sideBar": true,
   "skip_h1_title": false,
   "title_cell": "Table of Contents",
   "title_sidebar": "Contents",
   "toc_cell": false,
   "toc_position": {},
   "toc_section_display": true,
   "toc_window_display": true
  }
 },
 "nbformat": 4,
 "nbformat_minor": 2
}
