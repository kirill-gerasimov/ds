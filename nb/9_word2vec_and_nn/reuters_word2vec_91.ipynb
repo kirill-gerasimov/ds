{
  "nbformat": 4,
  "nbformat_minor": 0,
  "metadata": {
    "colab": {
      "name": "Copy of reuters_word2vec.ipynb",
      "version": "0.3.2",
      "provenance": [],
      "collapsed_sections": []
    },
    "kernelspec": {
      "display_name": "Python 3",
      "language": "python",
      "name": "python3"
    },
    "accelerator": "GPU"
  },
  "cells": [
    {
      "metadata": {
        "id": "6Ko8Ci3MmjZQ",
        "colab_type": "text"
      },
      "cell_type": "markdown",
      "source": [
        "# Text classification with Reuters-21578 datasets"
      ]
    },
    {
      "metadata": {
        "id": "2ynAXNqtmjZY",
        "colab_type": "text"
      },
      "cell_type": "markdown",
      "source": [
        "### See: https://kdd.ics.uci.edu/databases/reuters21578/README.txt for more information"
      ]
    },
    {
      "metadata": {
        "id": "eBDcN8l_mjZe",
        "colab_type": "code",
        "colab": {}
      },
      "cell_type": "code",
      "source": [
        "%pylab inline"
      ],
      "execution_count": 0,
      "outputs": []
    },
    {
      "metadata": {
        "id": "fEIMzBV9m5I5",
        "colab_type": "code",
        "colab": {}
      },
      "cell_type": "code",
      "source": [
        "!pip install gensim"
      ],
      "execution_count": 0,
      "outputs": []
    },
    {
      "metadata": {
        "id": "trog5WMSmjaG",
        "colab_type": "code",
        "colab": {}
      },
      "cell_type": "code",
      "source": [
        "import re\n",
        "import xml.sax.saxutils as saxutils\n",
        "\n",
        "from numpy import *\n",
        "import numpy as np\n",
        "\n",
        "from bs4 import BeautifulSoup\n",
        "\n",
        "from gensim.models.word2vec import Word2Vec\n",
        "\n",
        "from keras.models import Sequential\n",
        "from keras.layers import Dense, Dropout, Activation, LSTM\n",
        "\n",
        "from multiprocessing import cpu_count\n",
        "\n",
        "from nltk.corpus import stopwords\n",
        "from nltk.tokenize import RegexpTokenizer, sent_tokenize\n",
        "import nltk\n",
        "from nltk.corpus import stopwords\n",
        "from nltk.stem.porter import *\n",
        "from nltk.stem.lancaster import *\n",
        "from nltk.stem.wordnet import *\n",
        "\n",
        "from sklearn.linear_model import LogisticRegression\n",
        "from sklearn.linear_model import SGDClassifier\n",
        "from sklearn.linear_model import PassiveAggressiveClassifier\n",
        "from sklearn.linear_model import Perceptron\n",
        "from sklearn.naive_bayes import MultinomialNB\n",
        "from sklearn.naive_bayes import BernoulliNB\n",
        "from sklearn.naive_bayes import GaussianNB\n",
        "from sklearn.metrics import confusion_matrix\n",
        "from sklearn.metrics import accuracy_score\n",
        "from sklearn.metrics import average_precision_score\n",
        "from sklearn.metrics import f1_score\n",
        "from sklearn.linear_model import LogisticRegression\n",
        "from sklearn.tree import DecisionTreeClassifier\n",
        "from sklearn.neighbors import KNeighborsClassifier\n",
        "from sklearn.discriminant_analysis import LinearDiscriminantAnalysis\n",
        "from sklearn.naive_bayes import GaussianNB\n",
        "from sklearn.svm import SVC\n",
        "from sklearn.neural_network import MLPClassifier\n",
        "from sklearn.neighbors import KNeighborsClassifier\n",
        "from sklearn.svm import SVC\n",
        "from sklearn.svm import LinearSVC\n",
        "from sklearn import model_selection\n",
        "\n",
        "from pandas import DataFrame\n",
        "import pandas as pd\n",
        "\n",
        "from sklearn.cross_validation import train_test_split\n",
        "import tensorflow as tf\n",
        "\n",
        "from sklearn.feature_extraction.text import TfidfVectorizer, CountVectorizer\n",
        "from sklearn.preprocessing import label_binarize\n",
        "from sklearn.preprocessing import MultiLabelBinarizer"
      ],
      "execution_count": 0,
      "outputs": []
    },
    {
      "metadata": {
        "id": "Jl331GDtmjaO",
        "colab_type": "code",
        "colab": {}
      },
      "cell_type": "code",
      "source": [
        "import nltk"
      ],
      "execution_count": 0,
      "outputs": []
    },
    {
      "metadata": {
        "id": "jmI2yXcyoX17",
        "colab_type": "code",
        "colab": {}
      },
      "cell_type": "code",
      "source": [
        "nltk.download('punkt')\n",
        "nltk.download('stopwords')"
      ],
      "execution_count": 0,
      "outputs": []
    },
    {
      "metadata": {
        "id": "jMho2oXSmjaX",
        "colab_type": "text"
      },
      "cell_type": "markdown",
      "source": [
        "## General constants (modify them according to you environment)"
      ]
    },
    {
      "metadata": {
        "id": "dMc_tWyAnJW0",
        "colab_type": "code",
        "colab": {}
      },
      "cell_type": "code",
      "source": [
        "!mkdir ./data"
      ],
      "execution_count": 0,
      "outputs": []
    },
    {
      "metadata": {
        "id": "gnK6E1KznLD3",
        "colab_type": "code",
        "colab": {}
      },
      "cell_type": "code",
      "source": [
        "!wget https://github.com/kirill-gerasimov/ds/raw/feature/reuters-w2v-lstm/nb/9_word2vec_and_nn/data/reutersCSV.csv"
      ],
      "execution_count": 0,
      "outputs": []
    },
    {
      "metadata": {
        "id": "K5yLHgLbnbPp",
        "colab_type": "code",
        "colab": {}
      },
      "cell_type": "code",
      "source": [
        "!mv *.csv ./data/"
      ],
      "execution_count": 0,
      "outputs": []
    },
    {
      "metadata": {
        "id": "9TTQWvcjnmb7",
        "colab_type": "code",
        "colab": {}
      },
      "cell_type": "code",
      "source": [
        "!ls"
      ],
      "execution_count": 0,
      "outputs": []
    },
    {
      "metadata": {
        "id": "AdfjgIitn1Us",
        "colab_type": "code",
        "colab": {}
      },
      "cell_type": "code",
      "source": [
        "!ls ./data"
      ],
      "execution_count": 0,
      "outputs": []
    },
    {
      "metadata": {
        "id": "HINM04-smjaZ",
        "colab_type": "code",
        "colab": {}
      },
      "cell_type": "code",
      "source": [
        "# Set Numpy random seed\n",
        "random.seed(1000)\n",
        "\n",
        "# Newsline folder and format\n",
        "data_folder = './data'\n",
        "\n",
        "# Limit each newsline to a fixed number of words\n",
        "document_max_num_words = 200 # 500 # 1000\n",
        "# Selected categories\n",
        "# selected_categories = ['pl_usa']\n",
        "\n",
        "csv_df = pd.read_csv(data_folder + '/reutersCSV.csv', encoding='iso-8859-1', keep_default_na=False)"
      ],
      "execution_count": 0,
      "outputs": []
    },
    {
      "metadata": {
        "id": "49JPNvFxmjai",
        "colab_type": "text"
      },
      "cell_type": "markdown",
      "source": [
        "## Prepare documents and categories"
      ]
    },
    {
      "metadata": {
        "id": "BMYG-HCjmjak",
        "colab_type": "code",
        "colab": {
          "base_uri": "https://localhost:8080/",
          "height": 51
        },
        "outputId": "e189708c-b621-46f7-b8f7-bf0d1b8e3845"
      },
      "cell_type": "code",
      "source": [
        "# Create category dataframe\n",
        "all_topics = [ re.sub('topic\\.', '', col) for col in csv_df.columns if col.startswith('topic.') ]\n",
        "print('\\n', 'num topics:', len(all_topics))\n",
        "pd.DataFrame(all_topics, columns=['topic name']).head(15)\n",
        "\n",
        "# Create category dataframe\n",
        "news_categories = DataFrame(data={'Name':all_topics, 'Type': 'Topics', 'Newslines':np.zeros(len(all_topics))})"
      ],
      "execution_count": 8,
      "outputs": [
        {
          "output_type": "stream",
          "text": [
            "\n",
            " num topics: 135\n"
          ],
          "name": "stdout"
        }
      ]
    },
    {
      "metadata": {
        "id": "tEU_fZ3Ymjat",
        "colab_type": "code",
        "colab": {
          "base_uri": "https://localhost:8080/",
          "height": 204
        },
        "outputId": "966c1943-4290-4ad9-bee8-f930f9df7857"
      },
      "cell_type": "code",
      "source": [
        "news_categories.head()"
      ],
      "execution_count": 9,
      "outputs": [
        {
          "output_type": "execute_result",
          "data": {
            "text/html": [
              "<div>\n",
              "<style scoped>\n",
              "    .dataframe tbody tr th:only-of-type {\n",
              "        vertical-align: middle;\n",
              "    }\n",
              "\n",
              "    .dataframe tbody tr th {\n",
              "        vertical-align: top;\n",
              "    }\n",
              "\n",
              "    .dataframe thead th {\n",
              "        text-align: right;\n",
              "    }\n",
              "</style>\n",
              "<table border=\"1\" class=\"dataframe\">\n",
              "  <thead>\n",
              "    <tr style=\"text-align: right;\">\n",
              "      <th></th>\n",
              "      <th>Name</th>\n",
              "      <th>Newslines</th>\n",
              "      <th>Type</th>\n",
              "    </tr>\n",
              "  </thead>\n",
              "  <tbody>\n",
              "    <tr>\n",
              "      <th>0</th>\n",
              "      <td>acq</td>\n",
              "      <td>0.0</td>\n",
              "      <td>Topics</td>\n",
              "    </tr>\n",
              "    <tr>\n",
              "      <th>1</th>\n",
              "      <td>alum</td>\n",
              "      <td>0.0</td>\n",
              "      <td>Topics</td>\n",
              "    </tr>\n",
              "    <tr>\n",
              "      <th>2</th>\n",
              "      <td>austdlr</td>\n",
              "      <td>0.0</td>\n",
              "      <td>Topics</td>\n",
              "    </tr>\n",
              "    <tr>\n",
              "      <th>3</th>\n",
              "      <td>austral</td>\n",
              "      <td>0.0</td>\n",
              "      <td>Topics</td>\n",
              "    </tr>\n",
              "    <tr>\n",
              "      <th>4</th>\n",
              "      <td>barley</td>\n",
              "      <td>0.0</td>\n",
              "      <td>Topics</td>\n",
              "    </tr>\n",
              "  </tbody>\n",
              "</table>\n",
              "</div>"
            ],
            "text/plain": [
              "      Name  Newslines    Type\n",
              "0      acq        0.0  Topics\n",
              "1     alum        0.0  Topics\n",
              "2  austdlr        0.0  Topics\n",
              "3  austral        0.0  Topics\n",
              "4   barley        0.0  Topics"
            ]
          },
          "metadata": {
            "tags": []
          },
          "execution_count": 9
        }
      ]
    },
    {
      "metadata": {
        "id": "2MeqYFG2mja5",
        "colab_type": "code",
        "colab": {}
      },
      "cell_type": "code",
      "source": [
        "def update_frequencies(categories):\n",
        "    for category in categories:\n",
        "        idx = news_categories[news_categories.Name == category].index[0]\n",
        "        f = news_categories.get_value(idx, 'Newslines')\n",
        "        news_categories.set_value(idx, 'Newslines', f+1)\n",
        "    \n",
        "def to_category_vector(categories, target_categories):\n",
        "    vector = zeros(len(target_categories)).astype(float32)\n",
        "    \n",
        "    for i in range(len(target_categories)):\n",
        "        if target_categories[i] in categories:\n",
        "            vector[i] = 1.0\n",
        "    \n",
        "    return vector"
      ],
      "execution_count": 0,
      "outputs": []
    },
    {
      "metadata": {
        "id": "iIzD-P_ymja_",
        "colab_type": "text"
      },
      "cell_type": "markdown",
      "source": [
        "## 5 Roughly Even categories (by number of newslines)"
      ]
    },
    {
      "metadata": {
        "id": "B0SWqdrDmjbC",
        "colab_type": "code",
        "colab": {}
      },
      "cell_type": "code",
      "source": [
        "topics_binarized = np.array(csv_df.values[:,3:-3])"
      ],
      "execution_count": 0,
      "outputs": []
    },
    {
      "metadata": {
        "id": "i-HDjZpZmjbO",
        "colab_type": "code",
        "colab": {}
      },
      "cell_type": "code",
      "source": [
        "def topic_list_from_binarized(binarized):\n",
        "    return [ topic for (has, topic) in zip(binarized, all_topics) if has == 1 ]\n",
        "\n",
        "topic_lists = [ topic_list_from_binarized(binarized) for binarized in topics_binarized ]"
      ],
      "execution_count": 0,
      "outputs": []
    },
    {
      "metadata": {
        "id": "Kek5bBAwmjbX",
        "colab_type": "code",
        "colab": {
          "base_uri": "https://localhost:8080/",
          "height": 289
        },
        "outputId": "d7d6dd73-19dd-4b76-f17f-da22a59bb08e"
      },
      "cell_type": "code",
      "source": [
        "df = csv_df[[ 'pid', 'purpose', 'doc.title', 'doc.text' ]]\n",
        "df = df.assign(topic_list = topic_lists)\n",
        "df = df.assign(topics_binarized = topics_binarized.tolist())\n",
        "df = df.assign(num_topics = np.array([ len(lst) for lst in topic_lists ]))\n",
        "df.head()"
      ],
      "execution_count": 13,
      "outputs": [
        {
          "output_type": "execute_result",
          "data": {
            "text/html": [
              "<div>\n",
              "<style scoped>\n",
              "    .dataframe tbody tr th:only-of-type {\n",
              "        vertical-align: middle;\n",
              "    }\n",
              "\n",
              "    .dataframe tbody tr th {\n",
              "        vertical-align: top;\n",
              "    }\n",
              "\n",
              "    .dataframe thead th {\n",
              "        text-align: right;\n",
              "    }\n",
              "</style>\n",
              "<table border=\"1\" class=\"dataframe\">\n",
              "  <thead>\n",
              "    <tr style=\"text-align: right;\">\n",
              "      <th></th>\n",
              "      <th>pid</th>\n",
              "      <th>purpose</th>\n",
              "      <th>doc.title</th>\n",
              "      <th>doc.text</th>\n",
              "      <th>topic_list</th>\n",
              "      <th>topics_binarized</th>\n",
              "      <th>num_topics</th>\n",
              "    </tr>\n",
              "  </thead>\n",
              "  <tbody>\n",
              "    <tr>\n",
              "      <th>0</th>\n",
              "      <td>1</td>\n",
              "      <td>train</td>\n",
              "      <td>BAHIA COCOA REVIEW</td>\n",
              "      <td>Showers continued throughout the week in the B...</td>\n",
              "      <td>[cocoa]</td>\n",
              "      <td>[0, 0, 0, 0, 0, 0, 0, 0, 0, 0, 0, 0, 0, 1, 0, ...</td>\n",
              "      <td>1</td>\n",
              "    </tr>\n",
              "    <tr>\n",
              "      <th>1</th>\n",
              "      <td>2</td>\n",
              "      <td>train</td>\n",
              "      <td>STANDARD OIL &amp;lt;SRD&gt; TO FORM FINANCIAL UNIT</td>\n",
              "      <td>Standard Oil Co and BP North America Inc said ...</td>\n",
              "      <td>[]</td>\n",
              "      <td>[0, 0, 0, 0, 0, 0, 0, 0, 0, 0, 0, 0, 0, 0, 0, ...</td>\n",
              "      <td>0</td>\n",
              "    </tr>\n",
              "    <tr>\n",
              "      <th>2</th>\n",
              "      <td>3</td>\n",
              "      <td>train</td>\n",
              "      <td>TEXAS COMMERCE BANCSHARES &amp;lt;TCB&gt; FILES PLAN</td>\n",
              "      <td>Texas Commerce Bancshares Inc's Texas Commerce...</td>\n",
              "      <td>[]</td>\n",
              "      <td>[0, 0, 0, 0, 0, 0, 0, 0, 0, 0, 0, 0, 0, 0, 0, ...</td>\n",
              "      <td>0</td>\n",
              "    </tr>\n",
              "    <tr>\n",
              "      <th>3</th>\n",
              "      <td>4</td>\n",
              "      <td>train</td>\n",
              "      <td>TALKING POINT/BANKAMERICA &amp;lt;BAC&gt; EQUITY OFFER</td>\n",
              "      <td>BankAmerica Corp is not under pressure to act ...</td>\n",
              "      <td>[]</td>\n",
              "      <td>[0, 0, 0, 0, 0, 0, 0, 0, 0, 0, 0, 0, 0, 0, 0, ...</td>\n",
              "      <td>0</td>\n",
              "    </tr>\n",
              "    <tr>\n",
              "      <th>4</th>\n",
              "      <td>5</td>\n",
              "      <td>train</td>\n",
              "      <td>NATIONAL AVERAGE PRICES FOR FARMER-OWNED RESERVE</td>\n",
              "      <td>The U.S. Agriculture Department reported the f...</td>\n",
              "      <td>[barley, corn, grain, oat, sorghum, wheat]</td>\n",
              "      <td>[0, 0, 0, 0, 1, 0, 0, 0, 0, 0, 0, 0, 0, 0, 0, ...</td>\n",
              "      <td>6</td>\n",
              "    </tr>\n",
              "  </tbody>\n",
              "</table>\n",
              "</div>"
            ],
            "text/plain": [
              "   pid purpose                                         doc.title  \\\n",
              "0    1   train                                BAHIA COCOA REVIEW   \n",
              "1    2   train      STANDARD OIL &lt;SRD> TO FORM FINANCIAL UNIT   \n",
              "2    3   train     TEXAS COMMERCE BANCSHARES &lt;TCB> FILES PLAN   \n",
              "3    4   train   TALKING POINT/BANKAMERICA &lt;BAC> EQUITY OFFER   \n",
              "4    5   train  NATIONAL AVERAGE PRICES FOR FARMER-OWNED RESERVE   \n",
              "\n",
              "                                            doc.text  \\\n",
              "0  Showers continued throughout the week in the B...   \n",
              "1  Standard Oil Co and BP North America Inc said ...   \n",
              "2  Texas Commerce Bancshares Inc's Texas Commerce...   \n",
              "3  BankAmerica Corp is not under pressure to act ...   \n",
              "4  The U.S. Agriculture Department reported the f...   \n",
              "\n",
              "                                   topic_list  \\\n",
              "0                                     [cocoa]   \n",
              "1                                          []   \n",
              "2                                          []   \n",
              "3                                          []   \n",
              "4  [barley, corn, grain, oat, sorghum, wheat]   \n",
              "\n",
              "                                    topics_binarized  num_topics  \n",
              "0  [0, 0, 0, 0, 0, 0, 0, 0, 0, 0, 0, 0, 0, 1, 0, ...           1  \n",
              "1  [0, 0, 0, 0, 0, 0, 0, 0, 0, 0, 0, 0, 0, 0, 0, ...           0  \n",
              "2  [0, 0, 0, 0, 0, 0, 0, 0, 0, 0, 0, 0, 0, 0, 0, ...           0  \n",
              "3  [0, 0, 0, 0, 0, 0, 0, 0, 0, 0, 0, 0, 0, 0, 0, ...           0  \n",
              "4  [0, 0, 0, 0, 1, 0, 0, 0, 0, 0, 0, 0, 0, 0, 0, ...           6  "
            ]
          },
          "metadata": {
            "tags": []
          },
          "execution_count": 13
        }
      ]
    },
    {
      "metadata": {
        "id": "-OHrr9bzmjbe",
        "colab_type": "code",
        "colab": {}
      },
      "cell_type": "code",
      "source": [
        "roughly_even_topics = [\n",
        "    'money.fx',\n",
        "    'crude',\n",
        "    'grain',\n",
        "    'trade',\n",
        "    'interest',\n",
        "]\n",
        "all_topics = roughly_even_topics\n",
        "selected_categories = roughly_even_topics"
      ],
      "execution_count": 0,
      "outputs": []
    },
    {
      "metadata": {
        "id": "l8KBeBsamjbq",
        "colab_type": "code",
        "colab": {
          "base_uri": "https://localhost:8080/",
          "height": 102
        },
        "outputId": "14eea2df-6462-404d-839f-17fbc712cbce"
      },
      "cell_type": "code",
      "source": [
        "roughly_even_topics_set = set(roughly_even_topics)\n",
        "df = df[df.apply(\n",
        "    lambda row: len(row['topic_list']) == 1 and set(row['topic_list']).issubset(roughly_even_topics_set),\n",
        "    axis = 1\n",
        ")]\n",
        "\n",
        "binarizer = MultiLabelBinarizer(classes = roughly_even_topics)\n",
        "\n",
        "topic_lists = df.apply(lambda row : row['topic_list'][0], axis = 1).values.reshape(len(df), 1)\n",
        "roughly_even_topics_binarized = binarizer.fit_transform(topic_lists)\n",
        "roughly_even_topics_binarized[:5]"
      ],
      "execution_count": 15,
      "outputs": [
        {
          "output_type": "execute_result",
          "data": {
            "text/plain": [
              "array([[0, 0, 0, 1, 0],\n",
              "       [0, 0, 1, 0, 0],\n",
              "       [0, 1, 0, 0, 0],\n",
              "       [0, 0, 1, 0, 0],\n",
              "       [0, 1, 0, 0, 0]])"
            ]
          },
          "metadata": {
            "tags": []
          },
          "execution_count": 15
        }
      ]
    },
    {
      "metadata": {
        "id": "jOfpgXWomjbx",
        "colab_type": "text"
      },
      "cell_type": "markdown",
      "source": [
        "## Tokenize newsline documents"
      ]
    },
    {
      "metadata": {
        "id": "rncP3Rw2mjbz",
        "colab_type": "code",
        "colab": {
          "base_uri": "https://localhost:8080/",
          "height": 340
        },
        "outputId": "d29a2789-0f4c-4e49-8316-7d14ee872101"
      },
      "cell_type": "code",
      "source": [
        "df_train = df[df['purpose'] == 'train']\n",
        "df_test = df[df['purpose'] == 'test']\n",
        "\n",
        "n_classes = len(all_topics)\n",
        "\n",
        "print('total docs', len(df))\n",
        "print('num train examples', len(df_train))\n",
        "print('num test examples', len(df_test))\n",
        "df.head()\n"
      ],
      "execution_count": 16,
      "outputs": [
        {
          "output_type": "stream",
          "text": [
            "total docs 1414\n",
            "num train examples 943\n",
            "num test examples 377\n"
          ],
          "name": "stdout"
        },
        {
          "output_type": "execute_result",
          "data": {
            "text/html": [
              "<div>\n",
              "<style scoped>\n",
              "    .dataframe tbody tr th:only-of-type {\n",
              "        vertical-align: middle;\n",
              "    }\n",
              "\n",
              "    .dataframe tbody tr th {\n",
              "        vertical-align: top;\n",
              "    }\n",
              "\n",
              "    .dataframe thead th {\n",
              "        text-align: right;\n",
              "    }\n",
              "</style>\n",
              "<table border=\"1\" class=\"dataframe\">\n",
              "  <thead>\n",
              "    <tr style=\"text-align: right;\">\n",
              "      <th></th>\n",
              "      <th>pid</th>\n",
              "      <th>purpose</th>\n",
              "      <th>doc.title</th>\n",
              "      <th>doc.text</th>\n",
              "      <th>topic_list</th>\n",
              "      <th>topics_binarized</th>\n",
              "      <th>num_topics</th>\n",
              "    </tr>\n",
              "  </thead>\n",
              "  <tbody>\n",
              "    <tr>\n",
              "      <th>46</th>\n",
              "      <td>47</td>\n",
              "      <td>train</td>\n",
              "      <td>BRAZIL ANTI-INFLATION PLAN LIMPS TO ANNIVERSARY</td>\n",
              "      <td>inflation plan, initially hailed at home and a...</td>\n",
              "      <td>[trade]</td>\n",
              "      <td>[0, 0, 0, 0, 0, 0, 0, 0, 0, 0, 0, 0, 0, 0, 0, ...</td>\n",
              "      <td>1</td>\n",
              "    </tr>\n",
              "    <tr>\n",
              "      <th>123</th>\n",
              "      <td>124</td>\n",
              "      <td>train</td>\n",
              "      <td>U.S. GRAIN CARLOADINGS FALL IN WEEK</td>\n",
              "      <td>U.S. grain carloadings totaled 26,108 cars in ...</td>\n",
              "      <td>[grain]</td>\n",
              "      <td>[0, 0, 0, 0, 0, 0, 0, 0, 0, 0, 0, 0, 0, 0, 0, ...</td>\n",
              "      <td>1</td>\n",
              "    </tr>\n",
              "    <tr>\n",
              "      <th>126</th>\n",
              "      <td>127</td>\n",
              "      <td>train</td>\n",
              "      <td>DIAMOND SHAMROCK (DIA) CUTS CRUDE PRICES</td>\n",
              "      <td>Diamond Shamrock Corp said that effective toda...</td>\n",
              "      <td>[crude]</td>\n",
              "      <td>[0, 0, 0, 0, 0, 0, 0, 0, 0, 0, 0, 0, 0, 0, 0, ...</td>\n",
              "      <td>1</td>\n",
              "    </tr>\n",
              "    <tr>\n",
              "      <th>135</th>\n",
              "      <td>136</td>\n",
              "      <td>train</td>\n",
              "      <td>GAO LIKELY TO SHOW CERTS MORE COSTLY THAN CASH</td>\n",
              "      <td>A study on grain certificates due out shortly ...</td>\n",
              "      <td>[grain]</td>\n",
              "      <td>[0, 0, 0, 0, 0, 0, 0, 0, 0, 0, 0, 0, 0, 0, 0, ...</td>\n",
              "      <td>1</td>\n",
              "    </tr>\n",
              "    <tr>\n",
              "      <th>143</th>\n",
              "      <td>144</td>\n",
              "      <td>train</td>\n",
              "      <td>OPEC MAY HAVE TO MEET TO FIRM PRICES - ANALYSTS</td>\n",
              "      <td>OPEC may be forced to meet before a scheduled ...</td>\n",
              "      <td>[crude]</td>\n",
              "      <td>[0, 0, 0, 0, 0, 0, 0, 0, 0, 0, 0, 0, 0, 0, 0, ...</td>\n",
              "      <td>1</td>\n",
              "    </tr>\n",
              "  </tbody>\n",
              "</table>\n",
              "</div>"
            ],
            "text/plain": [
              "     pid purpose                                        doc.title  \\\n",
              "46    47   train  BRAZIL ANTI-INFLATION PLAN LIMPS TO ANNIVERSARY   \n",
              "123  124   train              U.S. GRAIN CARLOADINGS FALL IN WEEK   \n",
              "126  127   train         DIAMOND SHAMROCK (DIA) CUTS CRUDE PRICES   \n",
              "135  136   train   GAO LIKELY TO SHOW CERTS MORE COSTLY THAN CASH   \n",
              "143  144   train  OPEC MAY HAVE TO MEET TO FIRM PRICES - ANALYSTS   \n",
              "\n",
              "                                              doc.text topic_list  \\\n",
              "46   inflation plan, initially hailed at home and a...    [trade]   \n",
              "123  U.S. grain carloadings totaled 26,108 cars in ...    [grain]   \n",
              "126  Diamond Shamrock Corp said that effective toda...    [crude]   \n",
              "135  A study on grain certificates due out shortly ...    [grain]   \n",
              "143  OPEC may be forced to meet before a scheduled ...    [crude]   \n",
              "\n",
              "                                      topics_binarized  num_topics  \n",
              "46   [0, 0, 0, 0, 0, 0, 0, 0, 0, 0, 0, 0, 0, 0, 0, ...           1  \n",
              "123  [0, 0, 0, 0, 0, 0, 0, 0, 0, 0, 0, 0, 0, 0, 0, ...           1  \n",
              "126  [0, 0, 0, 0, 0, 0, 0, 0, 0, 0, 0, 0, 0, 0, 0, ...           1  \n",
              "135  [0, 0, 0, 0, 0, 0, 0, 0, 0, 0, 0, 0, 0, 0, 0, ...           1  \n",
              "143  [0, 0, 0, 0, 0, 0, 0, 0, 0, 0, 0, 0, 0, 0, 0, ...           1  "
            ]
          },
          "metadata": {
            "tags": []
          },
          "execution_count": 16
        }
      ]
    },
    {
      "metadata": {
        "id": "QiWV_sXhmjb7",
        "colab_type": "code",
        "colab": {}
      },
      "cell_type": "code",
      "source": [
        "def lower_case(string):\n",
        "    return string.lower()\n",
        "\n",
        "def fix_lt(string):\n",
        "    # fix the HTML-escaped less-than sign\n",
        "    return re.sub(r'&lt;', '<', string)\n",
        "\n",
        "def remove_reuter(string):\n",
        "    # fix the HTML-escaped less-than sign\n",
        "    return re.sub(r'reuter$', '', string)\n",
        "\n",
        "def replace_non_alphanumeric_with_space(string):\n",
        "    # replace punctuation and different whitespace with space character\n",
        "    return re.sub(r'[^a-z0-9 ]', ' ', string)\n",
        "\n",
        "def strip_punctuation(string):\n",
        "    # remove punctuation\n",
        "    return re.sub(r'[^a-z0-9\\s]', ' ', string)\n",
        "\n",
        "def remove_stop_words(string, stop_words):\n",
        "    return ' '.join([ word for word in re.split(' ', string) if not word in stop_words ])\n",
        "\n",
        "def replace_numeric_with_literal(string):\n",
        "    return re.sub(r'([0-9]+ ?)+', '<num> ', string)\n",
        "\n",
        "def compact_whitespace(string):\n",
        "    return re.sub(r'\\s+', ' ', string)\n",
        "\n",
        "def stem(string, stemmer):\n",
        "    return ' '.join([ \n",
        "        stemmer.stem(word) if hasattr(stemmer, 'stem') else stemmer.lemmatize(word)\n",
        "        for word in re.split(' ', string) if not word in stop_words \n",
        "    ])"
      ],
      "execution_count": 0,
      "outputs": []
    },
    {
      "metadata": {
        "id": "XuPFx9ArmjcF",
        "colab_type": "code",
        "colab": {}
      },
      "cell_type": "code",
      "source": [
        "stop_words = stopwords.words('english')\n",
        "\n",
        "stemmer = LancasterStemmer()"
      ],
      "execution_count": 0,
      "outputs": []
    },
    {
      "metadata": {
        "id": "UljCXbB8mjcM",
        "colab_type": "code",
        "colab": {}
      },
      "cell_type": "code",
      "source": [
        "def pre_process(string):\n",
        "    s = lower_case(string)\n",
        "    s = fix_lt(s)\n",
        "    s = remove_reuter(s)\n",
        "    s = strip_punctuation(s)\n",
        "    s = remove_stop_words(s, stop_words)\n",
        "    s = compact_whitespace(s)\n",
        "    s = replace_numeric_with_literal(s)\n",
        "    s = stem(s, stemmer)\n",
        "    return s.strip()"
      ],
      "execution_count": 0,
      "outputs": []
    },
    {
      "metadata": {
        "id": "zAhWpTL2mjcV",
        "colab_type": "code",
        "colab": {}
      },
      "cell_type": "code",
      "source": [
        "def pre_process_df(df):\n",
        "    return df.apply(lambda row : pre_process(row['doc.title'] + ' ' + row['doc.text']), axis = 1).values"
      ],
      "execution_count": 0,
      "outputs": []
    },
    {
      "metadata": {
        "id": "Xjy3337ymjcn",
        "colab_type": "code",
        "colab": {}
      },
      "cell_type": "code",
      "source": [
        "pre_processed_train = pre_process_df(df_train)"
      ],
      "execution_count": 0,
      "outputs": []
    },
    {
      "metadata": {
        "id": "RPoRWvOumjcz",
        "colab_type": "code",
        "colab": {}
      },
      "cell_type": "code",
      "source": [
        "pre_processed_test = pre_process_df(df_test)"
      ],
      "execution_count": 0,
      "outputs": []
    },
    {
      "metadata": {
        "id": "rmfGikobmjdD",
        "colab_type": "code",
        "colab": {}
      },
      "cell_type": "code",
      "source": [
        "def get_counts_by_word(docs):\n",
        "    word_counts = {}\n",
        "    for doc in docs:\n",
        "        for word in doc.split():\n",
        "            if len(word) > 0:\n",
        "                if word not in word_counts:\n",
        "                    word_counts[word] = 0\n",
        "                word_counts[word] += 1\n",
        "    return word_counts\n",
        "\n",
        "counts_by_word = get_counts_by_word(\n",
        "    df.apply(lambda row : row['doc.title'] + ' ' + row['doc.text'], axis = 1).values\n",
        ")"
      ],
      "execution_count": 0,
      "outputs": []
    },
    {
      "metadata": {
        "id": "RpAN8mC_mjdM",
        "colab_type": "code",
        "colab": {}
      },
      "cell_type": "code",
      "source": [
        "counts_by_word_pre_processed_train = get_counts_by_word(pre_processed_train)"
      ],
      "execution_count": 0,
      "outputs": []
    },
    {
      "metadata": {
        "id": "x5LHb4aPmjdS",
        "colab_type": "code",
        "colab": {
          "base_uri": "https://localhost:8080/",
          "height": 669
        },
        "outputId": "e088342e-35d6-4e04-ff79-ab056a15ab07"
      },
      "cell_type": "code",
      "source": [
        "num_words = 3000\n",
        "pd.DataFrame(pd.Series(counts_by_word_pre_processed_train, name='count')).sort_values('count', ascending=False)[4:num_words].head(20)"
      ],
      "execution_count": 25,
      "outputs": [
        {
          "output_type": "execute_result",
          "data": {
            "text/html": [
              "<div>\n",
              "<style scoped>\n",
              "    .dataframe tbody tr th:only-of-type {\n",
              "        vertical-align: middle;\n",
              "    }\n",
              "\n",
              "    .dataframe tbody tr th {\n",
              "        vertical-align: top;\n",
              "    }\n",
              "\n",
              "    .dataframe thead th {\n",
              "        text-align: right;\n",
              "    }\n",
              "</style>\n",
              "<table border=\"1\" class=\"dataframe\">\n",
              "  <thead>\n",
              "    <tr style=\"text-align: right;\">\n",
              "      <th></th>\n",
              "      <th>count</th>\n",
              "    </tr>\n",
              "  </thead>\n",
              "  <tbody>\n",
              "    <tr>\n",
              "      <th>bank</th>\n",
              "      <td>1250</td>\n",
              "    </tr>\n",
              "    <tr>\n",
              "      <th>oil</th>\n",
              "      <td>1108</td>\n",
              "    </tr>\n",
              "    <tr>\n",
              "      <th>bil</th>\n",
              "      <td>1062</td>\n",
              "    </tr>\n",
              "    <tr>\n",
              "      <th>pct</th>\n",
              "      <td>1029</td>\n",
              "    </tr>\n",
              "    <tr>\n",
              "      <th>rat</th>\n",
              "      <td>964</td>\n",
              "    </tr>\n",
              "    <tr>\n",
              "      <th>reut</th>\n",
              "      <td>897</td>\n",
              "    </tr>\n",
              "    <tr>\n",
              "      <th>mln</th>\n",
              "      <td>857</td>\n",
              "    </tr>\n",
              "    <tr>\n",
              "      <th>market</th>\n",
              "      <td>833</td>\n",
              "    </tr>\n",
              "    <tr>\n",
              "      <th>would</th>\n",
              "      <td>814</td>\n",
              "    </tr>\n",
              "    <tr>\n",
              "      <th>year</th>\n",
              "      <td>756</td>\n",
              "    </tr>\n",
              "    <tr>\n",
              "      <th>dlrs</th>\n",
              "      <td>674</td>\n",
              "    </tr>\n",
              "    <tr>\n",
              "      <th>off</th>\n",
              "      <td>662</td>\n",
              "    </tr>\n",
              "    <tr>\n",
              "      <th>pric</th>\n",
              "      <td>654</td>\n",
              "    </tr>\n",
              "    <tr>\n",
              "      <th>jap</th>\n",
              "      <td>589</td>\n",
              "    </tr>\n",
              "    <tr>\n",
              "      <th>produc</th>\n",
              "      <td>572</td>\n",
              "    </tr>\n",
              "    <tr>\n",
              "      <th>econom</th>\n",
              "      <td>557</td>\n",
              "    </tr>\n",
              "    <tr>\n",
              "      <th>last</th>\n",
              "      <td>544</td>\n",
              "    </tr>\n",
              "    <tr>\n",
              "      <th>stat</th>\n",
              "      <td>541</td>\n",
              "    </tr>\n",
              "    <tr>\n",
              "      <th>min</th>\n",
              "      <td>518</td>\n",
              "    </tr>\n",
              "    <tr>\n",
              "      <th>cur</th>\n",
              "      <td>486</td>\n",
              "    </tr>\n",
              "  </tbody>\n",
              "</table>\n",
              "</div>"
            ],
            "text/plain": [
              "        count\n",
              "bank     1250\n",
              "oil      1108\n",
              "bil      1062\n",
              "pct      1029\n",
              "rat       964\n",
              "reut      897\n",
              "mln       857\n",
              "market    833\n",
              "would     814\n",
              "year      756\n",
              "dlrs      674\n",
              "off       662\n",
              "pric      654\n",
              "jap       589\n",
              "produc    572\n",
              "econom    557\n",
              "last      544\n",
              "stat      541\n",
              "min       518\n",
              "cur       486"
            ]
          },
          "metadata": {
            "tags": []
          },
          "execution_count": 25
        }
      ]
    },
    {
      "metadata": {
        "id": "dTRfsKoHmjdd",
        "colab_type": "code",
        "colab": {
          "base_uri": "https://localhost:8080/",
          "height": 347
        },
        "outputId": "c471bfb7-18cc-46a0-9ba7-c49c0df5f1d5"
      },
      "cell_type": "code",
      "source": [
        "pd.DataFrame(pd.Series(counts_by_word_pre_processed_train, name='count')).sort_values('count', ascending=False).plot()"
      ],
      "execution_count": 26,
      "outputs": [
        {
          "output_type": "execute_result",
          "data": {
            "text/plain": [
              "<matplotlib.axes._subplots.AxesSubplot at 0x7fb1c6044908>"
            ]
          },
          "metadata": {
            "tags": []
          },
          "execution_count": 26
        },
        {
          "output_type": "display_data",
          "data": {
            "image/png": "[encoded data removed]",
            "text/plain": [
              "<matplotlib.figure.Figure at 0x7fb1c6070160>"
            ]
          },
          "metadata": {
            "tags": []
          }
        }
      ]
    },
    {
      "metadata": {
        "id": "2LPAzlUjmjdj",
        "colab_type": "code",
        "colab": {
          "base_uri": "https://localhost:8080/",
          "height": 51
        },
        "outputId": "4e28b6fb-92de-4686-9af2-65c99245d636"
      },
      "cell_type": "code",
      "source": [
        "top_words = list(counts_by_word_pre_processed_train.items())\n",
        "top_words.sort(key = lambda it: it[1])\n",
        "top_words.reverse()\n",
        "top_words = [ word for word, count in top_words[:num_words] ]\n",
        "print(len(top_words))\n",
        "top_words[:10]"
      ],
      "execution_count": 27,
      "outputs": [
        {
          "output_type": "stream",
          "text": [
            "3000\n"
          ],
          "name": "stdout"
        },
        {
          "output_type": "execute_result",
          "data": {
            "text/plain": [
              "['<num>', 'said', 'trad', 'u', 'bank', 'oil', 'bil', 'pct', 'rat', 'reut']"
            ]
          },
          "metadata": {
            "tags": []
          },
          "execution_count": 27
        }
      ]
    },
    {
      "metadata": {
        "id": "KMJ_qRy4mjdt",
        "colab_type": "code",
        "colab": {}
      },
      "cell_type": "code",
      "source": [
        "def replace_rare_words_with_literal(string, top_words):\n",
        "    return ' '.join([ (word if word in top_words else '') for word in re.split(' ', string) ])\n",
        "\n",
        "pre_processed_train = [ \n",
        "    replace_rare_words_with_literal(doc, top_words) for doc in pre_processed_train\n",
        "]\n",
        "\n",
        "pre_processed_test = [ \n",
        "    replace_rare_words_with_literal(doc, top_words) for doc in pre_processed_test\n",
        "]"
      ],
      "execution_count": 0,
      "outputs": []
    },
    {
      "metadata": {
        "id": "olxIB_I3mjdz",
        "colab_type": "text"
      },
      "cell_type": "markdown",
      "source": [
        "## Word2Vec Model\n",
        "### See: https://radimrehurek.com/gensim/models/word2vec.html and https://code.google.com/p/word2vec/ for more information"
      ]
    },
    {
      "metadata": {
        "id": "S7f3fTOumjd2",
        "colab_type": "code",
        "colab": {}
      },
      "cell_type": "code",
      "source": [
        "# Load an existing Word2Vec model\n",
        "# w2v_model = Word2Vec.load(data_folder + 'reuters.word2vec')"
      ],
      "execution_count": 0,
      "outputs": []
    },
    {
      "metadata": {
        "id": "ZCw5tMfdyUMG",
        "colab_type": "code",
        "colab": {
          "base_uri": "https://localhost:8080/",
          "height": 289
        },
        "outputId": "39e7f954-7462-4eb4-8e47-317c0cf16d83"
      },
      "cell_type": "code",
      "source": [
        "df.head()"
      ],
      "execution_count": 29,
      "outputs": [
        {
          "output_type": "execute_result",
          "data": {
            "text/html": [
              "<div>\n",
              "<style scoped>\n",
              "    .dataframe tbody tr th:only-of-type {\n",
              "        vertical-align: middle;\n",
              "    }\n",
              "\n",
              "    .dataframe tbody tr th {\n",
              "        vertical-align: top;\n",
              "    }\n",
              "\n",
              "    .dataframe thead th {\n",
              "        text-align: right;\n",
              "    }\n",
              "</style>\n",
              "<table border=\"1\" class=\"dataframe\">\n",
              "  <thead>\n",
              "    <tr style=\"text-align: right;\">\n",
              "      <th></th>\n",
              "      <th>pid</th>\n",
              "      <th>purpose</th>\n",
              "      <th>doc.title</th>\n",
              "      <th>doc.text</th>\n",
              "      <th>topic_list</th>\n",
              "      <th>topics_binarized</th>\n",
              "      <th>num_topics</th>\n",
              "    </tr>\n",
              "  </thead>\n",
              "  <tbody>\n",
              "    <tr>\n",
              "      <th>46</th>\n",
              "      <td>47</td>\n",
              "      <td>train</td>\n",
              "      <td>BRAZIL ANTI-INFLATION PLAN LIMPS TO ANNIVERSARY</td>\n",
              "      <td>inflation plan, initially hailed at home and a...</td>\n",
              "      <td>[trade]</td>\n",
              "      <td>[0, 0, 0, 0, 0, 0, 0, 0, 0, 0, 0, 0, 0, 0, 0, ...</td>\n",
              "      <td>1</td>\n",
              "    </tr>\n",
              "    <tr>\n",
              "      <th>123</th>\n",
              "      <td>124</td>\n",
              "      <td>train</td>\n",
              "      <td>U.S. GRAIN CARLOADINGS FALL IN WEEK</td>\n",
              "      <td>U.S. grain carloadings totaled 26,108 cars in ...</td>\n",
              "      <td>[grain]</td>\n",
              "      <td>[0, 0, 0, 0, 0, 0, 0, 0, 0, 0, 0, 0, 0, 0, 0, ...</td>\n",
              "      <td>1</td>\n",
              "    </tr>\n",
              "    <tr>\n",
              "      <th>126</th>\n",
              "      <td>127</td>\n",
              "      <td>train</td>\n",
              "      <td>DIAMOND SHAMROCK (DIA) CUTS CRUDE PRICES</td>\n",
              "      <td>Diamond Shamrock Corp said that effective toda...</td>\n",
              "      <td>[crude]</td>\n",
              "      <td>[0, 0, 0, 0, 0, 0, 0, 0, 0, 0, 0, 0, 0, 0, 0, ...</td>\n",
              "      <td>1</td>\n",
              "    </tr>\n",
              "    <tr>\n",
              "      <th>135</th>\n",
              "      <td>136</td>\n",
              "      <td>train</td>\n",
              "      <td>GAO LIKELY TO SHOW CERTS MORE COSTLY THAN CASH</td>\n",
              "      <td>A study on grain certificates due out shortly ...</td>\n",
              "      <td>[grain]</td>\n",
              "      <td>[0, 0, 0, 0, 0, 0, 0, 0, 0, 0, 0, 0, 0, 0, 0, ...</td>\n",
              "      <td>1</td>\n",
              "    </tr>\n",
              "    <tr>\n",
              "      <th>143</th>\n",
              "      <td>144</td>\n",
              "      <td>train</td>\n",
              "      <td>OPEC MAY HAVE TO MEET TO FIRM PRICES - ANALYSTS</td>\n",
              "      <td>OPEC may be forced to meet before a scheduled ...</td>\n",
              "      <td>[crude]</td>\n",
              "      <td>[0, 0, 0, 0, 0, 0, 0, 0, 0, 0, 0, 0, 0, 0, 0, ...</td>\n",
              "      <td>1</td>\n",
              "    </tr>\n",
              "  </tbody>\n",
              "</table>\n",
              "</div>"
            ],
            "text/plain": [
              "     pid purpose                                        doc.title  \\\n",
              "46    47   train  BRAZIL ANTI-INFLATION PLAN LIMPS TO ANNIVERSARY   \n",
              "123  124   train              U.S. GRAIN CARLOADINGS FALL IN WEEK   \n",
              "126  127   train         DIAMOND SHAMROCK (DIA) CUTS CRUDE PRICES   \n",
              "135  136   train   GAO LIKELY TO SHOW CERTS MORE COSTLY THAN CASH   \n",
              "143  144   train  OPEC MAY HAVE TO MEET TO FIRM PRICES - ANALYSTS   \n",
              "\n",
              "                                              doc.text topic_list  \\\n",
              "46   inflation plan, initially hailed at home and a...    [trade]   \n",
              "123  U.S. grain carloadings totaled 26,108 cars in ...    [grain]   \n",
              "126  Diamond Shamrock Corp said that effective toda...    [crude]   \n",
              "135  A study on grain certificates due out shortly ...    [grain]   \n",
              "143  OPEC may be forced to meet before a scheduled ...    [crude]   \n",
              "\n",
              "                                      topics_binarized  num_topics  \n",
              "46   [0, 0, 0, 0, 0, 0, 0, 0, 0, 0, 0, 0, 0, 0, 0, ...           1  \n",
              "123  [0, 0, 0, 0, 0, 0, 0, 0, 0, 0, 0, 0, 0, 0, 0, ...           1  \n",
              "126  [0, 0, 0, 0, 0, 0, 0, 0, 0, 0, 0, 0, 0, 0, 0, ...           1  \n",
              "135  [0, 0, 0, 0, 0, 0, 0, 0, 0, 0, 0, 0, 0, 0, 0, ...           1  \n",
              "143  [0, 0, 0, 0, 0, 0, 0, 0, 0, 0, 0, 0, 0, 0, 0, ...           1  "
            ]
          },
          "metadata": {
            "tags": []
          },
          "execution_count": 29
        }
      ]
    },
    {
      "metadata": {
        "id": "o3Pr56NUzvWS",
        "colab_type": "code",
        "colab": {
          "base_uri": "https://localhost:8080/",
          "height": 34
        },
        "outputId": "e3bee087-487c-458a-fefc-8fcf5e3c979d"
      },
      "cell_type": "code",
      "source": [
        "len(df)"
      ],
      "execution_count": 30,
      "outputs": [
        {
          "output_type": "execute_result",
          "data": {
            "text/plain": [
              "1414"
            ]
          },
          "metadata": {
            "tags": []
          },
          "execution_count": 30
        }
      ]
    },
    {
      "metadata": {
        "id": "W8JjMH-Pz9gj",
        "colab_type": "code",
        "colab": {
          "base_uri": "https://localhost:8080/",
          "height": 34
        },
        "outputId": "c451aaf7-4580-464d-c736-cb58625b0fd5"
      },
      "cell_type": "code",
      "source": [
        "len(csv_df)"
      ],
      "execution_count": 31,
      "outputs": [
        {
          "output_type": "execute_result",
          "data": {
            "text/plain": [
              "21578"
            ]
          },
          "metadata": {
            "tags": []
          },
          "execution_count": 31
        }
      ]
    },
    {
      "metadata": {
        "id": "Tdn4y27c0BbP",
        "colab_type": "code",
        "colab": {
          "base_uri": "https://localhost:8080/",
          "height": 593
        },
        "outputId": "413ae41f-e867-42a5-9945-37db86361e9a"
      },
      "cell_type": "code",
      "source": [
        "csv_df.head()"
      ],
      "execution_count": 33,
      "outputs": [
        {
          "output_type": "execute_result",
          "data": {
            "text/html": [
              "<div>\n",
              "<style scoped>\n",
              "    .dataframe tbody tr th:only-of-type {\n",
              "        vertical-align: middle;\n",
              "    }\n",
              "\n",
              "    .dataframe tbody tr th {\n",
              "        vertical-align: top;\n",
              "    }\n",
              "\n",
              "    .dataframe thead th {\n",
              "        text-align: right;\n",
              "    }\n",
              "</style>\n",
              "<table border=\"1\" class=\"dataframe\">\n",
              "  <thead>\n",
              "    <tr style=\"text-align: right;\">\n",
              "      <th></th>\n",
              "      <th>pid</th>\n",
              "      <th>fileName</th>\n",
              "      <th>purpose</th>\n",
              "      <th>topic.acq</th>\n",
              "      <th>topic.alum</th>\n",
              "      <th>topic.austdlr</th>\n",
              "      <th>topic.austral</th>\n",
              "      <th>topic.barley</th>\n",
              "      <th>topic.bfr</th>\n",
              "      <th>topic.bop</th>\n",
              "      <th>...</th>\n",
              "      <th>topic.tung</th>\n",
              "      <th>topic.tung.oil</th>\n",
              "      <th>topic.veg.oil</th>\n",
              "      <th>topic.wheat</th>\n",
              "      <th>topic.wool</th>\n",
              "      <th>topic.wpi</th>\n",
              "      <th>topic.yen</th>\n",
              "      <th>topic.zinc</th>\n",
              "      <th>doc.title</th>\n",
              "      <th>doc.text</th>\n",
              "    </tr>\n",
              "  </thead>\n",
              "  <tbody>\n",
              "    <tr>\n",
              "      <th>0</th>\n",
              "      <td>1</td>\n",
              "      <td>0</td>\n",
              "      <td>train</td>\n",
              "      <td>0</td>\n",
              "      <td>0</td>\n",
              "      <td>0</td>\n",
              "      <td>0</td>\n",
              "      <td>0</td>\n",
              "      <td>0</td>\n",
              "      <td>0</td>\n",
              "      <td>...</td>\n",
              "      <td>0</td>\n",
              "      <td>0</td>\n",
              "      <td>0</td>\n",
              "      <td>0</td>\n",
              "      <td>0</td>\n",
              "      <td>0</td>\n",
              "      <td>0</td>\n",
              "      <td>0</td>\n",
              "      <td>BAHIA COCOA REVIEW</td>\n",
              "      <td>Showers continued throughout the week in the B...</td>\n",
              "    </tr>\n",
              "    <tr>\n",
              "      <th>1</th>\n",
              "      <td>2</td>\n",
              "      <td>0</td>\n",
              "      <td>train</td>\n",
              "      <td>0</td>\n",
              "      <td>0</td>\n",
              "      <td>0</td>\n",
              "      <td>0</td>\n",
              "      <td>0</td>\n",
              "      <td>0</td>\n",
              "      <td>0</td>\n",
              "      <td>...</td>\n",
              "      <td>0</td>\n",
              "      <td>0</td>\n",
              "      <td>0</td>\n",
              "      <td>0</td>\n",
              "      <td>0</td>\n",
              "      <td>0</td>\n",
              "      <td>0</td>\n",
              "      <td>0</td>\n",
              "      <td>STANDARD OIL &amp;lt;SRD&gt; TO FORM FINANCIAL UNIT</td>\n",
              "      <td>Standard Oil Co and BP North America Inc said ...</td>\n",
              "    </tr>\n",
              "    <tr>\n",
              "      <th>2</th>\n",
              "      <td>3</td>\n",
              "      <td>0</td>\n",
              "      <td>train</td>\n",
              "      <td>0</td>\n",
              "      <td>0</td>\n",
              "      <td>0</td>\n",
              "      <td>0</td>\n",
              "      <td>0</td>\n",
              "      <td>0</td>\n",
              "      <td>0</td>\n",
              "      <td>...</td>\n",
              "      <td>0</td>\n",
              "      <td>0</td>\n",
              "      <td>0</td>\n",
              "      <td>0</td>\n",
              "      <td>0</td>\n",
              "      <td>0</td>\n",
              "      <td>0</td>\n",
              "      <td>0</td>\n",
              "      <td>TEXAS COMMERCE BANCSHARES &amp;lt;TCB&gt; FILES PLAN</td>\n",
              "      <td>Texas Commerce Bancshares Inc's Texas Commerce...</td>\n",
              "    </tr>\n",
              "    <tr>\n",
              "      <th>3</th>\n",
              "      <td>4</td>\n",
              "      <td>0</td>\n",
              "      <td>train</td>\n",
              "      <td>0</td>\n",
              "      <td>0</td>\n",
              "      <td>0</td>\n",
              "      <td>0</td>\n",
              "      <td>0</td>\n",
              "      <td>0</td>\n",
              "      <td>0</td>\n",
              "      <td>...</td>\n",
              "      <td>0</td>\n",
              "      <td>0</td>\n",
              "      <td>0</td>\n",
              "      <td>0</td>\n",
              "      <td>0</td>\n",
              "      <td>0</td>\n",
              "      <td>0</td>\n",
              "      <td>0</td>\n",
              "      <td>TALKING POINT/BANKAMERICA &amp;lt;BAC&gt; EQUITY OFFER</td>\n",
              "      <td>BankAmerica Corp is not under pressure to act ...</td>\n",
              "    </tr>\n",
              "    <tr>\n",
              "      <th>4</th>\n",
              "      <td>5</td>\n",
              "      <td>0</td>\n",
              "      <td>train</td>\n",
              "      <td>0</td>\n",
              "      <td>0</td>\n",
              "      <td>0</td>\n",
              "      <td>0</td>\n",
              "      <td>1</td>\n",
              "      <td>0</td>\n",
              "      <td>0</td>\n",
              "      <td>...</td>\n",
              "      <td>0</td>\n",
              "      <td>0</td>\n",
              "      <td>0</td>\n",
              "      <td>1</td>\n",
              "      <td>0</td>\n",
              "      <td>0</td>\n",
              "      <td>0</td>\n",
              "      <td>0</td>\n",
              "      <td>NATIONAL AVERAGE PRICES FOR FARMER-OWNED RESERVE</td>\n",
              "      <td>The U.S. Agriculture Department reported the f...</td>\n",
              "    </tr>\n",
              "  </tbody>\n",
              "</table>\n",
              "<p>5 rows × 140 columns</p>\n",
              "</div>"
            ],
            "text/plain": [
              "   pid  fileName purpose  topic.acq  topic.alum  topic.austdlr  topic.austral  \\\n",
              "0    1         0   train          0           0              0              0   \n",
              "1    2         0   train          0           0              0              0   \n",
              "2    3         0   train          0           0              0              0   \n",
              "3    4         0   train          0           0              0              0   \n",
              "4    5         0   train          0           0              0              0   \n",
              "\n",
              "   topic.barley  topic.bfr  topic.bop  \\\n",
              "0             0          0          0   \n",
              "1             0          0          0   \n",
              "2             0          0          0   \n",
              "3             0          0          0   \n",
              "4             1          0          0   \n",
              "\n",
              "                         ...                          topic.tung  \\\n",
              "0                        ...                                   0   \n",
              "1                        ...                                   0   \n",
              "2                        ...                                   0   \n",
              "3                        ...                                   0   \n",
              "4                        ...                                   0   \n",
              "\n",
              "   topic.tung.oil  topic.veg.oil  topic.wheat  topic.wool  topic.wpi  \\\n",
              "0               0              0            0           0          0   \n",
              "1               0              0            0           0          0   \n",
              "2               0              0            0           0          0   \n",
              "3               0              0            0           0          0   \n",
              "4               0              0            1           0          0   \n",
              "\n",
              "   topic.yen  topic.zinc                                         doc.title  \\\n",
              "0          0           0                                BAHIA COCOA REVIEW   \n",
              "1          0           0      STANDARD OIL &lt;SRD> TO FORM FINANCIAL UNIT   \n",
              "2          0           0     TEXAS COMMERCE BANCSHARES &lt;TCB> FILES PLAN   \n",
              "3          0           0   TALKING POINT/BANKAMERICA &lt;BAC> EQUITY OFFER   \n",
              "4          0           0  NATIONAL AVERAGE PRICES FOR FARMER-OWNED RESERVE   \n",
              "\n",
              "                                            doc.text  \n",
              "0  Showers continued throughout the week in the B...  \n",
              "1  Standard Oil Co and BP North America Inc said ...  \n",
              "2  Texas Commerce Bancshares Inc's Texas Commerce...  \n",
              "3  BankAmerica Corp is not under pressure to act ...  \n",
              "4  The U.S. Agriculture Department reported the f...  \n",
              "\n",
              "[5 rows x 140 columns]"
            ]
          },
          "metadata": {
            "tags": []
          },
          "execution_count": 33
        }
      ]
    },
    {
      "metadata": {
        "id": "cSUttNwRmjd_",
        "colab_type": "code",
        "colab": {
          "base_uri": "https://localhost:8080/",
          "height": 34
        },
        "outputId": "87d13823-c3aa-49c0-c96a-b872e9754f6d"
      },
      "cell_type": "code",
      "source": [
        "all_sentences = pre_process_df(csv_df)\n",
        "print(\"type\", type(all_sentences), \"shape\", all_sentences.shape)"
      ],
      "execution_count": 34,
      "outputs": [
        {
          "output_type": "stream",
          "text": [
            "type <class 'numpy.ndarray'> shape (21578,)\n"
          ],
          "name": "stdout"
        }
      ]
    },
    {
      "metadata": {
        "id": "L7Ws9lVUmjeH",
        "colab_type": "code",
        "colab": {
          "base_uri": "https://localhost:8080/",
          "height": 34
        },
        "outputId": "cf52f147-49c6-4927-9254-4ec65beea7c7"
      },
      "cell_type": "code",
      "source": [
        "allwords = [] \n",
        "for s in all_sentences: \n",
        "    allwords.append(s.split())\n",
        "\n",
        "print(len(allwords))"
      ],
      "execution_count": 35,
      "outputs": [
        {
          "output_type": "stream",
          "text": [
            "21578\n"
          ],
          "name": "stdout"
        }
      ]
    },
    {
      "metadata": {
        "id": "guYU33fu_Fu7",
        "colab_type": "code",
        "colab": {}
      },
      "cell_type": "code",
      "source": [
        "!wget http://mattmahoney.net/dc/text8.zip"
      ],
      "execution_count": 0,
      "outputs": []
    },
    {
      "metadata": {
        "id": "WhdI54sn_IKO",
        "colab_type": "code",
        "colab": {}
      },
      "cell_type": "code",
      "source": [
        "!mv *.zip ./data/"
      ],
      "execution_count": 0,
      "outputs": []
    },
    {
      "metadata": {
        "id": "GrX_TBDn_W3r",
        "colab_type": "code",
        "colab": {}
      },
      "cell_type": "code",
      "source": [
        "!ls ./data"
      ],
      "execution_count": 0,
      "outputs": []
    },
    {
      "metadata": {
        "id": "p30rtzUn_M4T",
        "colab_type": "code",
        "colab": {}
      },
      "cell_type": "code",
      "source": [
        "!unzip ./data/text8.zip -d ./data/"
      ],
      "execution_count": 0,
      "outputs": []
    },
    {
      "metadata": {
        "id": "cJ6FXJwa_ZLB",
        "colab_type": "code",
        "colab": {}
      },
      "cell_type": "code",
      "source": [
        "!ls ./data"
      ],
      "execution_count": 0,
      "outputs": []
    },
    {
      "metadata": {
        "id": "6kDZn2B0847v",
        "colab_type": "code",
        "colab": {}
      },
      "cell_type": "code",
      "source": [
        "import gensim\n",
        "text8sentences = gensim.models.word2vec.Text8Corpus('./data/text8')"
      ],
      "execution_count": 0,
      "outputs": []
    },
    {
      "metadata": {
        "id": "C8Bd5OMf_uyK",
        "colab_type": "code",
        "colab": {}
      },
      "cell_type": "code",
      "source": [
        "# Word2Vec number of features\n",
        "num_features = 500 # 200 # 300\n",
        "num_w2v_epochs = 5 # 15"
      ],
      "execution_count": 0,
      "outputs": []
    },
    {
      "metadata": {
        "id": "9_OEQAarJSe4",
        "colab_type": "code",
        "colab": {}
      },
      "cell_type": "code",
      "source": [
        "w2v_model = Word2Vec.load(data_folder + '/reuters.word2vec.text8_1_and_reut_5.dim_500')"
      ],
      "execution_count": 0,
      "outputs": []
    },
    {
      "metadata": {
        "id": "_RHcTznP9EIB",
        "colab_type": "code",
        "colab": {}
      },
      "cell_type": "code",
      "source": [
        "w2v_model = gensim.models.word2vec.Word2Vec(\n",
        "    text8sentences,\n",
        "    size = num_features,\n",
        "    iter = 1,\n",
        "    workers=cpu_count()\n",
        ")"
      ],
      "execution_count": 0,
      "outputs": []
    },
    {
      "metadata": {
        "id": "7bCjbYWLmjeT",
        "colab_type": "code",
        "colab": {}
      },
      "cell_type": "code",
      "source": [
        "# Create new Gensim Word2Vec model\n",
        "w2v_model_1 = Word2Vec(\n",
        "    allwords, \n",
        "    size=num_features, \n",
        "    min_count=1, \n",
        "    window=5 # 10, # 8, \n",
        "    iter = num_w2v_epochs,\n",
        "    workers=cpu_count()\n",
        ")\n",
        "w2v_model.init_sims(replace=True)"
      ],
      "execution_count": 0,
      "outputs": []
    },
    {
      "metadata": {
        "id": "IO-F5XYe__VR",
        "colab_type": "code",
        "colab": {}
      },
      "cell_type": "code",
      "source": [
        "# Create new Gensim Word2Vec model\n",
        "w2v_model.train(\n",
        "    allwords,\n",
        "    epochs = num_w2v_epochs,\n",
        "    total_examples = len(allwords)\n",
        ")\n",
        "w2v_model.init_sims()"
      ],
      "execution_count": 0,
      "outputs": []
    },
    {
      "metadata": {
        "id": "DOrZNHZQmjet",
        "colab_type": "code",
        "colab": {}
      },
      "cell_type": "code",
      "source": [
        "w2v_model.save(data_folder + '/reuters.word2vec.text8_1_and_reut_5.dim_500')"
      ],
      "execution_count": 0,
      "outputs": []
    },
    {
      "metadata": {
        "id": "aYa_DFMW5RCO",
        "colab_type": "text"
      },
      "cell_type": "markdown",
      "source": [
        ""
      ]
    },
    {
      "metadata": {
        "id": "qC2dtayqmje_",
        "colab_type": "code",
        "colab": {}
      },
      "cell_type": "code",
      "source": [
        "# w2v_model[\"head\"]"
      ],
      "execution_count": 0,
      "outputs": []
    },
    {
      "metadata": {
        "id": "ljv5cUTomjfT",
        "colab_type": "text"
      },
      "cell_type": "markdown",
      "source": [
        "## Vectorize each document"
      ]
    },
    {
      "metadata": {
        "id": "caaspuFrmjfU",
        "colab_type": "code",
        "colab": {}
      },
      "cell_type": "code",
      "source": [
        "num_categories = len(selected_categories)\n",
        "\n",
        "\n",
        "empty_word = zeros(num_features).astype(float32)\n",
        "\n",
        "def tokensToVec(documents):\n",
        "    X = zeros(shape=(len(documents), document_max_num_words, num_features)).astype(float32)\n",
        "    \n",
        "    for idx, document in enumerate(documents):\n",
        "        for jdx, word in enumerate(document.split()):\n",
        "            if jdx == document_max_num_words:\n",
        "                break\n",
        "            else:\n",
        "                if word in w2v_model:\n",
        "                    X[idx, jdx, :] = w2v_model[word]\n",
        "                else:\n",
        "                    X[idx, jdx, :] = empty_word\n",
        "    return X"
      ],
      "execution_count": 0,
      "outputs": []
    },
    {
      "metadata": {
        "id": "7Ar5JRtNmjff",
        "colab_type": "text"
      },
      "cell_type": "markdown",
      "source": [
        "## Split training and test sets"
      ]
    },
    {
      "metadata": {
        "id": "IsufskMCmjfj",
        "colab_type": "code",
        "colab": {
          "base_uri": "https://localhost:8080/",
          "height": 105
        },
        "outputId": "d5b31454-c94a-458b-f146-62b225382097"
      },
      "cell_type": "code",
      "source": [
        "X_train = tokensToVec(pre_processed_train)\n",
        "X_test = tokensToVec(pre_processed_test)\n",
        "\n",
        "def to_category_vector(categories, target_categories):\n",
        "    vector = zeros(len(target_categories)).astype(float32)\n",
        "    \n",
        "    for i in range(len(target_categories)):\n",
        "        if target_categories[i] in categories:\n",
        "            vector[i] = 1.0\n",
        "    \n",
        "    return vector\n",
        "\n",
        "def single_label(dft):\n",
        "    topics = dft.apply(lambda row : row['topic_list'][0], axis = 1).values\n",
        "    \n",
        "    result = []\n",
        "    for i in topics:\n",
        "        result.append(to_category_vector(i, roughly_even_topics))\n",
        "    \n",
        "    return np.array(result)\n",
        "\n",
        "\n",
        "Y_train = single_label(df_train)\n",
        "Y_test = single_label(df_test)"
      ],
      "execution_count": 39,
      "outputs": [
        {
          "output_type": "stream",
          "text": [
            "/usr/local/lib/python3.6/dist-packages/ipykernel_launcher.py:14: DeprecationWarning: Call to deprecated `__contains__` (Method will be removed in 4.0.0, use self.wv.__contains__() instead).\n",
            "  \n",
            "/usr/local/lib/python3.6/dist-packages/ipykernel_launcher.py:15: DeprecationWarning: Call to deprecated `__getitem__` (Method will be removed in 4.0.0, use self.wv.__getitem__() instead).\n",
            "  from ipykernel import kernelapp as app\n"
          ],
          "name": "stderr"
        }
      ]
    },
    {
      "metadata": {
        "id": "8Wja98UDmjfu",
        "colab_type": "code",
        "colab": {
          "base_uri": "https://localhost:8080/",
          "height": 187
        },
        "outputId": "ab9f36a8-eb89-46b3-d09a-4188ba60c92a"
      },
      "cell_type": "code",
      "source": [
        "Y_test[:10]"
      ],
      "execution_count": 40,
      "outputs": [
        {
          "output_type": "execute_result",
          "data": {
            "text/plain": [
              "array([[0., 0., 0., 1., 0.],\n",
              "       [0., 0., 1., 0., 0.],\n",
              "       [0., 0., 0., 1., 0.],\n",
              "       [0., 0., 0., 1., 0.],\n",
              "       [0., 0., 0., 1., 0.],\n",
              "       [1., 0., 0., 0., 0.],\n",
              "       [1., 0., 0., 0., 0.],\n",
              "       [0., 0., 0., 0., 1.],\n",
              "       [0., 0., 0., 0., 1.],\n",
              "       [0., 0., 0., 0., 1.]], dtype=float32)"
            ]
          },
          "metadata": {
            "tags": []
          },
          "execution_count": 40
        }
      ]
    },
    {
      "metadata": {
        "id": "QAYrQydDmjf2",
        "colab_type": "text"
      },
      "cell_type": "markdown",
      "source": [
        "## Create Keras model"
      ]
    },
    {
      "metadata": {
        "id": "otWou_a9mjf4",
        "colab_type": "code",
        "colab": {
          "base_uri": "https://localhost:8080/",
          "height": 340
        },
        "outputId": "b6f2c048-dba5-42bc-d8ec-1cdf8b55811a"
      },
      "cell_type": "code",
      "source": [
        "print(\"document_max_num_words=\", document_max_num_words)\n",
        "print(\"num_features=\", num_features)\n",
        "\n",
        "num_categories = len(roughly_even_topics)\n",
        "print(\"num_categories \", num_categories)\n",
        "\n",
        "df_test[4:9]"
      ],
      "execution_count": 41,
      "outputs": [
        {
          "output_type": "stream",
          "text": [
            "document_max_num_words= 200\n",
            "num_features= 500\n",
            "num_categories  5\n"
          ],
          "name": "stdout"
        },
        {
          "output_type": "execute_result",
          "data": {
            "text/html": [
              "<div>\n",
              "<style scoped>\n",
              "    .dataframe tbody tr th:only-of-type {\n",
              "        vertical-align: middle;\n",
              "    }\n",
              "\n",
              "    .dataframe tbody tr th {\n",
              "        vertical-align: top;\n",
              "    }\n",
              "\n",
              "    .dataframe thead th {\n",
              "        text-align: right;\n",
              "    }\n",
              "</style>\n",
              "<table border=\"1\" class=\"dataframe\">\n",
              "  <thead>\n",
              "    <tr style=\"text-align: right;\">\n",
              "      <th></th>\n",
              "      <th>pid</th>\n",
              "      <th>purpose</th>\n",
              "      <th>doc.title</th>\n",
              "      <th>doc.text</th>\n",
              "      <th>topic_list</th>\n",
              "      <th>topics_binarized</th>\n",
              "      <th>num_topics</th>\n",
              "    </tr>\n",
              "  </thead>\n",
              "  <tbody>\n",
              "    <tr>\n",
              "      <th>14911</th>\n",
              "      <td>14912</td>\n",
              "      <td>test</td>\n",
              "      <td>JAPAN GIVEN LITTLE HOPE OF AVOIDING U.S. SANCT...</td>\n",
              "      <td>A top U.S. Official said Japan has little chan...</td>\n",
              "      <td>[trade]</td>\n",
              "      <td>[0, 0, 0, 0, 0, 0, 0, 0, 0, 0, 0, 0, 0, 0, 0, ...</td>\n",
              "      <td>1</td>\n",
              "    </tr>\n",
              "    <tr>\n",
              "      <th>14986</th>\n",
              "      <td>14987</td>\n",
              "      <td>test</td>\n",
              "      <td>STOLTENBERG SEES MOVES TO STRENGTHEN PARIS ACCORD</td>\n",
              "      <td>West German Finance Minister Gerhard Stoltenbe...</td>\n",
              "      <td>[money.fx]</td>\n",
              "      <td>[0, 0, 0, 0, 0, 0, 0, 0, 0, 0, 0, 0, 0, 0, 0, ...</td>\n",
              "      <td>1</td>\n",
              "    </tr>\n",
              "    <tr>\n",
              "      <th>15047</th>\n",
              "      <td>15048</td>\n",
              "      <td>test</td>\n",
              "      <td>TOP OFFICIALS ARRIVE AT TREASURY FOR G-5 TALKS</td>\n",
              "      <td>Top officials of leading industrial nations ar...</td>\n",
              "      <td>[money.fx]</td>\n",
              "      <td>[0, 0, 0, 0, 0, 0, 0, 0, 0, 0, 0, 0, 0, 0, 0, ...</td>\n",
              "      <td>1</td>\n",
              "    </tr>\n",
              "    <tr>\n",
              "      <th>15048</th>\n",
              "      <td>15049</td>\n",
              "      <td>test</td>\n",
              "      <td>FED EXPECTED TO SET CUSTOMER REPURCHASES</td>\n",
              "      <td>The Federal Reserve is expected to intervene i...</td>\n",
              "      <td>[interest]</td>\n",
              "      <td>[0, 0, 0, 0, 0, 0, 0, 0, 0, 0, 0, 0, 0, 0, 0, ...</td>\n",
              "      <td>1</td>\n",
              "    </tr>\n",
              "    <tr>\n",
              "      <th>15091</th>\n",
              "      <td>15092</td>\n",
              "      <td>test</td>\n",
              "      <td>FED SETS OVERNIGHT SYSTEM REPURCHASES, FED SAYS</td>\n",
              "      <td></td>\n",
              "      <td>[interest]</td>\n",
              "      <td>[0, 0, 0, 0, 0, 0, 0, 0, 0, 0, 0, 0, 0, 0, 0, ...</td>\n",
              "      <td>1</td>\n",
              "    </tr>\n",
              "  </tbody>\n",
              "</table>\n",
              "</div>"
            ],
            "text/plain": [
              "         pid purpose                                          doc.title  \\\n",
              "14911  14912    test  JAPAN GIVEN LITTLE HOPE OF AVOIDING U.S. SANCT...   \n",
              "14986  14987    test  STOLTENBERG SEES MOVES TO STRENGTHEN PARIS ACCORD   \n",
              "15047  15048    test     TOP OFFICIALS ARRIVE AT TREASURY FOR G-5 TALKS   \n",
              "15048  15049    test           FED EXPECTED TO SET CUSTOMER REPURCHASES   \n",
              "15091  15092    test   FED SETS OVERNIGHT SYSTEM REPURCHASES, FED SAYS    \n",
              "\n",
              "                                                doc.text  topic_list  \\\n",
              "14911  A top U.S. Official said Japan has little chan...     [trade]   \n",
              "14986  West German Finance Minister Gerhard Stoltenbe...  [money.fx]   \n",
              "15047  Top officials of leading industrial nations ar...  [money.fx]   \n",
              "15048  The Federal Reserve is expected to intervene i...  [interest]   \n",
              "15091                                                     [interest]   \n",
              "\n",
              "                                        topics_binarized  num_topics  \n",
              "14911  [0, 0, 0, 0, 0, 0, 0, 0, 0, 0, 0, 0, 0, 0, 0, ...           1  \n",
              "14986  [0, 0, 0, 0, 0, 0, 0, 0, 0, 0, 0, 0, 0, 0, 0, ...           1  \n",
              "15047  [0, 0, 0, 0, 0, 0, 0, 0, 0, 0, 0, 0, 0, 0, 0, ...           1  \n",
              "15048  [0, 0, 0, 0, 0, 0, 0, 0, 0, 0, 0, 0, 0, 0, 0, ...           1  \n",
              "15091  [0, 0, 0, 0, 0, 0, 0, 0, 0, 0, 0, 0, 0, 0, 0, ...           1  "
            ]
          },
          "metadata": {
            "tags": []
          },
          "execution_count": 41
        }
      ]
    },
    {
      "metadata": {
        "id": "qS4UtDAcmjgB",
        "colab_type": "code",
        "colab": {}
      },
      "cell_type": "code",
      "source": [
        "model = Sequential()\n",
        "\n",
        "model.add(LSTM(\n",
        "    int(document_max_num_words*1.5), \n",
        "    input_shape=(document_max_num_words, num_features)\n",
        "))\n",
        "model.add(Dropout(\n",
        "    0.3\n",
        "))\n",
        "model.add(Dense(num_categories))\n",
        "model.add(Activation(\n",
        "    'sigmoid'\n",
        "))\n",
        "\n",
        "model.compile(loss='categorical_crossentropy', optimizer='adam', metrics=['accuracy'])"
      ],
      "execution_count": 0,
      "outputs": []
    },
    {
      "metadata": {
        "id": "H-psRgi8mjgG",
        "colab_type": "text"
      },
      "cell_type": "markdown",
      "source": [
        "## Train and evaluate model"
      ]
    },
    {
      "metadata": {
        "id": "fl0SEEsttq3R",
        "colab_type": "code",
        "colab": {
          "base_uri": "https://localhost:8080/",
          "height": 34
        },
        "outputId": "c44aa123-bc01-435d-acbb-6388af8d2c89"
      },
      "cell_type": "code",
      "source": [
        "print(X_train.shape, Y_train.shape, X_test.shape, Y_test.shape)"
      ],
      "execution_count": 43,
      "outputs": [
        {
          "output_type": "stream",
          "text": [
            "(943, 200, 500) (943, 5) (377, 200, 500) (377, 5)\n"
          ],
          "name": "stdout"
        }
      ]
    },
    {
      "metadata": {
        "id": "dZB3zFflmjgI",
        "colab_type": "code",
        "colab": {
          "base_uri": "https://localhost:8080/",
          "height": 2754
        },
        "outputId": "59e78e88-27f9-443c-bc6a-38bf4b007d85"
      },
      "cell_type": "code",
      "source": [
        "# Train model\n",
        "history = model.fit(X_train, Y_train, batch_size=256, epochs=80, validation_data=(X_test, Y_test))"
      ],
      "execution_count": 45,
      "outputs": [
        {
          "output_type": "stream",
          "text": [
            "Train on 943 samples, validate on 377 samples\n",
            "Epoch 1/80\n",
            "943/943 [==============================] - 3s 4ms/step - loss: 1.5925 - acc: 0.2524 - val_loss: 1.5630 - val_acc: 0.2069\n",
            "Epoch 2/80\n",
            "943/943 [==============================] - 3s 3ms/step - loss: 1.5591 - acc: 0.2619 - val_loss: 1.5434 - val_acc: 0.3263\n",
            "Epoch 3/80\n",
            "943/943 [==============================] - 3s 3ms/step - loss: 1.5175 - acc: 0.2948 - val_loss: 1.4398 - val_acc: 0.3607\n",
            "Epoch 4/80\n",
            "943/943 [==============================] - 3s 3ms/step - loss: 1.4340 - acc: 0.3128 - val_loss: 1.4118 - val_acc: 0.3687\n",
            "Epoch 5/80\n",
            "943/943 [==============================] - 3s 3ms/step - loss: 1.3754 - acc: 0.3563 - val_loss: 1.1969 - val_acc: 0.5040\n",
            "Epoch 6/80\n",
            "943/943 [==============================] - 3s 3ms/step - loss: 1.1773 - acc: 0.4952 - val_loss: 1.0319 - val_acc: 0.4934\n",
            "Epoch 7/80\n",
            "943/943 [==============================] - 3s 3ms/step - loss: 1.1492 - acc: 0.4920 - val_loss: 1.0250 - val_acc: 0.4881\n",
            "Epoch 8/80\n",
            "943/943 [==============================] - 3s 3ms/step - loss: 1.1259 - acc: 0.4899 - val_loss: 1.0443 - val_acc: 0.4881\n",
            "Epoch 9/80\n",
            "943/943 [==============================] - 3s 3ms/step - loss: 1.1338 - acc: 0.4899 - val_loss: 1.0992 - val_acc: 0.4854\n",
            "Epoch 10/80\n",
            "943/943 [==============================] - 3s 3ms/step - loss: 1.1468 - acc: 0.4984 - val_loss: 1.0788 - val_acc: 0.4907\n",
            "Epoch 11/80\n",
            "943/943 [==============================] - 3s 3ms/step - loss: 1.1407 - acc: 0.4931 - val_loss: 1.0607 - val_acc: 0.4960\n",
            "Epoch 12/80\n",
            "943/943 [==============================] - 3s 3ms/step - loss: 1.1024 - acc: 0.5249 - val_loss: 1.0515 - val_acc: 0.4960\n",
            "Epoch 13/80\n",
            "943/943 [==============================] - 3s 3ms/step - loss: 1.1047 - acc: 0.5111 - val_loss: 1.0466 - val_acc: 0.4934\n",
            "Epoch 14/80\n",
            "943/943 [==============================] - 3s 3ms/step - loss: 1.0972 - acc: 0.5270 - val_loss: 1.0367 - val_acc: 0.4987\n",
            "Epoch 15/80\n",
            "943/943 [==============================] - 3s 3ms/step - loss: 1.0860 - acc: 0.5239 - val_loss: 1.0468 - val_acc: 0.5040\n",
            "Epoch 16/80\n",
            "943/943 [==============================] - 3s 3ms/step - loss: 1.0996 - acc: 0.5186 - val_loss: 1.0413 - val_acc: 0.5040\n",
            "Epoch 17/80\n",
            "943/943 [==============================] - 3s 3ms/step - loss: 1.0810 - acc: 0.5408 - val_loss: 1.1002 - val_acc: 0.5066\n",
            "Epoch 18/80\n",
            "943/943 [==============================] - 3s 3ms/step - loss: 1.0515 - acc: 0.5451 - val_loss: 1.0463 - val_acc: 0.4934\n",
            "Epoch 19/80\n",
            "943/943 [==============================] - 3s 3ms/step - loss: 1.0672 - acc: 0.5366 - val_loss: 1.0100 - val_acc: 0.5040\n",
            "Epoch 20/80\n",
            "943/943 [==============================] - 3s 3ms/step - loss: 1.0053 - acc: 0.5907 - val_loss: 0.9575 - val_acc: 0.6446\n",
            "Epoch 21/80\n",
            "943/943 [==============================] - 3s 3ms/step - loss: 0.9443 - acc: 0.6204 - val_loss: 0.9660 - val_acc: 0.5995\n",
            "Epoch 22/80\n",
            "943/943 [==============================] - 3s 3ms/step - loss: 1.0219 - acc: 0.6023 - val_loss: 1.2625 - val_acc: 0.5676\n",
            "Epoch 23/80\n",
            "943/943 [==============================] - 3s 3ms/step - loss: 1.0142 - acc: 0.6458 - val_loss: 0.8285 - val_acc: 0.6844\n",
            "Epoch 24/80\n",
            "943/943 [==============================] - 3s 3ms/step - loss: 0.9063 - acc: 0.6617 - val_loss: 0.8262 - val_acc: 0.6578\n",
            "Epoch 25/80\n",
            "943/943 [==============================] - 3s 3ms/step - loss: 0.8166 - acc: 0.6755 - val_loss: 0.9083 - val_acc: 0.6260\n",
            "Epoch 26/80\n",
            "943/943 [==============================] - 3s 3ms/step - loss: 0.7751 - acc: 0.6713 - val_loss: 0.7471 - val_acc: 0.7639\n",
            "Epoch 27/80\n",
            "943/943 [==============================] - 3s 3ms/step - loss: 0.7895 - acc: 0.6978 - val_loss: 0.8869 - val_acc: 0.5650\n",
            "Epoch 28/80\n",
            "943/943 [==============================] - 3s 3ms/step - loss: 0.7883 - acc: 0.6596 - val_loss: 0.7518 - val_acc: 0.6737\n",
            "Epoch 29/80\n",
            "943/943 [==============================] - 3s 3ms/step - loss: 0.8354 - acc: 0.6935 - val_loss: 0.8550 - val_acc: 0.6499\n",
            "Epoch 30/80\n",
            "943/943 [==============================] - 3s 3ms/step - loss: 0.7736 - acc: 0.6914 - val_loss: 0.7953 - val_acc: 0.6446\n",
            "Epoch 31/80\n",
            "943/943 [==============================] - 3s 3ms/step - loss: 0.7520 - acc: 0.6840 - val_loss: 0.6946 - val_acc: 0.6844\n",
            "Epoch 32/80\n",
            "943/943 [==============================] - 3s 3ms/step - loss: 0.6891 - acc: 0.7190 - val_loss: 0.6481 - val_acc: 0.7082\n",
            "Epoch 33/80\n",
            "943/943 [==============================] - 3s 3ms/step - loss: 0.7041 - acc: 0.7116 - val_loss: 0.9050 - val_acc: 0.6340\n",
            "Epoch 34/80\n",
            "943/943 [==============================] - 3s 3ms/step - loss: 0.8619 - acc: 0.6776 - val_loss: 0.9086 - val_acc: 0.6340\n",
            "Epoch 35/80\n",
            "943/943 [==============================] - 3s 3ms/step - loss: 0.6763 - acc: 0.7116 - val_loss: 0.6833 - val_acc: 0.7056\n",
            "Epoch 36/80\n",
            "943/943 [==============================] - 3s 3ms/step - loss: 0.7391 - acc: 0.7222 - val_loss: 0.7246 - val_acc: 0.6684\n",
            "Epoch 37/80\n",
            "943/943 [==============================] - 3s 3ms/step - loss: 0.6614 - acc: 0.7243 - val_loss: 0.7135 - val_acc: 0.7507\n",
            "Epoch 38/80\n",
            "943/943 [==============================] - 3s 3ms/step - loss: 1.0128 - acc: 0.6564 - val_loss: 1.2762 - val_acc: 0.5411\n",
            "Epoch 39/80\n",
            "943/943 [==============================] - 3s 3ms/step - loss: 1.1083 - acc: 0.5769 - val_loss: 0.9737 - val_acc: 0.5782\n",
            "Epoch 40/80\n",
            "943/943 [==============================] - 3s 3ms/step - loss: 0.9883 - acc: 0.5726 - val_loss: 1.0436 - val_acc: 0.5013\n",
            "Epoch 41/80\n",
            "943/943 [==============================] - 3s 3ms/step - loss: 0.9924 - acc: 0.5440 - val_loss: 0.9550 - val_acc: 0.6101\n",
            "Epoch 42/80\n",
            "943/943 [==============================] - 3s 3ms/step - loss: 0.8981 - acc: 0.6299 - val_loss: 0.8301 - val_acc: 0.7480\n",
            "Epoch 43/80\n",
            "943/943 [==============================] - 3s 3ms/step - loss: 0.8184 - acc: 0.7381 - val_loss: 0.9113 - val_acc: 0.6605\n",
            "Epoch 44/80\n",
            "943/943 [==============================] - 3s 3ms/step - loss: 0.8137 - acc: 0.7052 - val_loss: 0.7840 - val_acc: 0.7745\n",
            "Epoch 45/80\n",
            "943/943 [==============================] - 3s 3ms/step - loss: 0.7421 - acc: 0.7593 - val_loss: 0.7455 - val_acc: 0.7851\n",
            "Epoch 46/80\n",
            "943/943 [==============================] - 3s 3ms/step - loss: 0.6730 - acc: 0.8028 - val_loss: 0.6165 - val_acc: 0.8064\n",
            "Epoch 47/80\n",
            "943/943 [==============================] - 3s 3ms/step - loss: 0.6301 - acc: 0.8123 - val_loss: 0.7460 - val_acc: 0.7745\n",
            "Epoch 48/80\n",
            "943/943 [==============================] - 3s 3ms/step - loss: 0.6511 - acc: 0.7943 - val_loss: 0.5883 - val_acc: 0.8090\n",
            "Epoch 49/80\n",
            "943/943 [==============================] - 3s 3ms/step - loss: 0.5633 - acc: 0.8261 - val_loss: 0.5296 - val_acc: 0.8302\n",
            "Epoch 50/80\n",
            "943/943 [==============================] - 3s 3ms/step - loss: 0.5097 - acc: 0.8505 - val_loss: 0.4886 - val_acc: 0.8329\n",
            "Epoch 51/80\n",
            "943/943 [==============================] - 3s 3ms/step - loss: 0.5212 - acc: 0.8261 - val_loss: 0.5079 - val_acc: 0.8302\n",
            "Epoch 52/80\n",
            "943/943 [==============================] - 3s 3ms/step - loss: 0.4401 - acc: 0.8653 - val_loss: 0.5850 - val_acc: 0.8064\n",
            "Epoch 53/80\n",
            "943/943 [==============================] - 3s 3ms/step - loss: 0.4369 - acc: 0.8526 - val_loss: 0.4809 - val_acc: 0.8329\n",
            "Epoch 54/80\n",
            "943/943 [==============================] - 3s 3ms/step - loss: 0.4216 - acc: 0.8462 - val_loss: 0.4168 - val_acc: 0.8621\n",
            "Epoch 55/80\n",
            "943/943 [==============================] - 3s 3ms/step - loss: 0.3727 - acc: 0.8696 - val_loss: 0.3878 - val_acc: 0.8541\n",
            "Epoch 56/80\n",
            "943/943 [==============================] - 3s 3ms/step - loss: 0.3587 - acc: 0.8780 - val_loss: 0.4811 - val_acc: 0.8329\n",
            "Epoch 57/80\n",
            "943/943 [==============================] - 3s 3ms/step - loss: 0.3813 - acc: 0.8727 - val_loss: 0.4198 - val_acc: 0.8302\n",
            "Epoch 58/80\n",
            "943/943 [==============================] - 3s 3ms/step - loss: 0.3557 - acc: 0.8727 - val_loss: 0.3470 - val_acc: 0.8621\n",
            "Epoch 59/80\n",
            "943/943 [==============================] - 3s 3ms/step - loss: 0.3246 - acc: 0.8897 - val_loss: 0.3775 - val_acc: 0.8515\n",
            "Epoch 60/80\n",
            "943/943 [==============================] - 3s 3ms/step - loss: 0.4353 - acc: 0.8271 - val_loss: 0.6453 - val_acc: 0.7347\n",
            "Epoch 61/80\n",
            "943/943 [==============================] - 3s 3ms/step - loss: 0.4852 - acc: 0.8049 - val_loss: 0.4643 - val_acc: 0.8223\n",
            "Epoch 62/80\n",
            "943/943 [==============================] - 3s 3ms/step - loss: 0.4103 - acc: 0.8324 - val_loss: 0.3767 - val_acc: 0.8700\n",
            "Epoch 63/80\n",
            "943/943 [==============================] - 3s 3ms/step - loss: 0.3628 - acc: 0.8759 - val_loss: 0.3748 - val_acc: 0.8780\n",
            "Epoch 64/80\n",
            "943/943 [==============================] - 3s 3ms/step - loss: 0.3214 - acc: 0.8855 - val_loss: 0.3413 - val_acc: 0.8806\n",
            "Epoch 65/80\n",
            "943/943 [==============================] - 2s 3ms/step - loss: 0.2911 - acc: 0.9109 - val_loss: 0.3289 - val_acc: 0.8806\n",
            "Epoch 66/80\n",
            "943/943 [==============================] - 3s 3ms/step - loss: 0.2779 - acc: 0.9130 - val_loss: 0.3092 - val_acc: 0.8912\n",
            "Epoch 67/80\n",
            "943/943 [==============================] - 3s 3ms/step - loss: 0.2323 - acc: 0.9183 - val_loss: 0.3233 - val_acc: 0.8780\n",
            "Epoch 68/80\n",
            "943/943 [==============================] - 3s 3ms/step - loss: 0.2446 - acc: 0.9130 - val_loss: 0.2780 - val_acc: 0.8886\n",
            "Epoch 69/80\n",
            "943/943 [==============================] - 3s 3ms/step - loss: 0.2533 - acc: 0.9194 - val_loss: 0.2814 - val_acc: 0.8966\n",
            "Epoch 70/80\n",
            "943/943 [==============================] - 3s 3ms/step - loss: 0.2244 - acc: 0.9300 - val_loss: 0.4467 - val_acc: 0.8568\n",
            "Epoch 71/80\n",
            "943/943 [==============================] - 3s 3ms/step - loss: 0.2344 - acc: 0.9183 - val_loss: 0.2944 - val_acc: 0.8939\n",
            "Epoch 72/80\n",
            "943/943 [==============================] - 3s 3ms/step - loss: 0.2122 - acc: 0.9364 - val_loss: 0.3107 - val_acc: 0.8939\n",
            "Epoch 73/80\n",
            "943/943 [==============================] - 3s 3ms/step - loss: 0.2072 - acc: 0.9364 - val_loss: 0.2507 - val_acc: 0.9125\n",
            "Epoch 74/80\n",
            "943/943 [==============================] - 3s 3ms/step - loss: 0.1768 - acc: 0.9438 - val_loss: 0.2619 - val_acc: 0.9045\n",
            "Epoch 75/80\n",
            "943/943 [==============================] - 3s 3ms/step - loss: 0.1699 - acc: 0.9523 - val_loss: 0.2652 - val_acc: 0.9072\n",
            "Epoch 76/80\n",
            "943/943 [==============================] - 3s 3ms/step - loss: 0.1590 - acc: 0.9544 - val_loss: 0.2474 - val_acc: 0.9098\n",
            "Epoch 77/80\n",
            "943/943 [==============================] - 3s 3ms/step - loss: 0.1602 - acc: 0.9502 - val_loss: 0.2518 - val_acc: 0.9125\n",
            "Epoch 78/80\n",
            "943/943 [==============================] - 2s 3ms/step - loss: 0.1561 - acc: 0.9491 - val_loss: 0.2701 - val_acc: 0.9125\n",
            "Epoch 79/80\n",
            "943/943 [==============================] - 3s 3ms/step - loss: 0.1505 - acc: 0.9491 - val_loss: 0.2617 - val_acc: 0.9045\n",
            "Epoch 80/80\n",
            "943/943 [==============================] - 3s 3ms/step - loss: 0.1344 - acc: 0.9512 - val_loss: 0.2408 - val_acc: 0.9178\n"
          ],
          "name": "stdout"
        }
      ]
    },
    {
      "metadata": {
        "id": "zKkbnTPdKP4W",
        "colab_type": "code",
        "colab": {
          "base_uri": "https://localhost:8080/",
          "height": 68
        },
        "outputId": "0739b592-f44b-4bec-9f22-197e82f2b285"
      },
      "cell_type": "code",
      "source": [
        "# Evaluate model\n",
        "score, acc = model.evaluate(X_test, Y_test, batch_size=256)\n",
        "    \n",
        "print('Score: %1.4f' % score)\n",
        "print('Accuracy: %1.4f' % acc)"
      ],
      "execution_count": 46,
      "outputs": [
        {
          "output_type": "stream",
          "text": [
            "377/377 [==============================] - 0s 972us/step\n",
            "Score: 0.2408\n",
            "Accuracy: 0.9178\n"
          ],
          "name": "stdout"
        }
      ]
    },
    {
      "metadata": {
        "id": "buXhLWzGmjgV",
        "colab_type": "code",
        "colab": {
          "base_uri": "https://localhost:8080/",
          "height": 376
        },
        "outputId": "061a3ab6-06cc-4ea2-e458-8987088b9bcb"
      },
      "cell_type": "code",
      "source": [
        "import matplotlib.pyplot as plt\n",
        "\n",
        "# Plot training & validation loss values\n",
        "plt.plot(history.history['loss'])\n",
        "plt.plot(history.history['val_loss'])\n",
        "plt.title('Model loss')\n",
        "plt.ylabel('Loss')\n",
        "plt.xlabel('Epoch')\n",
        "plt.legend(['Train', 'Test'], loc='upper left')\n",
        "plt.show()"
      ],
      "execution_count": 47,
      "outputs": [
        {
          "output_type": "display_data",
          "data": {
            "image/png": "[encoded data removed]",
            "text/plain": [
              "<matplotlib.figure.Figure at 0x7fb1b9aa82b0>"
            ]
          },
          "metadata": {
            "tags": []
          }
        }
      ]
    },
    {
      "metadata": {
        "id": "OD9jIQ7xmjgb",
        "colab_type": "code",
        "colab": {}
      },
      "cell_type": "code",
      "source": [
        "def binarize(t) :\n",
        "    maxId = np.argmax(t, axis=1)\n",
        "    binv = np.zeros((t.shape))\n",
        "    for idx, pos in enumerate(maxId):\n",
        "        binv[idx,pos] = 1\n",
        "\n",
        "    return binv"
      ],
      "execution_count": 0,
      "outputs": []
    },
    {
      "metadata": {
        "id": "Wv4nNVmVmjgl",
        "colab_type": "code",
        "colab": {
          "base_uri": "https://localhost:8080/",
          "height": 425
        },
        "outputId": "f993ade1-9acc-4406-b572-bf6d27b3761a"
      },
      "cell_type": "code",
      "source": [
        "y_test_predicted_labels = model.predict(X_test)\n",
        "\n",
        "predicted = binarize(y_test_predicted_labels)\n",
        "\n",
        "print(\"predicted shape \", y_test_predicted_labels.shape)\n",
        "print(\"y_test    shape \", Y_test.shape)\n",
        "print(\"predicted       \", y_test_predicted_labels)\n",
        "print(\"predicted bin.  \", predicted)\n",
        "print(\"Y test          \", Y_test)\n",
        "\n",
        "\n",
        "accuracy_score(Y_test, predicted)\n",
        "avg='weighted'\n",
        "print('f1_score  :', f1_score(Y_test, predicted, average = avg))\n",
        "#print('precision :', average_precision_score(y_test, predicted, average = avg))"
      ],
      "execution_count": 49,
      "outputs": [
        {
          "output_type": "stream",
          "text": [
            "predicted shape  (377, 5)\n",
            "y_test    shape  (377, 5)\n",
            "predicted        [[5.9068145e-04 2.5804431e-04 2.2069321e-03 7.8575021e-01 1.8628237e-03]\n",
            " [3.3050634e-03 7.6093688e-03 2.6377061e-01 3.6759224e-02 1.4609534e-03]\n",
            " [9.9498825e-04 3.3176411e-04 3.9088964e-03 8.1488258e-01 1.5014624e-03]\n",
            " ...\n",
            " [5.3052986e-01 1.1412645e-03 1.9347238e-04 5.5361650e-04 9.2922747e-03]\n",
            " [9.9094212e-04 3.3232121e-04 3.8790817e-03 8.1579131e-01 1.5085191e-03]\n",
            " [1.7168230e-03 8.1186908e-01 8.1755954e-04 2.6873947e-04 2.8108596e-04]]\n",
            "predicted bin.   [[0. 0. 0. 1. 0.]\n",
            " [0. 0. 1. 0. 0.]\n",
            " [0. 0. 0. 1. 0.]\n",
            " ...\n",
            " [1. 0. 0. 0. 0.]\n",
            " [0. 0. 0. 1. 0.]\n",
            " [0. 1. 0. 0. 0.]]\n",
            "Y test           [[0. 0. 0. 1. 0.]\n",
            " [0. 0. 1. 0. 0.]\n",
            " [0. 0. 0. 1. 0.]\n",
            " ...\n",
            " [1. 0. 0. 0. 0.]\n",
            " [0. 0. 0. 1. 0.]\n",
            " [0. 1. 0. 0. 0.]]\n",
            "f1_score  : 0.9167466329650332\n"
          ],
          "name": "stdout"
        }
      ]
    },
    {
      "metadata": {
        "id": "u_z-iz9Kmjhc",
        "colab_type": "code",
        "colab": {}
      },
      "cell_type": "code",
      "source": [
        "t = array(\n",
        "    [[0.2226171,  0.29442668, 0.05272774, 0.25584626, 0.22210537],\n",
        "     [0.22258776, 0.219336527, 0.05255532, 0.35723976, 0.22122917]])\n",
        "maxId = np.argmax(t, axis=1)\n",
        "print(maxId)\n",
        "print(t.shape)\n",
        "binv = np.zeros((t.shape))\n",
        "for idx, pos in enumerate(maxId):\n",
        "    binv[idx,pos] = 1\n",
        "\n",
        "print(binv)"
      ],
      "execution_count": 0,
      "outputs": []
    },
    {
      "metadata": {
        "id": "zomKGrgrmjhk",
        "colab_type": "text"
      },
      "cell_type": "markdown",
      "source": [
        "## other"
      ]
    },
    {
      "metadata": {
        "id": "OMexVbNTmjhn",
        "colab_type": "code",
        "colab": {}
      },
      "cell_type": "code",
      "source": [
        "print(X_train)"
      ],
      "execution_count": 0,
      "outputs": []
    },
    {
      "metadata": {
        "id": "-Q62-zb8mjjv",
        "colab_type": "code",
        "colab": {}
      },
      "cell_type": "code",
      "source": [
        "print(Y_train)"
      ],
      "execution_count": 0,
      "outputs": []
    },
    {
      "metadata": {
        "id": "dAuJeR3Omjj0",
        "colab_type": "code",
        "colab": {}
      },
      "cell_type": "code",
      "source": [
        "print('X shape', X_train.shape)\n",
        "print(X_train)"
      ],
      "execution_count": 0,
      "outputs": []
    },
    {
      "metadata": {
        "id": "UTf0_bLGmjj7",
        "colab_type": "code",
        "colab": {}
      },
      "cell_type": "code",
      "source": [
        "# Test options and evaluation metric\n",
        "seed = 7\n",
        "scoring = 'accuracy'"
      ],
      "execution_count": 0,
      "outputs": []
    },
    {
      "metadata": {
        "id": "O1JTckJLmjkE",
        "colab_type": "code",
        "colab": {}
      },
      "cell_type": "code",
      "source": [
        "# Spot Check Algorithms\n",
        "models = []\n",
        "models.append(('KNN', KNeighborsClassifier()))\n",
        "models.append(('SVM', SVC()))\n",
        "# evaluate each model in turn\n",
        "results = []\n",
        "names = []\n",
        "for name, model in models:\n",
        "\tkfold = model_selection.KFold(n_splits=10, random_state=seed)\n",
        "\tcv_results = model_selection.cross_val_score(model, X_train, Y_train, cv=kfold, scoring=scoring)\n",
        "\tresults.append(cv_results)\n",
        "\tnames.append(name)\n",
        "\tmsg = \"%s: %f (%f)\" % (name, cv_results.mean(), cv_results.std())\n",
        "\tprint(msg)"
      ],
      "execution_count": 0,
      "outputs": []
    },
    {
      "metadata": {
        "id": "rufEyuVl3eAS",
        "colab_type": "code",
        "colab": {}
      },
      "cell_type": "code",
      "source": [
        ""
      ],
      "execution_count": 0,
      "outputs": []
    },
    {
      "metadata": {
        "id": "LRIAynqQ3eZ5",
        "colab_type": "text"
      },
      "cell_type": "markdown",
      "source": [
        "# LOG\n",
        "\n",
        "\n",
        "```\n",
        "max len   window    dim      df%     epochs     acc     f1\n",
        "500       8         200      full    80         65%     ?\n",
        "200       10        300      full    \n",
        "```\n",
        "\n"
      ]
    }
  ]
}