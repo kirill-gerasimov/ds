{
 "cells": [
  {
   "cell_type": "code",
   "execution_count": 2,
   "metadata": {
    "scrolled": true
   },
   "outputs": [],
   "source": [
    "import numpy as np\n",
    "import pandas as pd\n",
    "import matplotlib.pyplot as plt\n",
    "import seaborn as sns"
   ]
  },
  {
   "cell_type": "code",
   "execution_count": 3,
   "metadata": {},
   "outputs": [],
   "source": [
    "from nltk.corpus import stopwords\n",
    "\n",
    "from nltk.stem.porter import *\n",
    "from nltk.stem.lancaster import *\n",
    "from nltk.stem.wordnet import *"
   ]
  },
  {
   "cell_type": "code",
   "execution_count": 4,
   "metadata": {},
   "outputs": [],
   "source": [
    "sns.set(style='whitegrid', palette='GnBu_d', font_scale=1.5, rc={'figure.figsize':(10,6)})"
   ]
  },
  {
   "cell_type": "markdown",
   "metadata": {},
   "source": [
    "# Pandas DataFrame - working with text data"
   ]
  },
  {
   "cell_type": "code",
   "execution_count": 5,
   "metadata": {},
   "outputs": [],
   "source": [
    "# https://raw.githubusercontent.com/ZhibingChen/DM-Reuters21578/master/reutersCSV.csv\n",
    "df = pd.read_csv('reutersCSV.csv', encoding='iso-8859-1', keep_default_na=False)"
   ]
  },
  {
   "cell_type": "code",
   "execution_count": 6,
   "metadata": {},
   "outputs": [
    {
     "data": {
      "text/plain": [
       "21578"
      ]
     },
     "execution_count": 6,
     "metadata": {},
     "output_type": "execute_result"
    }
   ],
   "source": [
    "# size of the data set\n",
    "df.index.size"
   ]
  },
  {
   "cell_type": "code",
   "execution_count": 7,
   "metadata": {},
   "outputs": [
    {
     "data": {
      "text/plain": [
       "Index(['pid', 'fileName', 'purpose', 'topic.acq', 'topic.alum',\n",
       "       'topic.austdlr', 'topic.austral', 'topic.barley', 'topic.bfr',\n",
       "       'topic.bop',\n",
       "       ...\n",
       "       'topic.tung', 'topic.tung.oil', 'topic.veg.oil', 'topic.wheat',\n",
       "       'topic.wool', 'topic.wpi', 'topic.yen', 'topic.zinc', 'doc.title',\n",
       "       'doc.text'],\n",
       "      dtype='object', length=140)"
      ]
     },
     "execution_count": 7,
     "metadata": {},
     "output_type": "execute_result"
    }
   ],
   "source": [
    "# list of columns\n",
    "df.columns"
   ]
  },
  {
   "cell_type": "code",
   "execution_count": 8,
   "metadata": {},
   "outputs": [
    {
     "data": {
      "text/html": [
       "<div>\n",
       "<style scoped>\n",
       "    .dataframe tbody tr th:only-of-type {\n",
       "        vertical-align: middle;\n",
       "    }\n",
       "\n",
       "    .dataframe tbody tr th {\n",
       "        vertical-align: top;\n",
       "    }\n",
       "\n",
       "    .dataframe thead th {\n",
       "        text-align: right;\n",
       "    }\n",
       "</style>\n",
       "<table border=\"1\" class=\"dataframe\">\n",
       "  <thead>\n",
       "    <tr style=\"text-align: right;\">\n",
       "      <th></th>\n",
       "      <th>pid</th>\n",
       "      <th>fileName</th>\n",
       "      <th>purpose</th>\n",
       "      <th>topic.acq</th>\n",
       "      <th>topic.alum</th>\n",
       "      <th>topic.austdlr</th>\n",
       "      <th>topic.austral</th>\n",
       "      <th>topic.barley</th>\n",
       "      <th>topic.bfr</th>\n",
       "      <th>topic.bop</th>\n",
       "      <th>...</th>\n",
       "      <th>topic.tung</th>\n",
       "      <th>topic.tung.oil</th>\n",
       "      <th>topic.veg.oil</th>\n",
       "      <th>topic.wheat</th>\n",
       "      <th>topic.wool</th>\n",
       "      <th>topic.wpi</th>\n",
       "      <th>topic.yen</th>\n",
       "      <th>topic.zinc</th>\n",
       "      <th>doc.title</th>\n",
       "      <th>doc.text</th>\n",
       "    </tr>\n",
       "  </thead>\n",
       "  <tbody>\n",
       "    <tr>\n",
       "      <th>20706</th>\n",
       "      <td>20707</td>\n",
       "      <td>20</td>\n",
       "      <td>test</td>\n",
       "      <td>0</td>\n",
       "      <td>0</td>\n",
       "      <td>0</td>\n",
       "      <td>0</td>\n",
       "      <td>0</td>\n",
       "      <td>0</td>\n",
       "      <td>0</td>\n",
       "      <td>...</td>\n",
       "      <td>0</td>\n",
       "      <td>0</td>\n",
       "      <td>0</td>\n",
       "      <td>0</td>\n",
       "      <td>0</td>\n",
       "      <td>0</td>\n",
       "      <td>0</td>\n",
       "      <td>0</td>\n",
       "      <td>MENTOR CORP (MNTR.O) TO REPURCHASE SHARES</td>\n",
       "      <td>Mentor Corp said its board of directors has au...</td>\n",
       "    </tr>\n",
       "    <tr>\n",
       "      <th>5852</th>\n",
       "      <td>5853</td>\n",
       "      <td>5</td>\n",
       "      <td>train</td>\n",
       "      <td>0</td>\n",
       "      <td>0</td>\n",
       "      <td>0</td>\n",
       "      <td>0</td>\n",
       "      <td>0</td>\n",
       "      <td>0</td>\n",
       "      <td>0</td>\n",
       "      <td>...</td>\n",
       "      <td>0</td>\n",
       "      <td>0</td>\n",
       "      <td>0</td>\n",
       "      <td>0</td>\n",
       "      <td>0</td>\n",
       "      <td>0</td>\n",
       "      <td>0</td>\n",
       "      <td>0</td>\n",
       "      <td>BANK OF JAPAN TO SELL 300 BILLION YEN IN BILLS</td>\n",
       "      <td>The Bank of Japan will sell 300 billion yen of...</td>\n",
       "    </tr>\n",
       "    <tr>\n",
       "      <th>10121</th>\n",
       "      <td>10122</td>\n",
       "      <td>10</td>\n",
       "      <td>train</td>\n",
       "      <td>0</td>\n",
       "      <td>0</td>\n",
       "      <td>0</td>\n",
       "      <td>0</td>\n",
       "      <td>0</td>\n",
       "      <td>0</td>\n",
       "      <td>0</td>\n",
       "      <td>...</td>\n",
       "      <td>0</td>\n",
       "      <td>0</td>\n",
       "      <td>0</td>\n",
       "      <td>0</td>\n",
       "      <td>0</td>\n",
       "      <td>0</td>\n",
       "      <td>0</td>\n",
       "      <td>0</td>\n",
       "      <td>COCOA CHAIRMAN WORKS TOWARDS BUFFER COMPROMISE</td>\n",
       "      <td>International Cocoa Organization's, ICCO, coun...</td>\n",
       "    </tr>\n",
       "  </tbody>\n",
       "</table>\n",
       "<p>3 rows × 140 columns</p>\n",
       "</div>"
      ],
      "text/plain": [
       "         pid  fileName purpose  topic.acq  topic.alum  topic.austdlr  \\\n",
       "20706  20707        20    test          0           0              0   \n",
       "5852    5853         5   train          0           0              0   \n",
       "10121  10122        10   train          0           0              0   \n",
       "\n",
       "       topic.austral  topic.barley  topic.bfr  topic.bop  \\\n",
       "20706              0             0          0          0   \n",
       "5852               0             0          0          0   \n",
       "10121              0             0          0          0   \n",
       "\n",
       "                             ...                          topic.tung  \\\n",
       "20706                        ...                                   0   \n",
       "5852                         ...                                   0   \n",
       "10121                        ...                                   0   \n",
       "\n",
       "       topic.tung.oil  topic.veg.oil  topic.wheat  topic.wool  topic.wpi  \\\n",
       "20706               0              0            0           0          0   \n",
       "5852                0              0            0           0          0   \n",
       "10121               0              0            0           0          0   \n",
       "\n",
       "       topic.yen  topic.zinc                                       doc.title  \\\n",
       "20706          0           0       MENTOR CORP (MNTR.O) TO REPURCHASE SHARES   \n",
       "5852           0           0  BANK OF JAPAN TO SELL 300 BILLION YEN IN BILLS   \n",
       "10121          0           0  COCOA CHAIRMAN WORKS TOWARDS BUFFER COMPROMISE   \n",
       "\n",
       "                                                doc.text  \n",
       "20706  Mentor Corp said its board of directors has au...  \n",
       "5852   The Bank of Japan will sell 300 billion yen of...  \n",
       "10121  International Cocoa Organization's, ICCO, coun...  \n",
       "\n",
       "[3 rows x 140 columns]"
      ]
     },
     "execution_count": 8,
     "metadata": {},
     "output_type": "execute_result"
    }
   ],
   "source": [
    "df.sample(3)"
   ]
  },
  {
   "cell_type": "code",
   "execution_count": 9,
   "metadata": {},
   "outputs": [
    {
     "name": "stdout",
     "output_type": "stream",
     "text": [
      "df rows count: 21578 vs df.pid unique values count:  21578\n"
     ]
    }
   ],
   "source": [
    "# seems like pid is a uqique document id, lets check it out:\n",
    "print('df rows count:', df.index.size, 'vs df.pid unique values count: ', df.pid.nunique())"
   ]
  },
  {
   "cell_type": "code",
   "execution_count": 10,
   "metadata": {},
   "outputs": [],
   "source": [
    "# better to use pid as index then:\n",
    "df = df.set_index('pid')"
   ]
  },
  {
   "cell_type": "code",
   "execution_count": null,
   "metadata": {},
   "outputs": [],
   "source": []
  },
  {
   "cell_type": "code",
   "execution_count": 11,
   "metadata": {},
   "outputs": [],
   "source": [
    "# select columns with topic markers using the exposed String class methods via df[columns].str:\n",
    "topic_cols = df.columns.str.find('topic')==0"
   ]
  },
  {
   "cell_type": "code",
   "execution_count": 12,
   "metadata": {},
   "outputs": [],
   "source": [
    "# create 'docs' subset with document columns only:\n",
    "docs = df.loc[:,~topic_cols]"
   ]
  },
  {
   "cell_type": "code",
   "execution_count": 13,
   "metadata": {},
   "outputs": [],
   "source": [
    "# and 'topics' subset with only topic marker columns:\n",
    "topics =  (\n",
    "    df.loc[:,topic_cols]\n",
    "      .rename(columns=lambda x: x.replace('topic.', ''))\n",
    "      .rename_axis('topic', axis=1)\n",
    "     \n",
    ")"
   ]
  },
  {
   "cell_type": "code",
   "execution_count": 14,
   "metadata": {},
   "outputs": [
    {
     "data": {
      "text/html": [
       "<div>\n",
       "<style scoped>\n",
       "    .dataframe tbody tr th:only-of-type {\n",
       "        vertical-align: middle;\n",
       "    }\n",
       "\n",
       "    .dataframe tbody tr th {\n",
       "        vertical-align: top;\n",
       "    }\n",
       "\n",
       "    .dataframe thead th {\n",
       "        text-align: right;\n",
       "    }\n",
       "</style>\n",
       "<table border=\"1\" class=\"dataframe\">\n",
       "  <thead>\n",
       "    <tr style=\"text-align: right;\">\n",
       "      <th></th>\n",
       "      <th>fileName</th>\n",
       "      <th>purpose</th>\n",
       "      <th>doc.title</th>\n",
       "      <th>doc.text</th>\n",
       "    </tr>\n",
       "    <tr>\n",
       "      <th>pid</th>\n",
       "      <th></th>\n",
       "      <th></th>\n",
       "      <th></th>\n",
       "      <th></th>\n",
       "    </tr>\n",
       "  </thead>\n",
       "  <tbody>\n",
       "    <tr>\n",
       "      <th>18466</th>\n",
       "      <td>18</td>\n",
       "      <td>test</td>\n",
       "      <td>CHINA MOVES TO STABILISE WORLD TUNGSTEN PRICES</td>\n",
       "      <td>China is moving to stabilise world prices of t...</td>\n",
       "    </tr>\n",
       "    <tr>\n",
       "      <th>20270</th>\n",
       "      <td>20</td>\n",
       "      <td>test</td>\n",
       "      <td>NORWAY BOOSTS OIL OUTPUT BY 22 PCT IN SEPTEMBER</td>\n",
       "      <td>Norway's September oil output rose by 22.2 pct...</td>\n",
       "    </tr>\n",
       "    <tr>\n",
       "      <th>16297</th>\n",
       "      <td>16</td>\n",
       "      <td>test</td>\n",
       "      <td>O'SULLIVAN CORP &amp;lt;OSL&gt; 1ST QTR NET</td>\n",
       "      <td>Shr 28 cts vs 32 cts     Net 2,823,000 vs 3,21...</td>\n",
       "    </tr>\n",
       "  </tbody>\n",
       "</table>\n",
       "</div>"
      ],
      "text/plain": [
       "       fileName purpose                                        doc.title  \\\n",
       "pid                                                                        \n",
       "18466        18    test   CHINA MOVES TO STABILISE WORLD TUNGSTEN PRICES   \n",
       "20270        20    test  NORWAY BOOSTS OIL OUTPUT BY 22 PCT IN SEPTEMBER   \n",
       "16297        16    test             O'SULLIVAN CORP &lt;OSL> 1ST QTR NET   \n",
       "\n",
       "                                                doc.text  \n",
       "pid                                                       \n",
       "18466  China is moving to stabilise world prices of t...  \n",
       "20270  Norway's September oil output rose by 22.2 pct...  \n",
       "16297  Shr 28 cts vs 32 cts     Net 2,823,000 vs 3,21...  "
      ]
     },
     "execution_count": 14,
     "metadata": {},
     "output_type": "execute_result"
    }
   ],
   "source": [
    "docs.sample(3)"
   ]
  },
  {
   "cell_type": "code",
   "execution_count": 15,
   "metadata": {},
   "outputs": [
    {
     "data": {
      "text/html": [
       "<div>\n",
       "<style scoped>\n",
       "    .dataframe tbody tr th:only-of-type {\n",
       "        vertical-align: middle;\n",
       "    }\n",
       "\n",
       "    .dataframe tbody tr th {\n",
       "        vertical-align: top;\n",
       "    }\n",
       "\n",
       "    .dataframe thead th {\n",
       "        text-align: right;\n",
       "    }\n",
       "</style>\n",
       "<table border=\"1\" class=\"dataframe\">\n",
       "  <thead>\n",
       "    <tr style=\"text-align: right;\">\n",
       "      <th>topic</th>\n",
       "      <th>acq</th>\n",
       "      <th>alum</th>\n",
       "      <th>austdlr</th>\n",
       "      <th>austral</th>\n",
       "      <th>barley</th>\n",
       "      <th>bfr</th>\n",
       "      <th>bop</th>\n",
       "      <th>can</th>\n",
       "      <th>carcass</th>\n",
       "      <th>castor.meal</th>\n",
       "      <th>...</th>\n",
       "      <th>tin</th>\n",
       "      <th>trade</th>\n",
       "      <th>tung</th>\n",
       "      <th>tung.oil</th>\n",
       "      <th>veg.oil</th>\n",
       "      <th>wheat</th>\n",
       "      <th>wool</th>\n",
       "      <th>wpi</th>\n",
       "      <th>yen</th>\n",
       "      <th>zinc</th>\n",
       "    </tr>\n",
       "    <tr>\n",
       "      <th>pid</th>\n",
       "      <th></th>\n",
       "      <th></th>\n",
       "      <th></th>\n",
       "      <th></th>\n",
       "      <th></th>\n",
       "      <th></th>\n",
       "      <th></th>\n",
       "      <th></th>\n",
       "      <th></th>\n",
       "      <th></th>\n",
       "      <th></th>\n",
       "      <th></th>\n",
       "      <th></th>\n",
       "      <th></th>\n",
       "      <th></th>\n",
       "      <th></th>\n",
       "      <th></th>\n",
       "      <th></th>\n",
       "      <th></th>\n",
       "      <th></th>\n",
       "      <th></th>\n",
       "    </tr>\n",
       "  </thead>\n",
       "  <tbody>\n",
       "    <tr>\n",
       "      <th>13579</th>\n",
       "      <td>0</td>\n",
       "      <td>0</td>\n",
       "      <td>0</td>\n",
       "      <td>0</td>\n",
       "      <td>0</td>\n",
       "      <td>0</td>\n",
       "      <td>0</td>\n",
       "      <td>0</td>\n",
       "      <td>0</td>\n",
       "      <td>0</td>\n",
       "      <td>...</td>\n",
       "      <td>0</td>\n",
       "      <td>0</td>\n",
       "      <td>0</td>\n",
       "      <td>0</td>\n",
       "      <td>0</td>\n",
       "      <td>0</td>\n",
       "      <td>0</td>\n",
       "      <td>0</td>\n",
       "      <td>0</td>\n",
       "      <td>0</td>\n",
       "    </tr>\n",
       "    <tr>\n",
       "      <th>7762</th>\n",
       "      <td>0</td>\n",
       "      <td>0</td>\n",
       "      <td>0</td>\n",
       "      <td>0</td>\n",
       "      <td>0</td>\n",
       "      <td>0</td>\n",
       "      <td>0</td>\n",
       "      <td>0</td>\n",
       "      <td>0</td>\n",
       "      <td>0</td>\n",
       "      <td>...</td>\n",
       "      <td>0</td>\n",
       "      <td>0</td>\n",
       "      <td>0</td>\n",
       "      <td>0</td>\n",
       "      <td>0</td>\n",
       "      <td>0</td>\n",
       "      <td>0</td>\n",
       "      <td>0</td>\n",
       "      <td>0</td>\n",
       "      <td>0</td>\n",
       "    </tr>\n",
       "    <tr>\n",
       "      <th>18844</th>\n",
       "      <td>0</td>\n",
       "      <td>0</td>\n",
       "      <td>0</td>\n",
       "      <td>0</td>\n",
       "      <td>0</td>\n",
       "      <td>0</td>\n",
       "      <td>0</td>\n",
       "      <td>0</td>\n",
       "      <td>0</td>\n",
       "      <td>0</td>\n",
       "      <td>...</td>\n",
       "      <td>0</td>\n",
       "      <td>0</td>\n",
       "      <td>0</td>\n",
       "      <td>0</td>\n",
       "      <td>0</td>\n",
       "      <td>0</td>\n",
       "      <td>0</td>\n",
       "      <td>0</td>\n",
       "      <td>0</td>\n",
       "      <td>0</td>\n",
       "    </tr>\n",
       "  </tbody>\n",
       "</table>\n",
       "<p>3 rows × 135 columns</p>\n",
       "</div>"
      ],
      "text/plain": [
       "topic  acq  alum  austdlr  austral  barley  bfr  bop  can  carcass  \\\n",
       "pid                                                                  \n",
       "13579    0     0        0        0       0    0    0    0        0   \n",
       "7762     0     0        0        0       0    0    0    0        0   \n",
       "18844    0     0        0        0       0    0    0    0        0   \n",
       "\n",
       "topic  castor.meal  ...   tin  trade  tung  tung.oil  veg.oil  wheat  wool  \\\n",
       "pid                 ...                                                      \n",
       "13579            0  ...     0      0     0         0        0      0     0   \n",
       "7762             0  ...     0      0     0         0        0      0     0   \n",
       "18844            0  ...     0      0     0         0        0      0     0   \n",
       "\n",
       "topic  wpi  yen  zinc  \n",
       "pid                    \n",
       "13579    0    0     0  \n",
       "7762     0    0     0  \n",
       "18844    0    0     0  \n",
       "\n",
       "[3 rows x 135 columns]"
      ]
     },
     "execution_count": 15,
     "metadata": {},
     "output_type": "execute_result"
    }
   ],
   "source": [
    "topics.sample(3)"
   ]
  },
  {
   "cell_type": "code",
   "execution_count": 16,
   "metadata": {},
   "outputs": [
    {
     "data": {
      "text/plain": [
       "135"
      ]
     },
     "execution_count": 16,
     "metadata": {},
     "output_type": "execute_result"
    }
   ],
   "source": [
    "# number of topics:\n",
    "topics.columns.size"
   ]
  },
  {
   "cell_type": "markdown",
   "metadata": {},
   "source": [
    "### Some basic analysis of the data set"
   ]
  },
  {
   "cell_type": "code",
   "execution_count": 17,
   "metadata": {
    "scrolled": true
   },
   "outputs": [
    {
     "data": {
      "text/plain": [
       "topic\n",
       "earn        3987\n",
       "acq         2448\n",
       "money.fx     801\n",
       "crude        634\n",
       "grain        628\n",
       "trade        551\n",
       "interest     513\n",
       "wheat        306\n",
       "ship         305\n",
       "corn         253\n",
       "Name: 0, dtype: int64"
      ]
     },
     "execution_count": 17,
     "metadata": {},
     "output_type": "execute_result"
    }
   ],
   "source": [
    "# Document count per topic:\n",
    "(topics.stack()\n",
    " .reset_index()\n",
    " .groupby('topic')[0].sum()\n",
    " .sort_values(0, ascending=False)\n",
    " .head(10)\n",
    ")"
   ]
  },
  {
   "cell_type": "code",
   "execution_count": 18,
   "metadata": {},
   "outputs": [
    {
     "data": {
      "text/plain": [
       "<matplotlib.axes._subplots.AxesSubplot at 0x14409c1ce10>"
      ]
     },
     "execution_count": 18,
     "metadata": {},
     "output_type": "execute_result"
    },
    {
     "data": {
      "image/png": "[encoded data removed]",
      "text/plain": [
       "<Figure size 720x432 with 1 Axes>"
      ]
     },
     "metadata": {},
     "output_type": "display_data"
    }
   ],
   "source": [
    "topics.stack().reset_index().groupby('topic')[0].sum().sort_values().tail(20).plot(kind='barh')"
   ]
  },
  {
   "cell_type": "code",
   "execution_count": 19,
   "metadata": {},
   "outputs": [
    {
     "data": {
      "text/plain": [
       "list"
      ]
     },
     "execution_count": 19,
     "metadata": {},
     "output_type": "execute_result"
    },
    {
     "data": {
      "image/png": "[encoded data removed]",
      "text/plain": [
       "<Figure size 720x432 with 1 Axes>"
      ]
     },
     "metadata": {},
     "output_type": "display_data"
    }
   ],
   "source": [
    "# the same with the long tail:\n",
    "type((topics.stack()\n",
    " .reset_index()\n",
    " .groupby('topic')[0].sum()\n",
    " .sort_values(ascending=False)\n",
    " .plot(kind='line', color='tomato', use_index=False, title='Docs per Topic', logy=False).set(xlabel='topics', ylabel='docs count')\n",
    "))"
   ]
  },
  {
   "cell_type": "code",
   "execution_count": 20,
   "metadata": {},
   "outputs": [
    {
     "data": {
      "text/html": [
       "<style  type=\"text/css\" >\n",
       "</style>  \n",
       "<table id=\"T_bcbe9574_ab94_11e8_a00a_f8633f33b7f7\" > \n",
       "<thead>    <tr> \n",
       "        <th class=\"blank level0\" ></th> \n",
       "        <th class=\"col_heading level0 col0\" >docs_num</th> \n",
       "        <th class=\"col_heading level0 col1\" >percent</th> \n",
       "    </tr>    <tr> \n",
       "        <th class=\"index_name level0\" >topics_per_doc</th> \n",
       "        <th class=\"blank\" ></th> \n",
       "        <th class=\"blank\" ></th> \n",
       "    </tr></thead> \n",
       "<tbody>    <tr> \n",
       "        <th id=\"T_bcbe9574_ab94_11e8_a00a_f8633f33b7f7level0_row0\" class=\"row_heading level0 row0\" >0</th> \n",
       "        <td id=\"T_bcbe9574_ab94_11e8_a00a_f8633f33b7f7row0_col0\" class=\"data row0 col0\" >10238</td> \n",
       "        <td id=\"T_bcbe9574_ab94_11e8_a00a_f8633f33b7f7row0_col1\" class=\"data row0 col1\" >47.45</td> \n",
       "    </tr>    <tr> \n",
       "        <th id=\"T_bcbe9574_ab94_11e8_a00a_f8633f33b7f7level0_row1\" class=\"row_heading level0 row1\" >1</th> \n",
       "        <td id=\"T_bcbe9574_ab94_11e8_a00a_f8633f33b7f7row1_col0\" class=\"data row1 col0\" >9470</td> \n",
       "        <td id=\"T_bcbe9574_ab94_11e8_a00a_f8633f33b7f7row1_col1\" class=\"data row1 col1\" >43.89</td> \n",
       "    </tr>    <tr> \n",
       "        <th id=\"T_bcbe9574_ab94_11e8_a00a_f8633f33b7f7level0_row2\" class=\"row_heading level0 row2\" >2</th> \n",
       "        <td id=\"T_bcbe9574_ab94_11e8_a00a_f8633f33b7f7row2_col0\" class=\"data row2 col0\" >1339</td> \n",
       "        <td id=\"T_bcbe9574_ab94_11e8_a00a_f8633f33b7f7row2_col1\" class=\"data row2 col1\" >6.21</td> \n",
       "    </tr>    <tr> \n",
       "        <th id=\"T_bcbe9574_ab94_11e8_a00a_f8633f33b7f7level0_row3\" class=\"row_heading level0 row3\" >3</th> \n",
       "        <td id=\"T_bcbe9574_ab94_11e8_a00a_f8633f33b7f7row3_col0\" class=\"data row3 col0\" >310</td> \n",
       "        <td id=\"T_bcbe9574_ab94_11e8_a00a_f8633f33b7f7row3_col1\" class=\"data row3 col1\" >1.44</td> \n",
       "    </tr>    <tr> \n",
       "        <th id=\"T_bcbe9574_ab94_11e8_a00a_f8633f33b7f7level0_row4\" class=\"row_heading level0 row4\" >4</th> \n",
       "        <td id=\"T_bcbe9574_ab94_11e8_a00a_f8633f33b7f7row4_col0\" class=\"data row4 col0\" >101</td> \n",
       "        <td id=\"T_bcbe9574_ab94_11e8_a00a_f8633f33b7f7row4_col1\" class=\"data row4 col1\" >0.47</td> \n",
       "    </tr>    <tr> \n",
       "        <th id=\"T_bcbe9574_ab94_11e8_a00a_f8633f33b7f7level0_row5\" class=\"row_heading level0 row5\" >5</th> \n",
       "        <td id=\"T_bcbe9574_ab94_11e8_a00a_f8633f33b7f7row5_col0\" class=\"data row5 col0\" >63</td> \n",
       "        <td id=\"T_bcbe9574_ab94_11e8_a00a_f8633f33b7f7row5_col1\" class=\"data row5 col1\" >0.29</td> \n",
       "    </tr>    <tr> \n",
       "        <th id=\"T_bcbe9574_ab94_11e8_a00a_f8633f33b7f7level0_row6\" class=\"row_heading level0 row6\" >6</th> \n",
       "        <td id=\"T_bcbe9574_ab94_11e8_a00a_f8633f33b7f7row6_col0\" class=\"data row6 col0\" >25</td> \n",
       "        <td id=\"T_bcbe9574_ab94_11e8_a00a_f8633f33b7f7row6_col1\" class=\"data row6 col1\" >0.12</td> \n",
       "    </tr>    <tr> \n",
       "        <th id=\"T_bcbe9574_ab94_11e8_a00a_f8633f33b7f7level0_row7\" class=\"row_heading level0 row7\" >7</th> \n",
       "        <td id=\"T_bcbe9574_ab94_11e8_a00a_f8633f33b7f7row7_col0\" class=\"data row7 col0\" >10</td> \n",
       "        <td id=\"T_bcbe9574_ab94_11e8_a00a_f8633f33b7f7row7_col1\" class=\"data row7 col1\" >0.05</td> \n",
       "    </tr>    <tr> \n",
       "        <th id=\"T_bcbe9574_ab94_11e8_a00a_f8633f33b7f7level0_row8\" class=\"row_heading level0 row8\" >8</th> \n",
       "        <td id=\"T_bcbe9574_ab94_11e8_a00a_f8633f33b7f7row8_col0\" class=\"data row8 col0\" >9</td> \n",
       "        <td id=\"T_bcbe9574_ab94_11e8_a00a_f8633f33b7f7row8_col1\" class=\"data row8 col1\" >0.04</td> \n",
       "    </tr>    <tr> \n",
       "        <th id=\"T_bcbe9574_ab94_11e8_a00a_f8633f33b7f7level0_row9\" class=\"row_heading level0 row9\" >9</th> \n",
       "        <td id=\"T_bcbe9574_ab94_11e8_a00a_f8633f33b7f7row9_col0\" class=\"data row9 col0\" >4</td> \n",
       "        <td id=\"T_bcbe9574_ab94_11e8_a00a_f8633f33b7f7row9_col1\" class=\"data row9 col1\" >0.02</td> \n",
       "    </tr>    <tr> \n",
       "        <th id=\"T_bcbe9574_ab94_11e8_a00a_f8633f33b7f7level0_row10\" class=\"row_heading level0 row10\" >10</th> \n",
       "        <td id=\"T_bcbe9574_ab94_11e8_a00a_f8633f33b7f7row10_col0\" class=\"data row10 col0\" >4</td> \n",
       "        <td id=\"T_bcbe9574_ab94_11e8_a00a_f8633f33b7f7row10_col1\" class=\"data row10 col1\" >0.02</td> \n",
       "    </tr>    <tr> \n",
       "        <th id=\"T_bcbe9574_ab94_11e8_a00a_f8633f33b7f7level0_row11\" class=\"row_heading level0 row11\" >12</th> \n",
       "        <td id=\"T_bcbe9574_ab94_11e8_a00a_f8633f33b7f7row11_col0\" class=\"data row11 col0\" >2</td> \n",
       "        <td id=\"T_bcbe9574_ab94_11e8_a00a_f8633f33b7f7row11_col1\" class=\"data row11 col1\" >0.01</td> \n",
       "    </tr>    <tr> \n",
       "        <th id=\"T_bcbe9574_ab94_11e8_a00a_f8633f33b7f7level0_row12\" class=\"row_heading level0 row12\" >13</th> \n",
       "        <td id=\"T_bcbe9574_ab94_11e8_a00a_f8633f33b7f7row12_col0\" class=\"data row12 col0\" >2</td> \n",
       "        <td id=\"T_bcbe9574_ab94_11e8_a00a_f8633f33b7f7row12_col1\" class=\"data row12 col1\" >0.01</td> \n",
       "    </tr>    <tr> \n",
       "        <th id=\"T_bcbe9574_ab94_11e8_a00a_f8633f33b7f7level0_row13\" class=\"row_heading level0 row13\" >15</th> \n",
       "        <td id=\"T_bcbe9574_ab94_11e8_a00a_f8633f33b7f7row13_col0\" class=\"data row13 col0\" >1</td> \n",
       "        <td id=\"T_bcbe9574_ab94_11e8_a00a_f8633f33b7f7row13_col1\" class=\"data row13 col1\" >0.00</td> \n",
       "    </tr></tbody> \n",
       "</table> "
      ],
      "text/plain": [
       "<pandas.io.formats.style.Styler at 0x1440ccc1d68>"
      ]
     },
     "execution_count": 20,
     "metadata": {},
     "output_type": "execute_result"
    }
   ],
   "source": [
    "# How many topics one document may have?\n",
    "(topics\n",
    " .sum(axis=1)\n",
    " .rename('topics_per_doc')\n",
    " .to_frame()\n",
    " .groupby('topics_per_doc').size().rename('docs_num')   \n",
    " .to_frame()\n",
    " .assign(percent = lambda x: 100*x.docs_num/x.docs_num.sum())\n",
    " .style.format({\n",
    "     'percent': '{:,.2f}'.format\n",
    " })\n",
    ")"
   ]
  },
  {
   "cell_type": "code",
   "execution_count": 21,
   "metadata": {},
   "outputs": [
    {
     "data": {
      "text/plain": [
       "[None]"
      ]
     },
     "execution_count": 21,
     "metadata": {},
     "output_type": "execute_result"
    },
    {
     "data": {
      "image/png": "[encoded data removed]",
      "text/plain": [
       "<Figure size 720x432 with 1 Axes>"
      ]
     },
     "metadata": {},
     "output_type": "display_data"
    }
   ],
   "source": [
    "# Topics per document - chart\n",
    "(topics\n",
    " .sum(axis=1)\n",
    " .rename('topics_per_doc')\n",
    ").hist().set(yscale='log')"
   ]
  },
  {
   "cell_type": "code",
   "execution_count": 22,
   "metadata": {},
   "outputs": [
    {
     "data": {
      "image/png": "[encoded data removed]",
      "text/plain": [
       "<Figure size 720x432 with 1 Axes>"
      ]
     },
     "metadata": {},
     "output_type": "display_data"
    }
   ],
   "source": [
    "# words count per document:\n",
    "(docs\n",
    " .assign(words_count = lambda x: (x['doc.text'] + x['doc.title']).str.strip().str.split(' ').apply(len))\n",
    " .words_count\n",
    " .hist(bins=100).set(xlabel='words count', ylabel='docs count', yscale='log')\n",
    ") \n",
    "plt.show()"
   ]
  },
  {
   "cell_type": "code",
   "execution_count": 23,
   "metadata": {},
   "outputs": [],
   "source": [
    "# unique words count (per pd.Series)\n",
    "def get_words_count(series):\n",
    "    words = set()\n",
    "    series.str.split().apply(words.update)\n",
    "    return(len(words))"
   ]
  },
  {
   "cell_type": "code",
   "execution_count": 24,
   "metadata": {},
   "outputs": [
    {
     "name": "stdout",
     "output_type": "stream",
     "text": [
      "134890\n"
     ]
    }
   ],
   "source": [
    "# check the unique words in doc.title and doc.text:\n",
    "print(get_words_count(docs['doc.title'] + ' ' + docs['doc.text']))"
   ]
  },
  {
   "cell_type": "code",
   "execution_count": 25,
   "metadata": {},
   "outputs": [
    {
     "data": {
      "text/plain": [
       "[Text(0.5,0,'frequency, %')]"
      ]
     },
     "execution_count": 25,
     "metadata": {},
     "output_type": "execute_result"
    },
    {
     "data": {
      "image/png": "[encoded data removed]",
      "text/plain": [
       "<Figure size 504x720 with 1 Axes>"
      ]
     },
     "metadata": {},
     "output_type": "display_data"
    }
   ],
   "source": [
    "# but what about word frequency?  \n",
    "((docs['doc.title'] + ' ' + docs['doc.text'])\n",
    " .str.split(expand=True)\n",
    " .stack()\n",
    " .rename('word')\n",
    " .reset_index()\n",
    " .groupby('word').size().rename('cnt')\n",
    " .to_frame()\n",
    " .assign(percent = lambda x: 100*x.cnt/x.cnt.sum())\n",
    " .sort_values('cnt').tail(30)\n",
    ").percent.plot(kind='barh', color='steelblue', figsize=(7,10)).set(xlabel='frequency, %')"
   ]
  },
  {
   "cell_type": "code",
   "execution_count": null,
   "metadata": {},
   "outputs": [],
   "source": []
  },
  {
   "cell_type": "markdown",
   "metadata": {},
   "source": [
    "### Text Pre-processing for ML"
   ]
  },
  {
   "cell_type": "code",
   "execution_count": 26,
   "metadata": {},
   "outputs": [],
   "source": [
    "def lower_case(string):\n",
    "    return string.lower()\n",
    "\n",
    "def fix_lt(string):\n",
    "    # fix the HTML-escaped less-than sign\n",
    "    return re.sub(r'&lt;', '<', string)\n",
    "\n",
    "def remove_reuter(string):\n",
    "    # fix the HTML-escaped less-than sign\n",
    "    return re.sub(r'reuter$', '', string)\n",
    "\n",
    "def replace_non_alphanumeric_with_space(string):\n",
    "    # replace punctuation and different whitespace with space character\n",
    "    return re.sub(r'[^a-z0-9 ]', ' ', string)\n",
    "\n",
    "def strip_punctuation(string):\n",
    "    # remove punctuation\n",
    "    return re.sub(r'[^a-z0-9\\s]', ' ', string)\n",
    "\n",
    "def remove_stop_words(string, stop_words):\n",
    "    return ' '.join([ word for word in re.split(' ', string) if not word in stop_words ])\n",
    "\n",
    "def replace_numeric_with_literal(string):\n",
    "    return re.sub(r'([0-9]+ ?)+', '<num> ', string)\n",
    "\n",
    "def compact_whitespace(string):\n",
    "    return re.sub(r'\\s+', ' ', string)\n",
    "\n",
    "def stem(string, stemmer):\n",
    "    return ' '.join([ \n",
    "        stemmer.stem(word) if hasattr(stemmer, 'stem') else stemmer.lemmatize(word)\n",
    "        for word in re.split(' ', string) if not word in stop_words \n",
    "    ])"
   ]
  },
  {
   "cell_type": "code",
   "execution_count": 27,
   "metadata": {},
   "outputs": [],
   "source": [
    "stop_words = stopwords.words('english')\n",
    "\n",
    "stemmer = LancasterStemmer()"
   ]
  },
  {
   "cell_type": "code",
   "execution_count": 28,
   "metadata": {},
   "outputs": [],
   "source": [
    "def pre_process(string):\n",
    "    s = lower_case(string)\n",
    "    s = fix_lt(s)\n",
    "    s = remove_reuter(s)\n",
    "    s = strip_punctuation(s)\n",
    "    s = remove_stop_words(s, stop_words)\n",
    "    s = compact_whitespace(s)\n",
    "    s = replace_numeric_with_literal(s)\n",
    "    s = stem(s, stemmer)\n",
    "    return s.strip()"
   ]
  },
  {
   "cell_type": "code",
   "execution_count": 29,
   "metadata": {},
   "outputs": [
    {
     "name": "stdout",
     "output_type": "stream",
     "text": [
      "National Medical Care Systems INc said it has named Arthur Axelrod its Chairman and Robert Kim its president.     Axelrod, who had been president, replaces U.T. Thompson III, who resigned March 1.     Kim had been a board director and director of operations for the company's primary operating subsidiary, National Health Care Systems of California, Inc.  Reuter \n",
      "\n",
      "nat med car system int said nam arth axelrod chairm robert kim presid axelrod presid replac u thompson ii resign march <num> kim board direct direct op company prim op subsidy nat heal car system californ int reut\n"
     ]
    }
   ],
   "source": [
    "# pre-processing example:\n",
    "print(\"\\n\\n\".join(docs.sample(1).assign(new_text = lambda x: x['doc.text'].apply(pre_process))[['doc.text', 'new_text']].values[0]))\n"
   ]
  },
  {
   "cell_type": "code",
   "execution_count": null,
   "metadata": {},
   "outputs": [],
   "source": []
  },
  {
   "cell_type": "code",
   "execution_count": 30,
   "metadata": {},
   "outputs": [
    {
     "name": "stderr",
     "output_type": "stream",
     "text": [
      "C:\\ProgramData\\Anaconda3\\lib\\site-packages\\ipykernel_launcher.py:1: SettingWithCopyWarning: \n",
      "A value is trying to be set on a copy of a slice from a DataFrame.\n",
      "Try using .loc[row_indexer,col_indexer] = value instead\n",
      "\n",
      "See the caveats in the documentation: http://pandas.pydata.org/pandas-docs/stable/indexing.html#indexing-view-versus-copy\n",
      "  \"\"\"Entry point for launching an IPython kernel.\n"
     ]
    }
   ],
   "source": [
    "docs['processed_text'] = (docs['doc.title'] + ' ' + docs['doc.text']).apply(pre_process)"
   ]
  },
  {
   "cell_type": "code",
   "execution_count": null,
   "metadata": {},
   "outputs": [],
   "source": []
  },
  {
   "cell_type": "code",
   "execution_count": 31,
   "metadata": {},
   "outputs": [
    {
     "data": {
      "text/html": [
       "<div>\n",
       "<style scoped>\n",
       "    .dataframe tbody tr th:only-of-type {\n",
       "        vertical-align: middle;\n",
       "    }\n",
       "\n",
       "    .dataframe tbody tr th {\n",
       "        vertical-align: top;\n",
       "    }\n",
       "\n",
       "    .dataframe thead th {\n",
       "        text-align: right;\n",
       "    }\n",
       "</style>\n",
       "<table border=\"1\" class=\"dataframe\">\n",
       "  <thead>\n",
       "    <tr style=\"text-align: right;\">\n",
       "      <th></th>\n",
       "      <th>fileName</th>\n",
       "      <th>purpose</th>\n",
       "      <th>doc.title</th>\n",
       "      <th>doc.text</th>\n",
       "      <th>processed_text</th>\n",
       "    </tr>\n",
       "    <tr>\n",
       "      <th>pid</th>\n",
       "      <th></th>\n",
       "      <th></th>\n",
       "      <th></th>\n",
       "      <th></th>\n",
       "      <th></th>\n",
       "    </tr>\n",
       "  </thead>\n",
       "  <tbody>\n",
       "    <tr>\n",
       "      <th>14322</th>\n",
       "      <td>14</td>\n",
       "      <td>train</td>\n",
       "      <td></td>\n",
       "      <td>WALL STREET INDICES 1200   NYSE COMPOSITE    ...</td>\n",
       "      <td>wal street ind &lt;num&gt; nys composit &lt;num&gt; nys in...</td>\n",
       "    </tr>\n",
       "    <tr>\n",
       "      <th>18115</th>\n",
       "      <td>18</td>\n",
       "      <td>test</td>\n",
       "      <td>LOPAT INDUSTRIES &amp;lt;LPAT.O&gt; HAS PROFITABLE MONTH</td>\n",
       "      <td>Lopat Industries Inc said it had its first pro...</td>\n",
       "      <td>lop industry lpat profit mon lop industry int ...</td>\n",
       "    </tr>\n",
       "    <tr>\n",
       "      <th>1345</th>\n",
       "      <td>1</td>\n",
       "      <td>train</td>\n",
       "      <td>MAUI LAND AND PINAPPLE CO INC QUARTERLY DIVIDEND</td>\n",
       "      <td>Qtly div 12-1/2 cts vs 12-1/2 cts     Pay Marc...</td>\n",
       "      <td>mau land pinappl co int quart dividend qtly di...</td>\n",
       "    </tr>\n",
       "    <tr>\n",
       "      <th>7154</th>\n",
       "      <td>7</td>\n",
       "      <td>train</td>\n",
       "      <td>USDA ASKS TIGHT INSECT RULES FOR GRAIN SHIPMENTS</td>\n",
       "      <td>The U.S. Agriculture Department is proposing t...</td>\n",
       "      <td>usd ask tight insect rul grain ship u agricult...</td>\n",
       "    </tr>\n",
       "    <tr>\n",
       "      <th>9339</th>\n",
       "      <td>9</td>\n",
       "      <td>train</td>\n",
       "      <td>COMMUNICATIONS AND CABLE INC &amp;lt;CCAB&gt; 1ST QTR...</td>\n",
       "      <td>Oper shr seven cts vs loss nil     Oper net 98...</td>\n",
       "      <td>commun cabl int ccab &lt;num&gt; st qtr net op shr s...</td>\n",
       "    </tr>\n",
       "  </tbody>\n",
       "</table>\n",
       "</div>"
      ],
      "text/plain": [
       "       fileName purpose                                          doc.title  \\\n",
       "pid                                                                          \n",
       "14322        14   train                                                      \n",
       "18115        18    test  LOPAT INDUSTRIES &lt;LPAT.O> HAS PROFITABLE MONTH   \n",
       "1345          1   train   MAUI LAND AND PINAPPLE CO INC QUARTERLY DIVIDEND   \n",
       "7154          7   train   USDA ASKS TIGHT INSECT RULES FOR GRAIN SHIPMENTS   \n",
       "9339          9   train  COMMUNICATIONS AND CABLE INC &lt;CCAB> 1ST QTR...   \n",
       "\n",
       "                                                doc.text  \\\n",
       "pid                                                        \n",
       "14322   WALL STREET INDICES 1200   NYSE COMPOSITE    ...   \n",
       "18115  Lopat Industries Inc said it had its first pro...   \n",
       "1345   Qtly div 12-1/2 cts vs 12-1/2 cts     Pay Marc...   \n",
       "7154   The U.S. Agriculture Department is proposing t...   \n",
       "9339   Oper shr seven cts vs loss nil     Oper net 98...   \n",
       "\n",
       "                                          processed_text  \n",
       "pid                                                       \n",
       "14322  wal street ind <num> nys composit <num> nys in...  \n",
       "18115  lop industry lpat profit mon lop industry int ...  \n",
       "1345   mau land pinappl co int quart dividend qtly di...  \n",
       "7154   usd ask tight insect rul grain ship u agricult...  \n",
       "9339   commun cabl int ccab <num> st qtr net op shr s...  "
      ]
     },
     "execution_count": 31,
     "metadata": {},
     "output_type": "execute_result"
    }
   ],
   "source": [
    "docs.sample(5)"
   ]
  },
  {
   "cell_type": "code",
   "execution_count": 32,
   "metadata": {},
   "outputs": [
    {
     "name": "stdout",
     "output_type": "stream",
     "text": [
      "27694\n"
     ]
    }
   ],
   "source": [
    "print(get_words_count(docs.processed_text))"
   ]
  },
  {
   "cell_type": "code",
   "execution_count": 33,
   "metadata": {},
   "outputs": [
    {
     "data": {
      "text/plain": [
       "[Text(0.5,0,'frequency, %')]"
      ]
     },
     "execution_count": 33,
     "metadata": {},
     "output_type": "execute_result"
    },
    {
     "data": {
      "image/png": "[encoded data removed]",
      "text/plain": [
       "<Figure size 504x720 with 1 Axes>"
      ]
     },
     "metadata": {},
     "output_type": "display_data"
    }
   ],
   "source": [
    "# but what about word frequency?  \n",
    "(docs.processed_text\n",
    " .str.split(expand=True)\n",
    " .stack()\n",
    " .rename('word')\n",
    " .reset_index()\n",
    " .groupby('word').size().rename('cnt')\n",
    " .to_frame()\n",
    " .assign(percent = lambda x: 100*x.cnt/x.cnt.sum())\n",
    " .sort_values('cnt').tail(30)\n",
    ").percent.plot(kind='barh', color='steelblue', figsize=(7,10)).set(xlabel='frequency, %')"
   ]
  },
  {
   "cell_type": "code",
   "execution_count": 34,
   "metadata": {},
   "outputs": [],
   "source": [
    "# what if we need to filter only some topics and only docs with single topic?\n",
    "\n",
    "# define tpoics\n",
    "nice_topics = [\n",
    "    'money.fx',\n",
    "    'crude',\n",
    "    'grain',\n",
    "    'trade',\n",
    "    'interest'\n",
    "]"
   ]
  },
  {
   "cell_type": "code",
   "execution_count": 35,
   "metadata": {},
   "outputs": [
    {
     "data": {
      "text/html": [
       "<div>\n",
       "<style scoped>\n",
       "    .dataframe tbody tr th:only-of-type {\n",
       "        vertical-align: middle;\n",
       "    }\n",
       "\n",
       "    .dataframe tbody tr th {\n",
       "        vertical-align: top;\n",
       "    }\n",
       "\n",
       "    .dataframe thead th {\n",
       "        text-align: right;\n",
       "    }\n",
       "</style>\n",
       "<table border=\"1\" class=\"dataframe\">\n",
       "  <thead>\n",
       "    <tr style=\"text-align: right;\">\n",
       "      <th>topic</th>\n",
       "      <th>crude</th>\n",
       "      <th>grain</th>\n",
       "      <th>interest</th>\n",
       "      <th>money.fx</th>\n",
       "      <th>trade</th>\n",
       "    </tr>\n",
       "    <tr>\n",
       "      <th>pid</th>\n",
       "      <th></th>\n",
       "      <th></th>\n",
       "      <th></th>\n",
       "      <th></th>\n",
       "      <th></th>\n",
       "    </tr>\n",
       "  </thead>\n",
       "  <tbody>\n",
       "    <tr>\n",
       "      <th>11929</th>\n",
       "      <td>0</td>\n",
       "      <td>0</td>\n",
       "      <td>0</td>\n",
       "      <td>0</td>\n",
       "      <td>0</td>\n",
       "    </tr>\n",
       "    <tr>\n",
       "      <th>13536</th>\n",
       "      <td>0</td>\n",
       "      <td>0</td>\n",
       "      <td>0</td>\n",
       "      <td>0</td>\n",
       "      <td>0</td>\n",
       "    </tr>\n",
       "    <tr>\n",
       "      <th>1956</th>\n",
       "      <td>0</td>\n",
       "      <td>0</td>\n",
       "      <td>0</td>\n",
       "      <td>0</td>\n",
       "      <td>0</td>\n",
       "    </tr>\n",
       "  </tbody>\n",
       "</table>\n",
       "</div>"
      ],
      "text/plain": [
       "topic  crude  grain  interest  money.fx  trade\n",
       "pid                                           \n",
       "11929      0      0         0         0      0\n",
       "13536      0      0         0         0      0\n",
       "1956       0      0         0         0      0"
      ]
     },
     "execution_count": 35,
     "metadata": {},
     "output_type": "execute_result"
    }
   ],
   "source": [
    "# now we can filter topics DF as:\n",
    "nice_columns = topics.columns.isin(nice_topics) \n",
    "topics.loc[:,nice_columns].sample(3)"
   ]
  },
  {
   "cell_type": "code",
   "execution_count": 36,
   "metadata": {},
   "outputs": [
    {
     "data": {
      "text/plain": [
       "2566"
      ]
     },
     "execution_count": 36,
     "metadata": {},
     "output_type": "execute_result"
    }
   ],
   "source": [
    "# and we can get indexer to filter only rows (documents) with sum(topics)=1:\n",
    "nice_docs = topics.loc[:,topics.columns.isin(nice_topics)].sum(axis=1)==1\n",
    "\n",
    "topics[nice_docs].index.size"
   ]
  },
  {
   "cell_type": "code",
   "execution_count": 37,
   "metadata": {},
   "outputs": [
    {
     "data": {
      "text/html": [
       "<div>\n",
       "<style scoped>\n",
       "    .dataframe tbody tr th:only-of-type {\n",
       "        vertical-align: middle;\n",
       "    }\n",
       "\n",
       "    .dataframe tbody tr th {\n",
       "        vertical-align: top;\n",
       "    }\n",
       "\n",
       "    .dataframe thead th {\n",
       "        text-align: right;\n",
       "    }\n",
       "</style>\n",
       "<table border=\"1\" class=\"dataframe\">\n",
       "  <thead>\n",
       "    <tr style=\"text-align: right;\">\n",
       "      <th>topic</th>\n",
       "      <th>crude</th>\n",
       "      <th>grain</th>\n",
       "      <th>interest</th>\n",
       "      <th>money.fx</th>\n",
       "      <th>trade</th>\n",
       "      <th>total_topics</th>\n",
       "    </tr>\n",
       "    <tr>\n",
       "      <th>pid</th>\n",
       "      <th></th>\n",
       "      <th></th>\n",
       "      <th></th>\n",
       "      <th></th>\n",
       "      <th></th>\n",
       "      <th></th>\n",
       "    </tr>\n",
       "  </thead>\n",
       "  <tbody>\n",
       "    <tr>\n",
       "      <th>8677</th>\n",
       "      <td>0</td>\n",
       "      <td>0</td>\n",
       "      <td>1</td>\n",
       "      <td>0</td>\n",
       "      <td>0</td>\n",
       "      <td>1</td>\n",
       "    </tr>\n",
       "    <tr>\n",
       "      <th>9795</th>\n",
       "      <td>0</td>\n",
       "      <td>0</td>\n",
       "      <td>0</td>\n",
       "      <td>0</td>\n",
       "      <td>1</td>\n",
       "      <td>1</td>\n",
       "    </tr>\n",
       "    <tr>\n",
       "      <th>1692</th>\n",
       "      <td>1</td>\n",
       "      <td>0</td>\n",
       "      <td>0</td>\n",
       "      <td>0</td>\n",
       "      <td>0</td>\n",
       "      <td>1</td>\n",
       "    </tr>\n",
       "    <tr>\n",
       "      <th>3192</th>\n",
       "      <td>0</td>\n",
       "      <td>0</td>\n",
       "      <td>1</td>\n",
       "      <td>0</td>\n",
       "      <td>0</td>\n",
       "      <td>1</td>\n",
       "    </tr>\n",
       "    <tr>\n",
       "      <th>1709</th>\n",
       "      <td>1</td>\n",
       "      <td>0</td>\n",
       "      <td>0</td>\n",
       "      <td>0</td>\n",
       "      <td>0</td>\n",
       "      <td>1</td>\n",
       "    </tr>\n",
       "    <tr>\n",
       "      <th>4296</th>\n",
       "      <td>0</td>\n",
       "      <td>1</td>\n",
       "      <td>0</td>\n",
       "      <td>0</td>\n",
       "      <td>0</td>\n",
       "      <td>1</td>\n",
       "    </tr>\n",
       "    <tr>\n",
       "      <th>4048</th>\n",
       "      <td>0</td>\n",
       "      <td>0</td>\n",
       "      <td>0</td>\n",
       "      <td>0</td>\n",
       "      <td>1</td>\n",
       "      <td>1</td>\n",
       "    </tr>\n",
       "    <tr>\n",
       "      <th>3133</th>\n",
       "      <td>0</td>\n",
       "      <td>0</td>\n",
       "      <td>1</td>\n",
       "      <td>0</td>\n",
       "      <td>0</td>\n",
       "      <td>1</td>\n",
       "    </tr>\n",
       "    <tr>\n",
       "      <th>16366</th>\n",
       "      <td>1</td>\n",
       "      <td>0</td>\n",
       "      <td>0</td>\n",
       "      <td>0</td>\n",
       "      <td>0</td>\n",
       "      <td>1</td>\n",
       "    </tr>\n",
       "    <tr>\n",
       "      <th>14491</th>\n",
       "      <td>0</td>\n",
       "      <td>1</td>\n",
       "      <td>0</td>\n",
       "      <td>0</td>\n",
       "      <td>0</td>\n",
       "      <td>1</td>\n",
       "    </tr>\n",
       "  </tbody>\n",
       "</table>\n",
       "</div>"
      ],
      "text/plain": [
       "topic  crude  grain  interest  money.fx  trade  total_topics\n",
       "pid                                                         \n",
       "8677       0      0         1         0      0             1\n",
       "9795       0      0         0         0      1             1\n",
       "1692       1      0         0         0      0             1\n",
       "3192       0      0         1         0      0             1\n",
       "1709       1      0         0         0      0             1\n",
       "4296       0      1         0         0      0             1\n",
       "4048       0      0         0         0      1             1\n",
       "3133       0      0         1         0      0             1\n",
       "16366      1      0         0         0      0             1\n",
       "14491      0      1         0         0      0             1"
      ]
     },
     "execution_count": 37,
     "metadata": {},
     "output_type": "execute_result"
    }
   ],
   "source": [
    "# let's check:\n",
    "(topics.loc[nice_docs,nice_columns]\n",
    " .assign(total_topics = lambda x: x.sum(axis=1))\n",
    " .sort_values('total_topics')       \n",
    ").sample(10)"
   ]
  },
  {
   "cell_type": "code",
   "execution_count": 38,
   "metadata": {},
   "outputs": [
    {
     "data": {
      "text/html": [
       "<div>\n",
       "<style scoped>\n",
       "    .dataframe tbody tr th:only-of-type {\n",
       "        vertical-align: middle;\n",
       "    }\n",
       "\n",
       "    .dataframe tbody tr th {\n",
       "        vertical-align: top;\n",
       "    }\n",
       "\n",
       "    .dataframe thead th {\n",
       "        text-align: right;\n",
       "    }\n",
       "</style>\n",
       "<table border=\"1\" class=\"dataframe\">\n",
       "  <thead>\n",
       "    <tr style=\"text-align: right;\">\n",
       "      <th></th>\n",
       "      <th>fileName</th>\n",
       "      <th>purpose</th>\n",
       "      <th>doc.title</th>\n",
       "      <th>doc.text</th>\n",
       "      <th>processed_text</th>\n",
       "    </tr>\n",
       "    <tr>\n",
       "      <th>pid</th>\n",
       "      <th></th>\n",
       "      <th></th>\n",
       "      <th></th>\n",
       "      <th></th>\n",
       "      <th></th>\n",
       "    </tr>\n",
       "  </thead>\n",
       "  <tbody>\n",
       "    <tr>\n",
       "      <th>14270</th>\n",
       "      <td>14</td>\n",
       "      <td>train</td>\n",
       "      <td>VOLCKER SAYS FED POLICY NOT LINKED TO RATE RISE</td>\n",
       "      <td>Federal Reserve Board Chairman Paul Volcker sa...</td>\n",
       "      <td>volck say fed policy link rat ris fed reserv b...</td>\n",
       "    </tr>\n",
       "    <tr>\n",
       "      <th>15472</th>\n",
       "      <td>15</td>\n",
       "      <td>test</td>\n",
       "      <td>FAO SEES LOWER GLOBAL WHEAT, GRAIN OUTPUT IN 1987</td>\n",
       "      <td>The U.N. Food and Agriculture Organisation (FA...</td>\n",
       "      <td>fao see low glob whe grain output &lt;num&gt; u n fo...</td>\n",
       "    </tr>\n",
       "    <tr>\n",
       "      <th>2417</th>\n",
       "      <td>2</td>\n",
       "      <td>train</td>\n",
       "      <td>CONSENSUS BUILDS FOR WORLD AGRICULTURAL REFORM</td>\n",
       "      <td>Top U.S. and European farm trade and governmen...</td>\n",
       "      <td>consens build world agricult reform top u euro...</td>\n",
       "    </tr>\n",
       "    <tr>\n",
       "      <th>21363</th>\n",
       "      <td>21</td>\n",
       "      <td>test</td>\n",
       "      <td>COASTAL &amp;lt;CGP&gt; RAISES OIL POSTED PRICES</td>\n",
       "      <td>Coastal Corp said that effective October 16 it...</td>\n",
       "      <td>coast cgp rais oil post pric coast corp said e...</td>\n",
       "    </tr>\n",
       "    <tr>\n",
       "      <th>8240</th>\n",
       "      <td>8</td>\n",
       "      <td>train</td>\n",
       "      <td>GATT MEETING HEARS PLEA FOR AFRICAN DEBT RELIEF</td>\n",
       "      <td>Debt among African countries will continue to ...</td>\n",
       "      <td>gat meet hear ple afr debt reliev debt among a...</td>\n",
       "    </tr>\n",
       "  </tbody>\n",
       "</table>\n",
       "</div>"
      ],
      "text/plain": [
       "       fileName purpose                                          doc.title  \\\n",
       "pid                                                                          \n",
       "14270        14   train    VOLCKER SAYS FED POLICY NOT LINKED TO RATE RISE   \n",
       "15472        15    test  FAO SEES LOWER GLOBAL WHEAT, GRAIN OUTPUT IN 1987   \n",
       "2417          2   train     CONSENSUS BUILDS FOR WORLD AGRICULTURAL REFORM   \n",
       "21363        21    test          COASTAL &lt;CGP> RAISES OIL POSTED PRICES   \n",
       "8240          8   train    GATT MEETING HEARS PLEA FOR AFRICAN DEBT RELIEF   \n",
       "\n",
       "                                                doc.text  \\\n",
       "pid                                                        \n",
       "14270  Federal Reserve Board Chairman Paul Volcker sa...   \n",
       "15472  The U.N. Food and Agriculture Organisation (FA...   \n",
       "2417   Top U.S. and European farm trade and governmen...   \n",
       "21363  Coastal Corp said that effective October 16 it...   \n",
       "8240   Debt among African countries will continue to ...   \n",
       "\n",
       "                                          processed_text  \n",
       "pid                                                       \n",
       "14270  volck say fed policy link rat ris fed reserv b...  \n",
       "15472  fao see low glob whe grain output <num> u n fo...  \n",
       "2417   consens build world agricult reform top u euro...  \n",
       "21363  coast cgp rais oil post pric coast corp said e...  \n",
       "8240   gat meet hear ple afr debt reliev debt among a...  "
      ]
     },
     "execution_count": 38,
     "metadata": {},
     "output_type": "execute_result"
    }
   ],
   "source": [
    "# same indexer can be used on docs DF too:\n",
    "docs[nice_docs].sample(5)"
   ]
  },
  {
   "cell_type": "code",
   "execution_count": 39,
   "metadata": {},
   "outputs": [
    {
     "data": {
      "text/plain": [
       "8314"
      ]
     },
     "execution_count": 39,
     "metadata": {},
     "output_type": "execute_result"
    }
   ],
   "source": [
    "# if we need to deal with less frequent words:\n",
    "# total count of words in set:\n",
    "get_words_count(docs[nice_docs].processed_text)"
   ]
  },
  {
   "cell_type": "code",
   "execution_count": 40,
   "metadata": {},
   "outputs": [],
   "source": [
    "# get 3000 least frequent words:\n",
    "bad_words = (docs[nice_docs].processed_text\n",
    " .str.split(expand=True)\n",
    " .stack()\n",
    " .rename('word')\n",
    " .reset_index()\n",
    " .groupby('word').size()\n",
    " .sort_values()\n",
    " .head(3000).index.values\n",
    ")"
   ]
  },
  {
   "cell_type": "code",
   "execution_count": 41,
   "metadata": {},
   "outputs": [
    {
     "data": {
      "text/plain": [
       "array(['lien', 'legend', 'legionario', 'len', 'length', 'lentil', 'leny',\n",
       "       'leonard', 'leonardo', 'leonhard'], dtype=object)"
      ]
     },
     "execution_count": 41,
     "metadata": {},
     "output_type": "execute_result"
    }
   ],
   "source": [
    "bad_words[:10]"
   ]
  },
  {
   "cell_type": "code",
   "execution_count": 42,
   "metadata": {},
   "outputs": [],
   "source": [
    "def replace_words(string):\n",
    "    string = \" \".join(np.where(np.isin(np.array(string.split()), bad_words), '<unk>', np.array(string.split())))\n",
    "    return string"
   ]
  },
  {
   "cell_type": "code",
   "execution_count": 43,
   "metadata": {},
   "outputs": [
    {
     "data": {
      "text/plain": [
       "pid\n",
       "8212     finland febru trad surpl <num> mln markk finla...\n",
       "17274    baldrig say u want jap trad propos u secret co...\n",
       "2025     yeut put cur burd taiw kore respons apprecy ta...\n",
       "502      study group urg increas u oil reserv study gro...\n",
       "2952     hong kong bank leav interest rat unchang hong ...\n",
       "Name: processed_text, dtype: object"
      ]
     },
     "execution_count": 43,
     "metadata": {},
     "output_type": "execute_result"
    }
   ],
   "source": [
    "docs[nice_docs].processed_text.apply(replace_words).sample(5)"
   ]
  },
  {
   "cell_type": "code",
   "execution_count": null,
   "metadata": {},
   "outputs": [],
   "source": []
  },
  {
   "cell_type": "code",
   "execution_count": 44,
   "metadata": {},
   "outputs": [
    {
     "data": {
      "text/plain": [
       "purpose\n",
       "not-used     209\n",
       "test         652\n",
       "train       1705\n",
       "dtype: int64"
      ]
     },
     "execution_count": 44,
     "metadata": {},
     "output_type": "execute_result"
    }
   ],
   "source": [
    "# ok, we ready to precict something now:\n",
    "docs[nice_docs].groupby('purpose').size()"
   ]
  },
  {
   "cell_type": "code",
   "execution_count": 45,
   "metadata": {},
   "outputs": [
    {
     "data": {
      "text/html": [
       "<div>\n",
       "<style scoped>\n",
       "    .dataframe tbody tr th:only-of-type {\n",
       "        vertical-align: middle;\n",
       "    }\n",
       "\n",
       "    .dataframe tbody tr th {\n",
       "        vertical-align: top;\n",
       "    }\n",
       "\n",
       "    .dataframe thead th {\n",
       "        text-align: right;\n",
       "    }\n",
       "</style>\n",
       "<table border=\"1\" class=\"dataframe\">\n",
       "  <thead>\n",
       "    <tr style=\"text-align: right;\">\n",
       "      <th></th>\n",
       "      <th>purpose</th>\n",
       "      <th>topic</th>\n",
       "      <th>processed_text</th>\n",
       "    </tr>\n",
       "    <tr>\n",
       "      <th>pid</th>\n",
       "      <th></th>\n",
       "      <th></th>\n",
       "      <th></th>\n",
       "    </tr>\n",
       "  </thead>\n",
       "  <tbody>\n",
       "    <tr>\n",
       "      <th>17875</th>\n",
       "      <td>test</td>\n",
       "      <td>crude</td>\n",
       "      <td>sou kore increas duty crud import sou kore inc...</td>\n",
       "    </tr>\n",
       "    <tr>\n",
       "      <th>8302</th>\n",
       "      <td>train</td>\n",
       "      <td>money.fx</td>\n",
       "      <td>u treasury bak say cur within rang bet reflect...</td>\n",
       "    </tr>\n",
       "    <tr>\n",
       "      <th>16094</th>\n",
       "      <td>test</td>\n",
       "      <td>trade</td>\n",
       "      <td>taiw annount new round import tariff cut taiw ...</td>\n",
       "    </tr>\n",
       "    <tr>\n",
       "      <th>11025</th>\n",
       "      <td>train</td>\n",
       "      <td>crude</td>\n",
       "      <td>venezuel want boost refin capac venezuel stat ...</td>\n",
       "    </tr>\n",
       "    <tr>\n",
       "      <th>17943</th>\n",
       "      <td>test</td>\n",
       "      <td>interest</td>\n",
       "      <td>nakason sumit agr rat cut appropry prim min ya...</td>\n",
       "    </tr>\n",
       "    <tr>\n",
       "      <th>11392</th>\n",
       "      <td>train</td>\n",
       "      <td>grain</td>\n",
       "      <td>weath hurt yugoslav whe usd report unfav lat w...</td>\n",
       "    </tr>\n",
       "    <tr>\n",
       "      <th>6366</th>\n",
       "      <td>train</td>\n",
       "      <td>interest</td>\n",
       "      <td>nat westminst bank said cut bas rat &lt;num&gt; pct ...</td>\n",
       "    </tr>\n",
       "    <tr>\n",
       "      <th>21202</th>\n",
       "      <td>test</td>\n",
       "      <td>money.fx</td>\n",
       "      <td>g &lt;num&gt; seen fight keep cur pact intern monet ...</td>\n",
       "    </tr>\n",
       "    <tr>\n",
       "      <th>13404</th>\n",
       "      <td>train</td>\n",
       "      <td>money.fx</td>\n",
       "      <td>bundesbank set new repurchas tend bundesbank s...</td>\n",
       "    </tr>\n",
       "    <tr>\n",
       "      <th>6364</th>\n",
       "      <td>train</td>\n",
       "      <td>interest</td>\n",
       "      <td>bank england said invit borrow &lt;num&gt; pct lat t...</td>\n",
       "    </tr>\n",
       "  </tbody>\n",
       "</table>\n",
       "</div>"
      ],
      "text/plain": [
       "      purpose     topic                                     processed_text\n",
       "pid                                                                       \n",
       "17875    test     crude  sou kore increas duty crud import sou kore inc...\n",
       "8302    train  money.fx  u treasury bak say cur within rang bet reflect...\n",
       "16094    test     trade  taiw annount new round import tariff cut taiw ...\n",
       "11025   train     crude  venezuel want boost refin capac venezuel stat ...\n",
       "17943    test  interest  nakason sumit agr rat cut appropry prim min ya...\n",
       "11392   train     grain  weath hurt yugoslav whe usd report unfav lat w...\n",
       "6366    train  interest  nat westminst bank said cut bas rat <num> pct ...\n",
       "21202    test  money.fx  g <num> seen fight keep cur pact intern monet ...\n",
       "13404   train  money.fx  bundesbank set new repurchas tend bundesbank s...\n",
       "6364    train  interest  bank england said invit borrow <num> pct lat t..."
      ]
     },
     "execution_count": 45,
     "metadata": {},
     "output_type": "execute_result"
    }
   ],
   "source": [
    "(docs[nice_docs]\n",
    " .join((\n",
    "    topics.loc[nice_docs, nice_topics]\n",
    "     .apply(lambda x: np.where(x==0, np.nan, x))\n",
    "     .stack()\n",
    "     .dropna()\n",
    "     .reset_index()\n",
    "     .set_index('pid')\n",
    "     .topic\n",
    "    ))\n",
    "  .reindex(['purpose', 'topic', 'processed_text'], axis=1)\n",
    ").sample(10) "
   ]
  },
  {
   "cell_type": "code",
   "execution_count": null,
   "metadata": {},
   "outputs": [],
   "source": []
  }
 ],
 "metadata": {
  "kernelspec": {
   "display_name": "Python 3",
   "language": "python",
   "name": "python3"
  },
  "language_info": {
   "codemirror_mode": {
    "name": "ipython",
    "version": 3
   },
   "file_extension": ".py",
   "mimetype": "text/x-python",
   "name": "python",
   "nbconvert_exporter": "python",
   "pygments_lexer": "ipython3",
   "version": "3.6.5"
  }
 },
 "nbformat": 4,
 "nbformat_minor": 2
}
